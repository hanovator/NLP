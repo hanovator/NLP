{
  "nbformat": 4,
  "nbformat_minor": 0,
  "metadata": {
    "colab": {
      "name": "NaverMovieReviewSentimentAnalysis.ipynb",
      "provenance": [],
      "machine_shape": "hm"
    },
    "kernelspec": {
      "name": "python3",
      "display_name": "Python 3"
    },
    "accelerator": "GPU"
  },
  "cells": [
    {
      "cell_type": "code",
      "metadata": {
        "id": "JkiRVoIGpSyR",
        "colab_type": "code",
        "colab": {
          "base_uri": "https://localhost:8080/",
          "height": 666
        },
        "outputId": "dc3cc354-08f0-42c3-e396-78445f5a5e17"
      },
      "source": [
        "!apt-get update\n",
        "!apt-get install g++ openjdk-8-jdk \n",
        "!pip3 install konlpy"
      ],
      "execution_count": 1,
      "outputs": [
        {
          "output_type": "stream",
          "text": [
            "\r0% [Working]\r            \rIgn:1 https://developer.download.nvidia.com/compute/cuda/repos/ubuntu1804/x86_64  InRelease\n",
            "\r0% [Connecting to archive.ubuntu.com (91.189.88.152)] [Connecting to security.u\r                                                                               \rIgn:2 https://developer.download.nvidia.com/compute/machine-learning/repos/ubuntu1804/x86_64  InRelease\n",
            "\r0% [Connecting to archive.ubuntu.com (91.189.88.152)] [Connecting to security.u\r                                                                               \rHit:3 https://developer.download.nvidia.com/compute/cuda/repos/ubuntu1804/x86_64  Release\n",
            "\r0% [Connecting to archive.ubuntu.com (91.189.88.152)] [Connecting to security.u\r0% [Release.gpg gpgv 564 B] [Connecting to archive.ubuntu.com (91.189.88.152)] \r                                                                               \rHit:4 https://developer.download.nvidia.com/compute/machine-learning/repos/ubuntu1804/x86_64  Release\n",
            "\r0% [Release.gpg gpgv 564 B] [Waiting for headers] [Waiting for headers] [Waitin\r                                                                               \rHit:5 https://cloud.r-project.org/bin/linux/ubuntu bionic-cran35/ InRelease\n",
            "\r0% [Release.gpg gpgv 564 B] [Waiting for headers] [Waiting for headers] [Waitin\r                                                                               \rHit:6 http://archive.ubuntu.com/ubuntu bionic InRelease\n",
            "\r                                                                               \r0% [Release.gpg gpgv 564 B] [Waiting for headers] [Waiting for headers]\r                                                                       \rHit:7 http://ppa.launchpad.net/graphics-drivers/ppa/ubuntu bionic InRelease\n",
            "\r0% [Release.gpg gpgv 564 B] [Waiting for headers] [Waiting for headers] [Connec\r                                                                               \rGet:8 http://security.ubuntu.com/ubuntu bionic-security InRelease [88.7 kB]\n",
            "\r0% [Release.gpg gpgv 564 B] [Waiting for headers] [8 InRelease 2,586 B/88.7 kB \r0% [Waiting for headers] [8 InRelease 8,378 B/88.7 kB 9%] [Connecting to ppa.la\r0% [Release.gpg gpgv 564 B] [Waiting for headers] [8 InRelease 8,378 B/88.7 kB \r                                                                               \rGet:10 http://archive.ubuntu.com/ubuntu bionic-updates InRelease [88.7 kB]\n",
            "Hit:12 http://ppa.launchpad.net/marutter/c2d4u3.5/ubuntu bionic InRelease\n",
            "Get:13 http://archive.ubuntu.com/ubuntu bionic-backports InRelease [74.6 kB]\n",
            "Get:14 http://archive.ubuntu.com/ubuntu bionic-updates/main amd64 Packages [1,225 kB]\n",
            "Get:15 http://archive.ubuntu.com/ubuntu bionic-updates/universe amd64 Packages [1,385 kB]\n",
            "Fetched 2,862 kB in 3s (1,116 kB/s)\n",
            "Reading package lists... Done\n",
            "Reading package lists... Done\n",
            "Building dependency tree       \n",
            "Reading state information... Done\n",
            "g++ is already the newest version (4:7.4.0-1ubuntu2.3).\n",
            "openjdk-8-jdk is already the newest version (8u252-b09-1~18.04).\n",
            "0 upgraded, 0 newly installed, 0 to remove and 51 not upgraded.\n",
            "Requirement already satisfied: konlpy in /usr/local/lib/python3.6/dist-packages (0.5.2)\n",
            "Requirement already satisfied: lxml>=4.1.0 in /usr/local/lib/python3.6/dist-packages (from konlpy) (4.2.6)\n",
            "Requirement already satisfied: colorama in /usr/local/lib/python3.6/dist-packages (from konlpy) (0.4.3)\n",
            "Requirement already satisfied: tweepy>=3.7.0 in /usr/local/lib/python3.6/dist-packages (from konlpy) (3.8.0)\n",
            "Requirement already satisfied: numpy>=1.6 in /usr/local/lib/python3.6/dist-packages (from konlpy) (1.18.4)\n",
            "Requirement already satisfied: beautifulsoup4==4.6.0 in /usr/local/lib/python3.6/dist-packages (from konlpy) (4.6.0)\n",
            "Requirement already satisfied: JPype1>=0.7.0 in /usr/local/lib/python3.6/dist-packages (from konlpy) (0.7.5)\n",
            "Requirement already satisfied: requests-oauthlib>=0.7.0 in /usr/local/lib/python3.6/dist-packages (from tweepy>=3.7.0->konlpy) (1.3.0)\n",
            "Requirement already satisfied: six>=1.10.0 in /usr/local/lib/python3.6/dist-packages (from tweepy>=3.7.0->konlpy) (1.12.0)\n",
            "Requirement already satisfied: requests>=2.11.1 in /usr/local/lib/python3.6/dist-packages (from tweepy>=3.7.0->konlpy) (2.23.0)\n",
            "Requirement already satisfied: PySocks>=1.5.7 in /usr/local/lib/python3.6/dist-packages (from tweepy>=3.7.0->konlpy) (1.7.1)\n",
            "Requirement already satisfied: oauthlib>=3.0.0 in /usr/local/lib/python3.6/dist-packages (from requests-oauthlib>=0.7.0->tweepy>=3.7.0->konlpy) (3.1.0)\n",
            "Requirement already satisfied: urllib3!=1.25.0,!=1.25.1,<1.26,>=1.21.1 in /usr/local/lib/python3.6/dist-packages (from requests>=2.11.1->tweepy>=3.7.0->konlpy) (1.24.3)\n",
            "Requirement already satisfied: certifi>=2017.4.17 in /usr/local/lib/python3.6/dist-packages (from requests>=2.11.1->tweepy>=3.7.0->konlpy) (2020.4.5.1)\n",
            "Requirement already satisfied: idna<3,>=2.5 in /usr/local/lib/python3.6/dist-packages (from requests>=2.11.1->tweepy>=3.7.0->konlpy) (2.9)\n",
            "Requirement already satisfied: chardet<4,>=3.0.2 in /usr/local/lib/python3.6/dist-packages (from requests>=2.11.1->tweepy>=3.7.0->konlpy) (3.0.4)\n"
          ],
          "name": "stdout"
        }
      ]
    },
    {
      "cell_type": "code",
      "metadata": {
        "id": "SGMShPl6KXOJ",
        "colab_type": "code",
        "colab": {}
      },
      "source": [
        "import pandas as pd\n",
        "import urllib.request\n",
        "%matplotlib inline\n",
        "import matplotlib.pyplot as plt\n",
        "import re\n",
        "from konlpy.tag import Okt\n",
        "from tensorflow.keras.preprocessing.text import Tokenizer\n",
        "import numpy as np\n",
        "from tensorflow.keras.preprocessing.sequence import pad_sequences"
      ],
      "execution_count": 0,
      "outputs": []
    },
    {
      "cell_type": "code",
      "metadata": {
        "id": "oJZrnn-vKkTq",
        "colab_type": "code",
        "colab": {
          "base_uri": "https://localhost:8080/",
          "height": 34
        },
        "outputId": "f690ac77-f7c2-4ff1-db0e-76e00078558c"
      },
      "source": [
        "urllib.request.urlretrieve(\"https://raw.githubusercontent.com/e9t/nsmc/master/ratings_train.txt\", filename=\"ratings_train.txt\")\n",
        "urllib.request.urlretrieve(\"https://raw.githubusercontent.com/e9t/nsmc/master/ratings_test.txt\", filename=\"ratings_test.txt\")"
      ],
      "execution_count": 3,
      "outputs": [
        {
          "output_type": "execute_result",
          "data": {
            "text/plain": [
              "('ratings_test.txt', <http.client.HTTPMessage at 0x7f9985328b00>)"
            ]
          },
          "metadata": {
            "tags": []
          },
          "execution_count": 3
        }
      ]
    },
    {
      "cell_type": "code",
      "metadata": {
        "id": "X72t2-bCpjPJ",
        "colab_type": "code",
        "colab": {}
      },
      "source": [
        "train_data = pd.read_table('ratings_train.txt')\n",
        "test_data = pd.read_table('ratings_test.txt')"
      ],
      "execution_count": 0,
      "outputs": []
    },
    {
      "cell_type": "code",
      "metadata": {
        "id": "MzbsfvmwpvK5",
        "colab_type": "code",
        "colab": {
          "base_uri": "https://localhost:8080/",
          "height": 34
        },
        "outputId": "8d30b271-e20a-4977-c56b-1b4ba61be534"
      },
      "source": [
        "len(train_data)"
      ],
      "execution_count": 5,
      "outputs": [
        {
          "output_type": "execute_result",
          "data": {
            "text/plain": [
              "150000"
            ]
          },
          "metadata": {
            "tags": []
          },
          "execution_count": 5
        }
      ]
    },
    {
      "cell_type": "code",
      "metadata": {
        "id": "gQxpUOnBpyJi",
        "colab_type": "code",
        "colab": {
          "base_uri": "https://localhost:8080/",
          "height": 204
        },
        "outputId": "ae2922c2-ea0a-4e1d-80a9-97531011c7a7"
      },
      "source": [
        "train_data[:5]"
      ],
      "execution_count": 6,
      "outputs": [
        {
          "output_type": "execute_result",
          "data": {
            "text/html": [
              "<div>\n",
              "<style scoped>\n",
              "    .dataframe tbody tr th:only-of-type {\n",
              "        vertical-align: middle;\n",
              "    }\n",
              "\n",
              "    .dataframe tbody tr th {\n",
              "        vertical-align: top;\n",
              "    }\n",
              "\n",
              "    .dataframe thead th {\n",
              "        text-align: right;\n",
              "    }\n",
              "</style>\n",
              "<table border=\"1\" class=\"dataframe\">\n",
              "  <thead>\n",
              "    <tr style=\"text-align: right;\">\n",
              "      <th></th>\n",
              "      <th>id</th>\n",
              "      <th>document</th>\n",
              "      <th>label</th>\n",
              "    </tr>\n",
              "  </thead>\n",
              "  <tbody>\n",
              "    <tr>\n",
              "      <th>0</th>\n",
              "      <td>9976970</td>\n",
              "      <td>아 더빙.. 진짜 짜증나네요 목소리</td>\n",
              "      <td>0</td>\n",
              "    </tr>\n",
              "    <tr>\n",
              "      <th>1</th>\n",
              "      <td>3819312</td>\n",
              "      <td>흠...포스터보고 초딩영화줄....오버연기조차 가볍지 않구나</td>\n",
              "      <td>1</td>\n",
              "    </tr>\n",
              "    <tr>\n",
              "      <th>2</th>\n",
              "      <td>10265843</td>\n",
              "      <td>너무재밓었다그래서보는것을추천한다</td>\n",
              "      <td>0</td>\n",
              "    </tr>\n",
              "    <tr>\n",
              "      <th>3</th>\n",
              "      <td>9045019</td>\n",
              "      <td>교도소 이야기구먼 ..솔직히 재미는 없다..평점 조정</td>\n",
              "      <td>0</td>\n",
              "    </tr>\n",
              "    <tr>\n",
              "      <th>4</th>\n",
              "      <td>6483659</td>\n",
              "      <td>사이몬페그의 익살스런 연기가 돋보였던 영화!스파이더맨에서 늙어보이기만 했던 커스틴 ...</td>\n",
              "      <td>1</td>\n",
              "    </tr>\n",
              "  </tbody>\n",
              "</table>\n",
              "</div>"
            ],
            "text/plain": [
              "         id                                           document  label\n",
              "0   9976970                                아 더빙.. 진짜 짜증나네요 목소리      0\n",
              "1   3819312                  흠...포스터보고 초딩영화줄....오버연기조차 가볍지 않구나      1\n",
              "2  10265843                                  너무재밓었다그래서보는것을추천한다      0\n",
              "3   9045019                      교도소 이야기구먼 ..솔직히 재미는 없다..평점 조정      0\n",
              "4   6483659  사이몬페그의 익살스런 연기가 돋보였던 영화!스파이더맨에서 늙어보이기만 했던 커스틴 ...      1"
            ]
          },
          "metadata": {
            "tags": []
          },
          "execution_count": 6
        }
      ]
    },
    {
      "cell_type": "code",
      "metadata": {
        "id": "JT8fGx3Npz24",
        "colab_type": "code",
        "colab": {
          "base_uri": "https://localhost:8080/",
          "height": 34
        },
        "outputId": "9348de19-a0e0-4665-d975-5da53edf9c1a"
      },
      "source": [
        "len(test_data)"
      ],
      "execution_count": 7,
      "outputs": [
        {
          "output_type": "execute_result",
          "data": {
            "text/plain": [
              "50000"
            ]
          },
          "metadata": {
            "tags": []
          },
          "execution_count": 7
        }
      ]
    },
    {
      "cell_type": "code",
      "metadata": {
        "id": "znSXblviqFHn",
        "colab_type": "code",
        "colab": {
          "base_uri": "https://localhost:8080/",
          "height": 204
        },
        "outputId": "b5a71ae5-d3e1-4cd0-a16e-d76b3c0321ff"
      },
      "source": [
        "test_data[:5]"
      ],
      "execution_count": 8,
      "outputs": [
        {
          "output_type": "execute_result",
          "data": {
            "text/html": [
              "<div>\n",
              "<style scoped>\n",
              "    .dataframe tbody tr th:only-of-type {\n",
              "        vertical-align: middle;\n",
              "    }\n",
              "\n",
              "    .dataframe tbody tr th {\n",
              "        vertical-align: top;\n",
              "    }\n",
              "\n",
              "    .dataframe thead th {\n",
              "        text-align: right;\n",
              "    }\n",
              "</style>\n",
              "<table border=\"1\" class=\"dataframe\">\n",
              "  <thead>\n",
              "    <tr style=\"text-align: right;\">\n",
              "      <th></th>\n",
              "      <th>id</th>\n",
              "      <th>document</th>\n",
              "      <th>label</th>\n",
              "    </tr>\n",
              "  </thead>\n",
              "  <tbody>\n",
              "    <tr>\n",
              "      <th>0</th>\n",
              "      <td>6270596</td>\n",
              "      <td>굳 ㅋ</td>\n",
              "      <td>1</td>\n",
              "    </tr>\n",
              "    <tr>\n",
              "      <th>1</th>\n",
              "      <td>9274899</td>\n",
              "      <td>GDNTOPCLASSINTHECLUB</td>\n",
              "      <td>0</td>\n",
              "    </tr>\n",
              "    <tr>\n",
              "      <th>2</th>\n",
              "      <td>8544678</td>\n",
              "      <td>뭐야 이 평점들은.... 나쁘진 않지만 10점 짜리는 더더욱 아니잖아</td>\n",
              "      <td>0</td>\n",
              "    </tr>\n",
              "    <tr>\n",
              "      <th>3</th>\n",
              "      <td>6825595</td>\n",
              "      <td>지루하지는 않은데 완전 막장임... 돈주고 보기에는....</td>\n",
              "      <td>0</td>\n",
              "    </tr>\n",
              "    <tr>\n",
              "      <th>4</th>\n",
              "      <td>6723715</td>\n",
              "      <td>3D만 아니었어도 별 다섯 개 줬을텐데.. 왜 3D로 나와서 제 심기를 불편하게 하죠??</td>\n",
              "      <td>0</td>\n",
              "    </tr>\n",
              "  </tbody>\n",
              "</table>\n",
              "</div>"
            ],
            "text/plain": [
              "        id                                           document  label\n",
              "0  6270596                                                굳 ㅋ      1\n",
              "1  9274899                               GDNTOPCLASSINTHECLUB      0\n",
              "2  8544678             뭐야 이 평점들은.... 나쁘진 않지만 10점 짜리는 더더욱 아니잖아      0\n",
              "3  6825595                   지루하지는 않은데 완전 막장임... 돈주고 보기에는....      0\n",
              "4  6723715  3D만 아니었어도 별 다섯 개 줬을텐데.. 왜 3D로 나와서 제 심기를 불편하게 하죠??      0"
            ]
          },
          "metadata": {
            "tags": []
          },
          "execution_count": 8
        }
      ]
    },
    {
      "cell_type": "code",
      "metadata": {
        "id": "KPVSpeIgqHqG",
        "colab_type": "code",
        "colab": {
          "base_uri": "https://localhost:8080/",
          "height": 34
        },
        "outputId": "b641e227-c6c1-49b3-8d50-bee11ef43e7d"
      },
      "source": [
        "train_data['document'].nunique(), train_data['label'].nunique()"
      ],
      "execution_count": 9,
      "outputs": [
        {
          "output_type": "execute_result",
          "data": {
            "text/plain": [
              "(146182, 2)"
            ]
          },
          "metadata": {
            "tags": []
          },
          "execution_count": 9
        }
      ]
    },
    {
      "cell_type": "code",
      "metadata": {
        "id": "VWvq322NqPyJ",
        "colab_type": "code",
        "colab": {}
      },
      "source": [
        "train_data.drop_duplicates(subset=['document'], inplace=True)"
      ],
      "execution_count": 0,
      "outputs": []
    },
    {
      "cell_type": "code",
      "metadata": {
        "id": "cZtwYPs_qu7T",
        "colab_type": "code",
        "colab": {
          "base_uri": "https://localhost:8080/",
          "height": 34
        },
        "outputId": "ead11a15-9024-4890-93ad-be74259db2e2"
      },
      "source": [
        "len(train_data)"
      ],
      "execution_count": 11,
      "outputs": [
        {
          "output_type": "execute_result",
          "data": {
            "text/plain": [
              "146183"
            ]
          },
          "metadata": {
            "tags": []
          },
          "execution_count": 11
        }
      ]
    },
    {
      "cell_type": "code",
      "metadata": {
        "id": "D9qK73DBqzn_",
        "colab_type": "code",
        "colab": {
          "base_uri": "https://localhost:8080/",
          "height": 279
        },
        "outputId": "76503952-35a9-4634-82a2-11dcae80953e"
      },
      "source": [
        "train_data['label'].value_counts().plot(kind='bar')"
      ],
      "execution_count": 12,
      "outputs": [
        {
          "output_type": "execute_result",
          "data": {
            "text/plain": [
              "<matplotlib.axes._subplots.AxesSubplot at 0x7f9941dfb6a0>"
            ]
          },
          "metadata": {
            "tags": []
          },
          "execution_count": 12
        },
        {
          "output_type": "display_data",
          "data": {
            "image/png": "[encoded data removed]",
            "text/plain": [
              "<Figure size 432x288 with 1 Axes>"
            ]
          },
          "metadata": {
            "tags": [],
            "needs_background": "light"
          }
        }
      ]
    },
    {
      "cell_type": "code",
      "metadata": {
        "id": "CvLah4Keq6sJ",
        "colab_type": "code",
        "colab": {
          "base_uri": "https://localhost:8080/",
          "height": 111
        },
        "outputId": "d72b1a94-82d2-472c-f1be-d05f10604a8e"
      },
      "source": [
        "train_data.groupby('label').size().reset_index(name='count')"
      ],
      "execution_count": 13,
      "outputs": [
        {
          "output_type": "execute_result",
          "data": {
            "text/html": [
              "<div>\n",
              "<style scoped>\n",
              "    .dataframe tbody tr th:only-of-type {\n",
              "        vertical-align: middle;\n",
              "    }\n",
              "\n",
              "    .dataframe tbody tr th {\n",
              "        vertical-align: top;\n",
              "    }\n",
              "\n",
              "    .dataframe thead th {\n",
              "        text-align: right;\n",
              "    }\n",
              "</style>\n",
              "<table border=\"1\" class=\"dataframe\">\n",
              "  <thead>\n",
              "    <tr style=\"text-align: right;\">\n",
              "      <th></th>\n",
              "      <th>label</th>\n",
              "      <th>count</th>\n",
              "    </tr>\n",
              "  </thead>\n",
              "  <tbody>\n",
              "    <tr>\n",
              "      <th>0</th>\n",
              "      <td>0</td>\n",
              "      <td>73342</td>\n",
              "    </tr>\n",
              "    <tr>\n",
              "      <th>1</th>\n",
              "      <td>1</td>\n",
              "      <td>72841</td>\n",
              "    </tr>\n",
              "  </tbody>\n",
              "</table>\n",
              "</div>"
            ],
            "text/plain": [
              "   label  count\n",
              "0      0  73342\n",
              "1      1  72841"
            ]
          },
          "metadata": {
            "tags": []
          },
          "execution_count": 13
        }
      ]
    },
    {
      "cell_type": "code",
      "metadata": {
        "id": "tam7ZPDMrF3M",
        "colab_type": "code",
        "colab": {
          "base_uri": "https://localhost:8080/",
          "height": 34
        },
        "outputId": "e98b26d9-b50f-4dc4-cdce-e304e52bcc3c"
      },
      "source": [
        "train_data.isnull().values.any()"
      ],
      "execution_count": 14,
      "outputs": [
        {
          "output_type": "execute_result",
          "data": {
            "text/plain": [
              "True"
            ]
          },
          "metadata": {
            "tags": []
          },
          "execution_count": 14
        }
      ]
    },
    {
      "cell_type": "code",
      "metadata": {
        "id": "rHd1uF_frQp2",
        "colab_type": "code",
        "colab": {
          "base_uri": "https://localhost:8080/",
          "height": 85
        },
        "outputId": "ff000a3b-f6a7-42cd-fdd9-f2d254b2b683"
      },
      "source": [
        "train_data.isnull().sum()"
      ],
      "execution_count": 15,
      "outputs": [
        {
          "output_type": "execute_result",
          "data": {
            "text/plain": [
              "id          0\n",
              "document    1\n",
              "label       0\n",
              "dtype: int64"
            ]
          },
          "metadata": {
            "tags": []
          },
          "execution_count": 15
        }
      ]
    },
    {
      "cell_type": "code",
      "metadata": {
        "id": "cyX6lbIHrfnE",
        "colab_type": "code",
        "colab": {
          "base_uri": "https://localhost:8080/",
          "height": 80
        },
        "outputId": "cf041b99-3286-4b71-9465-e80cc48bafb2"
      },
      "source": [
        "train_data.loc[train_data.document.isnull()]"
      ],
      "execution_count": 16,
      "outputs": [
        {
          "output_type": "execute_result",
          "data": {
            "text/html": [
              "<div>\n",
              "<style scoped>\n",
              "    .dataframe tbody tr th:only-of-type {\n",
              "        vertical-align: middle;\n",
              "    }\n",
              "\n",
              "    .dataframe tbody tr th {\n",
              "        vertical-align: top;\n",
              "    }\n",
              "\n",
              "    .dataframe thead th {\n",
              "        text-align: right;\n",
              "    }\n",
              "</style>\n",
              "<table border=\"1\" class=\"dataframe\">\n",
              "  <thead>\n",
              "    <tr style=\"text-align: right;\">\n",
              "      <th></th>\n",
              "      <th>id</th>\n",
              "      <th>document</th>\n",
              "      <th>label</th>\n",
              "    </tr>\n",
              "  </thead>\n",
              "  <tbody>\n",
              "    <tr>\n",
              "      <th>25857</th>\n",
              "      <td>2172111</td>\n",
              "      <td>NaN</td>\n",
              "      <td>1</td>\n",
              "    </tr>\n",
              "  </tbody>\n",
              "</table>\n",
              "</div>"
            ],
            "text/plain": [
              "            id document  label\n",
              "25857  2172111      NaN      1"
            ]
          },
          "metadata": {
            "tags": []
          },
          "execution_count": 16
        }
      ]
    },
    {
      "cell_type": "code",
      "metadata": {
        "id": "L3FJ8RSIrr2h",
        "colab_type": "code",
        "colab": {
          "base_uri": "https://localhost:8080/",
          "height": 34
        },
        "outputId": "81f39a55-319e-4251-d7d7-e61b9909c954"
      },
      "source": [
        "train_data = train_data.dropna(how='any')\n",
        "train_data.isnull().values.any()"
      ],
      "execution_count": 17,
      "outputs": [
        {
          "output_type": "execute_result",
          "data": {
            "text/plain": [
              "False"
            ]
          },
          "metadata": {
            "tags": []
          },
          "execution_count": 17
        }
      ]
    },
    {
      "cell_type": "code",
      "metadata": {
        "id": "_fi5t-hasKbc",
        "colab_type": "code",
        "colab": {
          "base_uri": "https://localhost:8080/",
          "height": 34
        },
        "outputId": "98d3f011-4e8e-4366-d562-00623647b300"
      },
      "source": [
        "len(train_data)"
      ],
      "execution_count": 18,
      "outputs": [
        {
          "output_type": "execute_result",
          "data": {
            "text/plain": [
              "146182"
            ]
          },
          "metadata": {
            "tags": []
          },
          "execution_count": 18
        }
      ]
    },
    {
      "cell_type": "code",
      "metadata": {
        "id": "RmII8OrZsMlk",
        "colab_type": "code",
        "colab": {
          "base_uri": "https://localhost:8080/",
          "height": 204
        },
        "outputId": "35a14112-fda7-4e45-fe5d-acef334ff602"
      },
      "source": [
        "train_data['document'] = train_data['document'].str.replace('[^ㄱ-ㅎㅏ-ㅣ가-힣]','')\n",
        "train_data[:5]"
      ],
      "execution_count": 19,
      "outputs": [
        {
          "output_type": "execute_result",
          "data": {
            "text/html": [
              "<div>\n",
              "<style scoped>\n",
              "    .dataframe tbody tr th:only-of-type {\n",
              "        vertical-align: middle;\n",
              "    }\n",
              "\n",
              "    .dataframe tbody tr th {\n",
              "        vertical-align: top;\n",
              "    }\n",
              "\n",
              "    .dataframe thead th {\n",
              "        text-align: right;\n",
              "    }\n",
              "</style>\n",
              "<table border=\"1\" class=\"dataframe\">\n",
              "  <thead>\n",
              "    <tr style=\"text-align: right;\">\n",
              "      <th></th>\n",
              "      <th>id</th>\n",
              "      <th>document</th>\n",
              "      <th>label</th>\n",
              "    </tr>\n",
              "  </thead>\n",
              "  <tbody>\n",
              "    <tr>\n",
              "      <th>0</th>\n",
              "      <td>9976970</td>\n",
              "      <td>아더빙진짜짜증나네요목소리</td>\n",
              "      <td>0</td>\n",
              "    </tr>\n",
              "    <tr>\n",
              "      <th>1</th>\n",
              "      <td>3819312</td>\n",
              "      <td>흠포스터보고초딩영화줄오버연기조차가볍지않구나</td>\n",
              "      <td>1</td>\n",
              "    </tr>\n",
              "    <tr>\n",
              "      <th>2</th>\n",
              "      <td>10265843</td>\n",
              "      <td>너무재밓었다그래서보는것을추천한다</td>\n",
              "      <td>0</td>\n",
              "    </tr>\n",
              "    <tr>\n",
              "      <th>3</th>\n",
              "      <td>9045019</td>\n",
              "      <td>교도소이야기구먼솔직히재미는없다평점조정</td>\n",
              "      <td>0</td>\n",
              "    </tr>\n",
              "    <tr>\n",
              "      <th>4</th>\n",
              "      <td>6483659</td>\n",
              "      <td>사이몬페그의익살스런연기가돋보였던영화스파이더맨에서늙어보이기만했던커스틴던스트가너무나도이...</td>\n",
              "      <td>1</td>\n",
              "    </tr>\n",
              "  </tbody>\n",
              "</table>\n",
              "</div>"
            ],
            "text/plain": [
              "         id                                           document  label\n",
              "0   9976970                                      아더빙진짜짜증나네요목소리      0\n",
              "1   3819312                            흠포스터보고초딩영화줄오버연기조차가볍지않구나      1\n",
              "2  10265843                                  너무재밓었다그래서보는것을추천한다      0\n",
              "3   9045019                               교도소이야기구먼솔직히재미는없다평점조정      0\n",
              "4   6483659  사이몬페그의익살스런연기가돋보였던영화스파이더맨에서늙어보이기만했던커스틴던스트가너무나도이...      1"
            ]
          },
          "metadata": {
            "tags": []
          },
          "execution_count": 19
        }
      ]
    },
    {
      "cell_type": "code",
      "metadata": {
        "id": "PUFZV5icsyar",
        "colab_type": "code",
        "colab": {
          "base_uri": "https://localhost:8080/",
          "height": 85
        },
        "outputId": "ce738d17-2e74-4392-e9f4-ef75857463cb"
      },
      "source": [
        "train_data['document'].replace('', np.nan, inplace=True)\n",
        "train_data.isnull().sum()"
      ],
      "execution_count": 20,
      "outputs": [
        {
          "output_type": "execute_result",
          "data": {
            "text/plain": [
              "id            0\n",
              "document    789\n",
              "label         0\n",
              "dtype: int64"
            ]
          },
          "metadata": {
            "tags": []
          },
          "execution_count": 20
        }
      ]
    },
    {
      "cell_type": "code",
      "metadata": {
        "id": "fqqAQggmtPP_",
        "colab_type": "code",
        "colab": {
          "base_uri": "https://localhost:8080/",
          "height": 204
        },
        "outputId": "2c0e8d2a-ae72-4e80-ef68-5ea4d5c4bab9"
      },
      "source": [
        "train_data.loc[train_data.document.isnull()][:5]"
      ],
      "execution_count": 21,
      "outputs": [
        {
          "output_type": "execute_result",
          "data": {
            "text/html": [
              "<div>\n",
              "<style scoped>\n",
              "    .dataframe tbody tr th:only-of-type {\n",
              "        vertical-align: middle;\n",
              "    }\n",
              "\n",
              "    .dataframe tbody tr th {\n",
              "        vertical-align: top;\n",
              "    }\n",
              "\n",
              "    .dataframe thead th {\n",
              "        text-align: right;\n",
              "    }\n",
              "</style>\n",
              "<table border=\"1\" class=\"dataframe\">\n",
              "  <thead>\n",
              "    <tr style=\"text-align: right;\">\n",
              "      <th></th>\n",
              "      <th>id</th>\n",
              "      <th>document</th>\n",
              "      <th>label</th>\n",
              "    </tr>\n",
              "  </thead>\n",
              "  <tbody>\n",
              "    <tr>\n",
              "      <th>404</th>\n",
              "      <td>4221289</td>\n",
              "      <td>NaN</td>\n",
              "      <td>0</td>\n",
              "    </tr>\n",
              "    <tr>\n",
              "      <th>412</th>\n",
              "      <td>9509970</td>\n",
              "      <td>NaN</td>\n",
              "      <td>1</td>\n",
              "    </tr>\n",
              "    <tr>\n",
              "      <th>470</th>\n",
              "      <td>10147571</td>\n",
              "      <td>NaN</td>\n",
              "      <td>1</td>\n",
              "    </tr>\n",
              "    <tr>\n",
              "      <th>584</th>\n",
              "      <td>7117896</td>\n",
              "      <td>NaN</td>\n",
              "      <td>0</td>\n",
              "    </tr>\n",
              "    <tr>\n",
              "      <th>593</th>\n",
              "      <td>6478189</td>\n",
              "      <td>NaN</td>\n",
              "      <td>0</td>\n",
              "    </tr>\n",
              "  </tbody>\n",
              "</table>\n",
              "</div>"
            ],
            "text/plain": [
              "           id document  label\n",
              "404   4221289      NaN      0\n",
              "412   9509970      NaN      1\n",
              "470  10147571      NaN      1\n",
              "584   7117896      NaN      0\n",
              "593   6478189      NaN      0"
            ]
          },
          "metadata": {
            "tags": []
          },
          "execution_count": 21
        }
      ]
    },
    {
      "cell_type": "code",
      "metadata": {
        "id": "DdvnD1rmtYDx",
        "colab_type": "code",
        "colab": {
          "base_uri": "https://localhost:8080/",
          "height": 34
        },
        "outputId": "b56a3115-aafc-438c-b319-102e18c98d58"
      },
      "source": [
        "train_data = train_data.dropna(how = 'any')\n",
        "len(train_data)"
      ],
      "execution_count": 22,
      "outputs": [
        {
          "output_type": "execute_result",
          "data": {
            "text/plain": [
              "145393"
            ]
          },
          "metadata": {
            "tags": []
          },
          "execution_count": 22
        }
      ]
    },
    {
      "cell_type": "code",
      "metadata": {
        "id": "saLVaeudtiFB",
        "colab_type": "code",
        "colab": {
          "base_uri": "https://localhost:8080/",
          "height": 34
        },
        "outputId": "63febb4f-de71-46eb-91cd-4f444e7bb418"
      },
      "source": [
        "test_data.drop_duplicates(subset=['document'], inplace=True)\n",
        "test_data['document'] = test_data['document'].str.replace('[^ㄱ-ㅎㅏ-ㅣ가-힣]','')\n",
        "test_data['document'].replace('', np.nan, inplace=True)\n",
        "test_data = test_data.dropna(how='any')\n",
        "len(test_data)"
      ],
      "execution_count": 23,
      "outputs": [
        {
          "output_type": "execute_result",
          "data": {
            "text/plain": [
              "48852"
            ]
          },
          "metadata": {
            "tags": []
          },
          "execution_count": 23
        }
      ]
    },
    {
      "cell_type": "code",
      "metadata": {
        "id": "iK0oYkTmuIG-",
        "colab_type": "code",
        "colab": {}
      },
      "source": [
        "stopwords = ['의','가','이','은','들','는','좀','잘','걍','과','도','를','으로','자','에','와','한','하다']"
      ],
      "execution_count": 0,
      "outputs": []
    },
    {
      "cell_type": "code",
      "metadata": {
        "id": "3QGQyhnsuRxT",
        "colab_type": "code",
        "colab": {
          "base_uri": "https://localhost:8080/",
          "height": 34
        },
        "outputId": "41448a15-c2ae-43bd-bf9d-cbb45b071af9"
      },
      "source": [
        "okt = Okt()\n",
        "okt.morphs('무비가 아주 좋네요 이런영화 또 나왔으면 좋겠어요!!', stem=True)"
      ],
      "execution_count": 25,
      "outputs": [
        {
          "output_type": "execute_result",
          "data": {
            "text/plain": [
              "['무비', '가', '아주', '좋다', '이런', '영화', '또', '나오다', '좋다', '!!']"
            ]
          },
          "metadata": {
            "tags": []
          },
          "execution_count": 25
        }
      ]
    },
    {
      "cell_type": "code",
      "metadata": {
        "id": "5yIDKBnGxU1x",
        "colab_type": "code",
        "colab": {}
      },
      "source": [
        "X_train = []\n",
        "for sentence in train_data['document']:\n",
        "  temp_X = []\n",
        "  temp_X = okt.morphs(sentence, stem=True)\n",
        "  temp_X = [word for word in temp_X if not word in stopwords]\n",
        "  X_train.append(temp_X)"
      ],
      "execution_count": 0,
      "outputs": []
    },
    {
      "cell_type": "code",
      "metadata": {
        "id": "8jkKANYbyCFT",
        "colab_type": "code",
        "colab": {
          "base_uri": "https://localhost:8080/",
          "height": 68
        },
        "outputId": "7c679044-ec09-48c3-f2e3-e56c448f1373"
      },
      "source": [
        "X_train[:3]"
      ],
      "execution_count": 27,
      "outputs": [
        {
          "output_type": "execute_result",
          "data": {
            "text/plain": [
              "[['아더', '빙', '진짜', '짜증나다', '목소리'],\n",
              " ['흠', '포스터', '보고', '초딩', '영화', '줄', '오버', '연기', '조차', '가볍다', '않다'],\n",
              " ['너', '무재', '밓었', '다그', '래서', '보다', '추천', '다']]"
            ]
          },
          "metadata": {
            "tags": []
          },
          "execution_count": 27
        }
      ]
    },
    {
      "cell_type": "code",
      "metadata": {
        "id": "bYyQPamjyM9n",
        "colab_type": "code",
        "colab": {}
      },
      "source": [
        "X_test = []\n",
        "for sentence in test_data['document']:\n",
        "  temp_X = []\n",
        "  temp_X = okt.morphs(sentence, stem=True)\n",
        "  temp_X = [word for word in temp_X if not word in stopwords]\n",
        "  X_test.append(temp_X)"
      ],
      "execution_count": 0,
      "outputs": []
    },
    {
      "cell_type": "code",
      "metadata": {
        "id": "_76-hBmfyoH2",
        "colab_type": "code",
        "colab": {}
      },
      "source": [
        "tokenizer = Tokenizer()\n",
        "tokenizer.fit_on_texts(X_train)"
      ],
      "execution_count": 0,
      "outputs": []
    },
    {
      "cell_type": "code",
      "metadata": {
        "id": "YmcjpEShy6Te",
        "colab_type": "code",
        "colab": {
          "base_uri": "https://localhost:8080/",
          "height": 1000
        },
        "outputId": "f7946dc9-52e2-48aa-a1ca-a2a8dcb95096"
      },
      "source": [
        "tokenizer.word_index"
      ],
      "execution_count": 30,
      "outputs": [
        {
          "output_type": "execute_result",
          "data": {
            "text/plain": [
              "{'영화': 1,\n",
              " '보다': 2,\n",
              " '을': 3,\n",
              " '없다': 4,\n",
              " '이다': 5,\n",
              " '좋다': 6,\n",
              " '다': 7,\n",
              " '너무': 8,\n",
              " '하': 9,\n",
              " '정말': 10,\n",
              " '재밌다': 11,\n",
              " '적': 12,\n",
              " '되다': 13,\n",
              " '같다': 14,\n",
              " '있다': 15,\n",
              " '만': 16,\n",
              " '진짜': 17,\n",
              " '않다': 18,\n",
              " '로': 19,\n",
              " '아니다': 20,\n",
              " '에서': 21,\n",
              " '내': 22,\n",
              " '평점': 23,\n",
              " '그': 24,\n",
              " '최고': 25,\n",
              " '인': 26,\n",
              " '나': 27,\n",
              " '연기': 28,\n",
              " '생각': 29,\n",
              " '스토리': 30,\n",
              " '점': 31,\n",
              " '게': 32,\n",
              " '이영화': 33,\n",
              " '드라마': 34,\n",
              " '감동': 35,\n",
              " '사람': 36,\n",
              " '만들다': 37,\n",
              " '고': 38,\n",
              " '요': 39,\n",
              " '나오다': 40,\n",
              " '아깝다': 41,\n",
              " '이런': 42,\n",
              " '지': 43,\n",
              " 'ㅋㅋ': 44,\n",
              " '보고': 45,\n",
              " '재미있다': 46,\n",
              " '배우': 47,\n",
              " '왜': 48,\n",
              " '감독': 49,\n",
              " '때': 50,\n",
              " '네': 51,\n",
              " '들다': 52,\n",
              " '하고': 53,\n",
              " '그냥': 54,\n",
              " '아': 55,\n",
              " '재미없다': 56,\n",
              " '시간': 57,\n",
              " '까지': 58,\n",
              " '못': 59,\n",
              " '중': 60,\n",
              " '것': 61,\n",
              " '지루하다': 62,\n",
              " '뭐': 63,\n",
              " '가다': 64,\n",
              " '재미': 65,\n",
              " '쓰레기': 66,\n",
              " '말': 67,\n",
              " '면': 68,\n",
              " '주다': 69,\n",
              " '본': 70,\n",
              " '모르다': 71,\n",
              " '작품': 72,\n",
              " '알다': 73,\n",
              " '더': 74,\n",
              " '오다': 75,\n",
              " '거': 76,\n",
              " '자다': 77,\n",
              " '그렇다': 78,\n",
              " '사랑': 79,\n",
              " '마지막': 80,\n",
              " '저': 81,\n",
              " '대': 82,\n",
              " '정도': 83,\n",
              " '화': 84,\n",
              " 'ㅠㅠ': 85,\n",
              " '이나': 86,\n",
              " '많다': 87,\n",
              " '완전': 88,\n",
              " 'ㅋㅋㅋ': 89,\n",
              " '처음': 90,\n",
              " '라': 91,\n",
              " 'ㅋ': 92,\n",
              " '안되다': 93,\n",
              " '개': 94,\n",
              " '액션': 95,\n",
              " '이렇게': 96,\n",
              " '주인공': 97,\n",
              " '니': 98,\n",
              " '최악': 99,\n",
              " '내용': 100,\n",
              " '느낌': 101,\n",
              " '싶다': 102,\n",
              " '이렇다': 103,\n",
              " 'ㅡㅡ': 104,\n",
              " '안': 105,\n",
              " '이야기': 106,\n",
              " '성': 107,\n",
              " '인데': 108,\n",
              " '넘다': 109,\n",
              " '좋아하다': 110,\n",
              " '연출': 111,\n",
              " '명작': 112,\n",
              " '받다': 113,\n",
              " '돈': 114,\n",
              " '서': 115,\n",
              " '장면': 116,\n",
              " '끝': 117,\n",
              " '기': 118,\n",
              " '역시': 119,\n",
              " '임': 120,\n",
              " '많이': 121,\n",
              " '그리고': 122,\n",
              " '다시': 123,\n",
              " '늘다': 124,\n",
              " '볼': 125,\n",
              " '남다': 126,\n",
              " '년': 127,\n",
              " '차다': 128,\n",
              " '괜찮다': 129,\n",
              " '별': 130,\n",
              " '버리다': 131,\n",
              " '때문': 132,\n",
              " '지금': 133,\n",
              " '영': 134,\n",
              " '이건': 135,\n",
              " '분': 136,\n",
              " '연': 137,\n",
              " '라고': 138,\n",
              " '느끼다': 139,\n",
              " '별로': 140,\n",
              " '두': 141,\n",
              " '부터': 142,\n",
              " '나다': 143,\n",
              " '아름답다': 144,\n",
              " '여자': 145,\n",
              " '먹다': 146,\n",
              " '걸': 147,\n",
              " '랑': 148,\n",
              " '야': 149,\n",
              " '야하다': 150,\n",
              " '해주다': 151,\n",
              " '님': 152,\n",
              " '무슨': 153,\n",
              " '여': 154,\n",
              " '난': 155,\n",
              " '엔': 156,\n",
              " '뻔하다': 157,\n",
              " '결말': 158,\n",
              " 'ㅎㅎ': 159,\n",
              " '짱': 160,\n",
              " '끄다': 161,\n",
              " '이고': 162,\n",
              " '보기': 163,\n",
              " '일': 164,\n",
              " '지만': 165,\n",
              " '꼭': 166,\n",
              " '보여주다': 167,\n",
              " '인생': 168,\n",
              " '아쉽다': 169,\n",
              " '에게': 170,\n",
              " '소재': 171,\n",
              " '마음': 172,\n",
              " '이해': 173,\n",
              " '수준': 174,\n",
              " '맞다': 175,\n",
              " '어리다': 176,\n",
              " '장': 177,\n",
              " '한번': 178,\n",
              " '현실': 179,\n",
              " '기억': 180,\n",
              " '또': 181,\n",
              " '무섭다': 182,\n",
              " '전': 183,\n",
              " '재다': 184,\n",
              " '듯': 185,\n",
              " '제': 186,\n",
              " '하나': 187,\n",
              " '씨': 188,\n",
              " '되어다': 189,\n",
              " '매력': 190,\n",
              " '냐': 191,\n",
              " '가슴': 192,\n",
              " '급': 193,\n",
              " '뿐': 194,\n",
              " '끝나다': 195,\n",
              " '웃기다': 196,\n",
              " '슬프다': 197,\n",
              " '없이': 198,\n",
              " '애': 199,\n",
              " '편': 200,\n",
              " '낮다': 201,\n",
              " '높다': 202,\n",
              " '멋지다': 203,\n",
              " '전개': 204,\n",
              " '죽다': 205,\n",
              " '속': 206,\n",
              " '남자': 207,\n",
              " '라는': 208,\n",
              " '반전': 209,\n",
              " '유치하다': 210,\n",
              " '아이': 211,\n",
              " '음악': 212,\n",
              " '시': 213,\n",
              " '너': 214,\n",
              " '이네': 215,\n",
              " '솔직하다': 216,\n",
              " '한국': 217,\n",
              " '쓰다': 218,\n",
              " '어': 219,\n",
              " '원작': 220,\n",
              " '크다': 221,\n",
              " '든': 222,\n",
              " '눈물': 223,\n",
              " '자체': 224,\n",
              " '내다': 225,\n",
              " '추천': 226,\n",
              " '인지': 227,\n",
              " '어떻다': 228,\n",
              " '인간': 229,\n",
              " '말다': 230,\n",
              " '찍다': 231,\n",
              " '작': 232,\n",
              " '허다': 233,\n",
              " '간': 234,\n",
              " '캐릭터': 235,\n",
              " '모든': 236,\n",
              " '함': 237,\n",
              " '다른': 238,\n",
              " '뭔': 239,\n",
              " 'ㅋㅋㅋㅋ': 240,\n",
              " '기도': 241,\n",
              " '이쁘다': 242,\n",
              " '이라': 243,\n",
              " '돼다': 244,\n",
              " '살다': 245,\n",
              " '눈': 246,\n",
              " '움': 247,\n",
              " '짜다': 248,\n",
              " '짜증나다': 249,\n",
              " '처럼': 250,\n",
              " '연기력': 251,\n",
              " '귀엽다': 252,\n",
              " '인가': 253,\n",
              " '건지다': 254,\n",
              " '기대하다': 255,\n",
              " '공감': 256,\n",
              " '대박': 257,\n",
              " '미치다': 258,\n",
              " '코미디': 259,\n",
              " '표현': 260,\n",
              " '해': 261,\n",
              " '시리즈': 262,\n",
              " '그래도': 263,\n",
              " '부분': 264,\n",
              " '치다': 265,\n",
              " '우리': 266,\n",
              " '모습': 267,\n",
              " 'ㅜㅜ': 268,\n",
              " 'ㅠ': 269,\n",
              " '개봉': 270,\n",
              " '이랑': 271,\n",
              " '시키다': 272,\n",
              " '이지': 273,\n",
              " '에는': 274,\n",
              " '영상': 275,\n",
              " '여운': 276,\n",
              " '제목': 277,\n",
              " '근데': 278,\n",
              " '중간': 279,\n",
              " '믿다': 280,\n",
              " '몰입': 281,\n",
              " '뭔가': 282,\n",
              " '보이다': 283,\n",
              " '가족': 284,\n",
              " '알': 285,\n",
              " '계속': 286,\n",
              " '실망': 287,\n",
              " '번': 288,\n",
              " '진심': 289,\n",
              " '이상': 290,\n",
              " '떨어지다': 291,\n",
              " '전혀': 292,\n",
              " '대단하다': 293,\n",
              " '극': 294,\n",
              " '보지': 295,\n",
              " '모두': 296,\n",
              " '가장': 297,\n",
              " 'ㅎ': 298,\n",
              " '웃다': 299,\n",
              " '일본': 300,\n",
              " '요즘': 301,\n",
              " '잔잔하다': 302,\n",
              " '작가': 303,\n",
              " '그런': 304,\n",
              " '스릴러': 305,\n",
              " '긴장감': 306,\n",
              " '이라는': 307,\n",
              " '서다': 308,\n",
              " '가보다': 309,\n",
              " '용도': 310,\n",
              " '해보다': 311,\n",
              " '상': 312,\n",
              " '기분': 313,\n",
              " '잼': 314,\n",
              " '잇다': 315,\n",
              " '극장': 316,\n",
              " '빠지다': 317,\n",
              " '특히': 318,\n",
              " '지다': 319,\n",
              " '식': 320,\n",
              " '한테': 321,\n",
              " '공포': 322,\n",
              " '애니': 323,\n",
              " '알바': 324,\n",
              " '위': 325,\n",
              " '서점': 326,\n",
              " '점수': 327,\n",
              " '개인': 328,\n",
              " '력': 329,\n",
              " '이란': 330,\n",
              " '노래': 331,\n",
              " '노잼': 332,\n",
              " '깊다': 333,\n",
              " '공포영화': 334,\n",
              " '나름': 335,\n",
              " '예쁘다': 336,\n",
              " '그리다': 337,\n",
              " '조금': 338,\n",
              " '용': 339,\n",
              " '에도': 340,\n",
              " '시작': 341,\n",
              " '이상하다': 342,\n",
              " '느껴지다': 343,\n",
              " '삶': 344,\n",
              " '의미': 345,\n",
              " '데': 346,\n",
              " '명': 347,\n",
              " '필요없다': 348,\n",
              " '따다': 349,\n",
              " '용이': 350,\n",
              " '위해': 351,\n",
              " '어설프다': 352,\n",
              " '한국영': 353,\n",
              " '웃음': 354,\n",
              " '딱': 355,\n",
              " '밖에': 356,\n",
              " '점도': 357,\n",
              " '차라리': 358,\n",
              " '친구': 359,\n",
              " '아주': 360,\n",
              " '굿': 361,\n",
              " '감': 362,\n",
              " '놈': 363,\n",
              " '따뜻하다': 364,\n",
              " '생각나다': 365,\n",
              " '막장': 366,\n",
              " '빼다': 367,\n",
              " '훌륭하다': 368,\n",
              " '잘만': 369,\n",
              " '들이다': 370,\n",
              " '아무': 371,\n",
              " '기다': 372,\n",
              " '죽이다': 373,\n",
              " '씬': 374,\n",
              " '대사': 375,\n",
              " '이제': 376,\n",
              " '설정': 377,\n",
              " '이유': 378,\n",
              " '년대': 379,\n",
              " '원': 380,\n",
              " '에나': 381,\n",
              " '반': 382,\n",
              " '영화로': 383,\n",
              " '무엇': 384,\n",
              " '억': 385,\n",
              " '이라고': 386,\n",
              " '욕': 387,\n",
              " '다르다': 388,\n",
              " '도안': 389,\n",
              " '마다': 390,\n",
              " '아직도': 391,\n",
              " '초반': 392,\n",
              " '미국': 393,\n",
              " '후': 394,\n",
              " '찾다': 395,\n",
              " '우리나라': 396,\n",
              " '울다': 397,\n",
              " '어이없다': 398,\n",
              " '출연': 399,\n",
              " '힘들다': 400,\n",
              " '조': 401,\n",
              " '써다': 402,\n",
              " '앞': 403,\n",
              " '도대체': 404,\n",
              " '수작': 405,\n",
              " '기대': 406,\n",
              " '줄': 407,\n",
              " '답답하다': 408,\n",
              " '엄청': 409,\n",
              " '싫다': 410,\n",
              " '비다': 411,\n",
              " '멋있다': 412,\n",
              " '아프다': 413,\n",
              " '사실': 414,\n",
              " '추억': 415,\n",
              " '절대': 416,\n",
              " '오랜': 417,\n",
              " '같이': 418,\n",
              " '점주': 419,\n",
              " '관객': 420,\n",
              " '류': 421,\n",
              " '당': 422,\n",
              " '분위기': 423,\n",
              " '대로': 424,\n",
              " '대한': 425,\n",
              " '시나리오': 426,\n",
              " '놓다': 427,\n",
              " '지루함': 428,\n",
              " '팬': 429,\n",
              " '잊다': 430,\n",
              " '졸작': 431,\n",
              " '니까': 432,\n",
              " '래': 433,\n",
              " '영화관': 434,\n",
              " '나쁘다': 435,\n",
              " '멀다': 436,\n",
              " '이지만': 437,\n",
              " '안타깝다': 438,\n",
              " '신선하다': 439,\n",
              " '감정': 440,\n",
              " '소리': 441,\n",
              " '엄마': 442,\n",
              " '이딴': 443,\n",
              " '배우다': 444,\n",
              " '물': 445,\n",
              " '제일': 446,\n",
              " '주': 447,\n",
              " '몇': 448,\n",
              " '더빙': 449,\n",
              " '라면': 450,\n",
              " '코믹': 451,\n",
              " '엔딩': 452,\n",
              " '결국': 453,\n",
              " '최고다': 454,\n",
              " '오': 455,\n",
              " '문제': 456,\n",
              " '킬링타임': 457,\n",
              " '봄': 458,\n",
              " '웃기': 459,\n",
              " '부족하다': 460,\n",
              " '만하': 461,\n",
              " '얼마나': 462,\n",
              " '스럽다': 463,\n",
              " '가지': 464,\n",
              " '이야': 465,\n",
              " '캐스팅': 466,\n",
              " '더럽다': 467,\n",
              " '포스터': 468,\n",
              " '평가': 469,\n",
              " '엉': 470,\n",
              " '몰입도': 471,\n",
              " '세상': 472,\n",
              " '제발': 473,\n",
              " '오늘': 474,\n",
              " '영화인': 475,\n",
              " '구': 476,\n",
              " '건': 477,\n",
              " '어색하다': 478,\n",
              " '아무리': 479,\n",
              " '접': 480,\n",
              " '애니메이션': 481,\n",
              " '첨': 482,\n",
              " '제대로': 483,\n",
              " '티비': 484,\n",
              " '갈수록': 485,\n",
              " '충격': 486,\n",
              " '뭘': 487,\n",
              " '유쾌하다': 488,\n",
              " '며': 489,\n",
              " '배경': 490,\n",
              " '쓸다': 491,\n",
              " '당시': 492,\n",
              " '스릴': 493,\n",
              " '얘기': 494,\n",
              " '함께': 495,\n",
              " '온': 496,\n",
              " '즐겁다': 497,\n",
              " '정신': 498,\n",
              " '망하다': 499,\n",
              " '대해': 500,\n",
              " '너무나': 501,\n",
              " '예술': 502,\n",
              " '얼굴': 503,\n",
              " '존나': 504,\n",
              " '재밋': 505,\n",
              " '완벽하다': 506,\n",
              " '읽다': 507,\n",
              " '옛날': 508,\n",
              " '두다': 509,\n",
              " '살리다': 510,\n",
              " '뒤': 511,\n",
              " '그렇게': 512,\n",
              " '매우': 513,\n",
              " '머리': 514,\n",
              " '후회': 515,\n",
              " '행복하다': 516,\n",
              " '밉다': 517,\n",
              " '진부하다': 518,\n",
              " '안보': 519,\n",
              " '만화': 520,\n",
              " '이름': 521,\n",
              " '건가': 522,\n",
              " '집중': 523,\n",
              " '놀라다': 524,\n",
              " '후반': 525,\n",
              " '낫다': 526,\n",
              " '신': 527,\n",
              " '만점': 528,\n",
              " '만나다': 529,\n",
              " '장르': 530,\n",
              " '시즌': 531,\n",
              " '다큐': 532,\n",
              " '맘': 533,\n",
              " '책': 534,\n",
              " '상황': 535,\n",
              " '드': 536,\n",
              " '자신': 537,\n",
              " '이후': 538,\n",
              " '해도': 539,\n",
              " '수': 540,\n",
              " '머': 541,\n",
              " '어울리다': 542,\n",
              " '어디': 543,\n",
              " '짜증': 544,\n",
              " '새롭다': 545,\n",
              " '충분하다': 546,\n",
              " '발연기': 547,\n",
              " '어느': 548,\n",
              " '봣': 549,\n",
              " '총': 550,\n",
              " '불쌍하다': 551,\n",
              " '걸작': 552,\n",
              " '음': 553,\n",
              " '대체': 554,\n",
              " '장난': 555,\n",
              " '생기다': 556,\n",
              " '등': 557,\n",
              " '안나': 558,\n",
              " '한마디': 559,\n",
              " '전쟁': 560,\n",
              " '질': 561,\n",
              " '누구': 562,\n",
              " '궁금하다': 563,\n",
              " '그것': 564,\n",
              " '훨씬': 565,\n",
              " '보단': 566,\n",
              " '남': 567,\n",
              " '이리': 568,\n",
              " '다그': 569,\n",
              " '아직': 570,\n",
              " '시대': 571,\n",
              " '언제': 572,\n",
              " '여주': 573,\n",
              " '역사': 574,\n",
              " '꽤': 575,\n",
              " '방송': 576,\n",
              " '덥다': 577,\n",
              " '나가다': 578,\n",
              " '예전': 579,\n",
              " '잔인하다': 580,\n",
              " '편이': 581,\n",
              " '소름': 582,\n",
              " '비슷하다': 583,\n",
              " '점점': 584,\n",
              " '쉬다': 585,\n",
              " '글': 586,\n",
              " '어렵다': 587,\n",
              " '필요하다': 588,\n",
              " '어떤': 589,\n",
              " '분들': 590,\n",
              " '네이버': 591,\n",
              " '몇번': 592,\n",
              " '소설': 593,\n",
              " '비교': 594,\n",
              " '인물': 595,\n",
              " '드리다': 596,\n",
              " '달다': 597,\n",
              " '감성': 598,\n",
              " '인상': 599,\n",
              " '죠': 600,\n",
              " '냥': 601,\n",
              " '세': 602,\n",
              " '순수하다': 603,\n",
              " '떠나다': 604,\n",
              " '초딩': 605,\n",
              " '주연': 606,\n",
              " '비디오': 607,\n",
              " '살': 608,\n",
              " '그대로': 609,\n",
              " '여배우': 610,\n",
              " '아들': 611,\n",
              " '누가': 612,\n",
              " '여기': 613,\n",
              " '실화': 614,\n",
              " '라도': 615,\n",
              " '구성': 616,\n",
              " '상당하다': 617,\n",
              " '보': 618,\n",
              " '타다': 619,\n",
              " '사랑스럽다': 620,\n",
              " '휴': 621,\n",
              " '남기다': 622,\n",
              " '날': 623,\n",
              " '낚': 624,\n",
              " '성룡': 625,\n",
              " '굉장하다': 626,\n",
              " '이기다': 627,\n",
              " '사회': 628,\n",
              " '그저': 629,\n",
              " '다운': 630,\n",
              " '쯤': 631,\n",
              " '으로만': 632,\n",
              " '돌리다': 633,\n",
              " '너무하다': 634,\n",
              " '교훈': 635,\n",
              " '이라도': 636,\n",
              " '풀다': 637,\n",
              " '삼류': 638,\n",
              " '자기': 639,\n",
              " '그나마': 640,\n",
              " '존재': 641,\n",
              " '전체': 642,\n",
              " 'ㅉㅉ': 643,\n",
              " '집': 644,\n",
              " '주제': 645,\n",
              " '형': 646,\n",
              " '감사하다': 647,\n",
              " '액션영화': 648,\n",
              " '혼자': 649,\n",
              " '약간': 650,\n",
              " '도아': 651,\n",
              " '진': 652,\n",
              " '뜨다': 653,\n",
              " '따르다': 654,\n",
              " '재': 655,\n",
              " '볼때': 656,\n",
              " '그래서': 657,\n",
              " '무': 658,\n",
              " '개연': 659,\n",
              " '시절': 660,\n",
              " '목소리': 661,\n",
              " '년도': 662,\n",
              " '당하다': 663,\n",
              " '히': 664,\n",
              " '동안': 665,\n",
              " '화려하다': 666,\n",
              " '빨리': 667,\n",
              " '대다': 668,\n",
              " '동': 669,\n",
              " '돋다': 670,\n",
              " '에선': 671,\n",
              " '제작': 672,\n",
              " '에요': 673,\n",
              " '순간': 674,\n",
              " '엄청나다': 675,\n",
              " '회': 676,\n",
              " '망치다': 677,\n",
              " '심하다': 678,\n",
              " '힘': 679,\n",
              " '가볍다': 680,\n",
              " '로맨스': 681,\n",
              " '그만': 682,\n",
              " '땜': 683,\n",
              " '터지다': 684,\n",
              " '좀비': 685,\n",
              " '잡다': 686,\n",
              " '에가': 687,\n",
              " '맞추다': 688,\n",
              " '줄거리': 689,\n",
              " '진정하다': 690,\n",
              " '독특하다': 691,\n",
              " '꿈': 692,\n",
              " '면서': 693,\n",
              " '라니': 694,\n",
              " '겠다': 695,\n",
              " '판': 696,\n",
              " '의도': 697,\n",
              " '아버지': 698,\n",
              " '넣다': 699,\n",
              " '하지만': 700,\n",
              " '어른': 701,\n",
              " '낭비': 702,\n",
              " '에다': 703,\n",
              " '그때': 704,\n",
              " '코': 705,\n",
              " '흥미롭다': 706,\n",
              " '넘치다': 707,\n",
              " '이르다': 708,\n",
              " '당신': 709,\n",
              " '화보': 710,\n",
              " '보다는': 711,\n",
              " '시청률': 712,\n",
              " '갑자기': 713,\n",
              " 'ㅎㅎㅎ': 714,\n",
              " '으로도': 715,\n",
              " '잘못': 716,\n",
              " '좀더': 717,\n",
              " '가왜': 718,\n",
              " '질질': 719,\n",
              " '그러나': 720,\n",
              " '으': 721,\n",
              " '힘드다': 722,\n",
              " '바라다': 723,\n",
              " '소': 724,\n",
              " '굳다': 725,\n",
              " '곳': 726,\n",
              " '이번': 727,\n",
              " '강추': 728,\n",
              " '또한': 729,\n",
              " '다음': 730,\n",
              " '울': 731,\n",
              " '걸다': 732,\n",
              " '부': 733,\n",
              " '오는': 734,\n",
              " '담다': 735,\n",
              " '만들어지다': 736,\n",
              " '똥': 737,\n",
              " '군': 738,\n",
              " '올리다': 739,\n",
              " '그녀': 740,\n",
              " '오글거리다': 741,\n",
              " '만에': 742,\n",
              " '실제': 743,\n",
              " '햇': 744,\n",
              " '극장판': 745,\n",
              " '대안': 746,\n",
              " '찾아보다': 747,\n",
              " '억지스럽다': 748,\n",
              " '인거': 749,\n",
              " '나라': 750,\n",
              " '평론가': 751,\n",
              " '들어가다': 752,\n",
              " '에서도': 753,\n",
              " '이안': 754,\n",
              " '관람': 755,\n",
              " '올': 756,\n",
              " '열': 757,\n",
              " '가안': 758,\n",
              " '선택': 759,\n",
              " '스타일': 760,\n",
              " '요소': 761,\n",
              " '만큼': 762,\n",
              " '예': 763,\n",
              " '전부': 764,\n",
              " '판타지': 765,\n",
              " '에서는': 766,\n",
              " '억지': 767,\n",
              " '기다리다': 768,\n",
              " '맛': 769,\n",
              " '나이': 770,\n",
              " '죽': 771,\n",
              " '간만': 772,\n",
              " '갖다': 773,\n",
              " '딸': 774,\n",
              " '부르다': 775,\n",
              " '끼다': 776,\n",
              " '걸리다': 777,\n",
              " '바꾸다': 778,\n",
              " '참고': 779,\n",
              " '이하': 780,\n",
              " '여러': 781,\n",
              " '흥행': 782,\n",
              " '보내다': 783,\n",
              " '저런': 784,\n",
              " '복수': 785,\n",
              " '치고': 786,\n",
              " '다점': 787,\n",
              " '밑': 788,\n",
              " '확실하다': 789,\n",
              " '바로': 790,\n",
              " '시보': 791,\n",
              " 'ㅜ': 792,\n",
              " '씩': 793,\n",
              " '항상': 794,\n",
              " '첫': 795,\n",
              " '이냐': 796,\n",
              " '성하다': 797,\n",
              " '닥': 798,\n",
              " '한편': 799,\n",
              " '상영': 800,\n",
              " '메다': 801,\n",
              " '잃다': 802,\n",
              " '평': 803,\n",
              " '완성': 804,\n",
              " '흐르다': 805,\n",
              " 'ㅋㅋㅋㅋㅋ': 806,\n",
              " '적다': 807,\n",
              " '새끼': 808,\n",
              " '편집': 809,\n",
              " '불편하다': 810,\n",
              " '듣다': 811,\n",
              " '허무하다': 812,\n",
              " '짧다': 813,\n",
              " '이에요': 814,\n",
              " '역대': 815,\n",
              " '때리다': 816,\n",
              " '화이팅': 817,\n",
              " '아빠': 818,\n",
              " '어디서': 819,\n",
              " '준': 820,\n",
              " '한다는': 821,\n",
              " '똑같다': 822,\n",
              " 'ㅠㅠㅠ': 823,\n",
              " '란': 824,\n",
              " '중국': 825,\n",
              " '즐기다': 826,\n",
              " '거의': 827,\n",
              " '권': 828,\n",
              " '더욱': 829,\n",
              " '평범하다': 830,\n",
              " '불륜': 831,\n",
              " '병맛': 832,\n",
              " '돋보이다': 833,\n",
              " '단순하다': 834,\n",
              " '엉망': 835,\n",
              " '탄탄하다': 836,\n",
              " '답': 837,\n",
              " '흥미진진': 838,\n",
              " '과거': 839,\n",
              " '작다': 840,\n",
              " '다니다': 841,\n",
              " '지겹다': 842,\n",
              " '성우': 843,\n",
              " '양': 844,\n",
              " '모': 845,\n",
              " '단': 846,\n",
              " '다가': 847,\n",
              " '물론': 848,\n",
              " '길': 849,\n",
              " '라서': 850,\n",
              " '사건': 851,\n",
              " '진행': 852,\n",
              " '싸우다': 853,\n",
              " '상미': 854,\n",
              " '만이': 855,\n",
              " '훈훈하다': 856,\n",
              " '설명': 857,\n",
              " '각본': 858,\n",
              " '소중하다': 859,\n",
              " '적당하다': 860,\n",
              " '프랑스': 861,\n",
              " '도저히': 862,\n",
              " '닿다': 863,\n",
              " '술': 864,\n",
              " '역': 865,\n",
              " '화가': 866,\n",
              " '어쩔': 867,\n",
              " '죽음': 868,\n",
              " '화면': 869,\n",
              " '보시': 870,\n",
              " '중반': 871,\n",
              " '취향': 872,\n",
              " '노력': 873,\n",
              " '일단': 874,\n",
              " '중요하다': 875,\n",
              " '순': 876,\n",
              " '전형': 877,\n",
              " '말고': 878,\n",
              " '여서': 879,\n",
              " '사': 880,\n",
              " '뛰어나다': 881,\n",
              " '식상하다': 882,\n",
              " '비': 883,\n",
              " '거리': 884,\n",
              " '흥미': 885,\n",
              " '역겹다': 886,\n",
              " '불다': 887,\n",
              " '그래픽': 888,\n",
              " '에겐': 889,\n",
              " '피': 890,\n",
              " '비추다': 891,\n",
              " '괜히': 892,\n",
              " '개그': 893,\n",
              " '케': 894,\n",
              " '가지다': 895,\n",
              " '학교': 896,\n",
              " '감상': 897,\n",
              " '초': 898,\n",
              " '께': 899,\n",
              " '이라니': 900,\n",
              " '거기': 901,\n",
              " '뭐라다': 902,\n",
              " '예고편': 903,\n",
              " '무조건': 904,\n",
              " '짓': 905,\n",
              " '타임': 906,\n",
              " '일이': 907,\n",
              " '거지': 908,\n",
              " '나서다': 909,\n",
              " '멜로': 910,\n",
              " '참다': 911,\n",
              " '댓글': 912,\n",
              " '보이': 913,\n",
              " '유치': 914,\n",
              " '기억나다': 915,\n",
              " '오히려': 916,\n",
              " '터': 917,\n",
              " '현': 918,\n",
              " '별개': 919,\n",
              " '결혼': 920,\n",
              " '다루다': 921,\n",
              " '자극': 922,\n",
              " '한심하다': 923,\n",
              " '아저씨': 924,\n",
              " '는걸': 925,\n",
              " '이든': 926,\n",
              " '티': 927,\n",
              " '바': 928,\n",
              " '척': 929,\n",
              " '유의': 930,\n",
              " '이보': 931,\n",
              " '그게': 932,\n",
              " '심리': 933,\n",
              " 'ㄷㄷ': 934,\n",
              " '본영': 935,\n",
              " '쩌': 936,\n",
              " '편의': 937,\n",
              " '기대다': 938,\n",
              " '밋': 939,\n",
              " '귀': 940,\n",
              " '왠만하다': 941,\n",
              " '미안하다': 942,\n",
              " '새': 943,\n",
              " '자꾸': 944,\n",
              " '엇': 945,\n",
              " '스타': 946,\n",
              " '참신하다': 947,\n",
              " '헐다': 948,\n",
              " '스': 949,\n",
              " '예상': 950,\n",
              " '바보': 951,\n",
              " '마무리': 952,\n",
              " '빠져들다': 953,\n",
              " '최근': 954,\n",
              " '가나': 955,\n",
              " '표정': 956,\n",
              " '억지로': 957,\n",
              " '계': 958,\n",
              " '공': 959,\n",
              " '아쉬움': 960,\n",
              " '오빠': 961,\n",
              " '인하다': 962,\n",
              " '법': 963,\n",
              " '대한민국': 964,\n",
              " '흘리다': 965,\n",
              " '이기': 966,\n",
              " '꿀잼': 967,\n",
              " '둘': 968,\n",
              " '천재': 969,\n",
              " '미화': 970,\n",
              " '지도': 971,\n",
              " '잊혀지다': 972,\n",
              " '게임': 973,\n",
              " '세계': 974,\n",
              " '돌아가다': 975,\n",
              " '메세지': 976,\n",
              " '몸': 977,\n",
              " '연기자': 978,\n",
              " '잘알다': 979,\n",
              " '촬영': 980,\n",
              " '진지하다': 981,\n",
              " '선': 982,\n",
              " '드럽다': 983,\n",
              " '에만': 984,\n",
              " '프로그램': 985,\n",
              " '이래': 986,\n",
              " '막': 987,\n",
              " '리': 988,\n",
              " '여전하다': 989,\n",
              " 'ㅡ': 990,\n",
              " '뻔': 991,\n",
              " '로만': 992,\n",
              " '실망하다': 993,\n",
              " '관계': 994,\n",
              " '만의': 995,\n",
              " '프로': 996,\n",
              " '틀다': 997,\n",
              " '키': 998,\n",
              " '스러운': 999,\n",
              " '노출': 1000,\n",
              " ...}"
            ]
          },
          "metadata": {
            "tags": []
          },
          "execution_count": 30
        }
      ]
    },
    {
      "cell_type": "code",
      "metadata": {
        "id": "Bgcg8AO-y-5E",
        "colab_type": "code",
        "colab": {
          "base_uri": "https://localhost:8080/",
          "height": 85
        },
        "outputId": "73206fb1-3bf6-4fe8-ad82-449087b86c00"
      },
      "source": [
        "threshold = 3\n",
        "total_cnt = len(tokenizer.word_index)\n",
        "rare_cnt = 0\n",
        "total_freq = 0\n",
        "rare_freq = 0\n",
        "\n",
        "for key, value in tokenizer.word_counts.items():\n",
        "  total_freq = total_freq + value\n",
        "  if(value < threshold):\n",
        "    rare_cnt = rare_cnt + 1\n",
        "    rare_freq = rare_freq + value\n",
        "\n",
        "print('단어 집합(vocabulary)의 크기 :',total_cnt)\n",
        "print('등장 빈도가 %s번 이하인 희귀 단어의 수: %s'%(threshold - 1, rare_cnt))\n",
        "print(\"단어 집합에서 희귀 단어의 비율:\", (rare_cnt / total_cnt)*100)\n",
        "print(\"전체 등장 빈도에서 희귀 단어 등장 빈도 비율:\", (rare_freq / total_freq)*100)\n"
      ],
      "execution_count": 31,
      "outputs": [
        {
          "output_type": "stream",
          "text": [
            "단어 집합(vocabulary)의 크기 : 46503\n",
            "등장 빈도가 2번 이하인 희귀 단어의 수: 25474\n",
            "단어 집합에서 희귀 단어의 비율: 54.77926155301809\n",
            "전체 등장 빈도에서 희귀 단어 등장 빈도 비율: 1.9761734039734433\n"
          ],
          "name": "stdout"
        }
      ]
    },
    {
      "cell_type": "code",
      "metadata": {
        "id": "x-EOsXXa2Vab",
        "colab_type": "code",
        "colab": {}
      },
      "source": [
        "vocab_size = total_cnt - rare_cnt +1"
      ],
      "execution_count": 0,
      "outputs": []
    },
    {
      "cell_type": "code",
      "metadata": {
        "id": "xtXQg19Z3J0K",
        "colab_type": "code",
        "colab": {}
      },
      "source": [
        "tokenizer = Tokenizer(vocab_size)\n",
        "tokenizer.fit_on_texts(X_train)\n",
        "X_train = tokenizer.texts_to_sequences(X_train)\n",
        "X_test = tokenizer.texts_to_sequences(X_test)"
      ],
      "execution_count": 0,
      "outputs": []
    },
    {
      "cell_type": "code",
      "metadata": {
        "id": "z9G4V3wm3bo3",
        "colab_type": "code",
        "colab": {
          "base_uri": "https://localhost:8080/",
          "height": 68
        },
        "outputId": "064c0c43-79d8-49ae-f259-662e46b08e07"
      },
      "source": [
        "X_train[:3]"
      ],
      "execution_count": 34,
      "outputs": [
        {
          "output_type": "execute_result",
          "data": {
            "text/plain": [
              "[[9879, 11447, 17, 249, 661],\n",
              " [1062, 468, 45, 605, 1, 407, 1509, 28, 1077, 680, 18],\n",
              " [214, 1719, 569, 3848, 2, 226, 7]]"
            ]
          },
          "metadata": {
            "tags": []
          },
          "execution_count": 34
        }
      ]
    },
    {
      "cell_type": "code",
      "metadata": {
        "id": "_RkDmOdx3emJ",
        "colab_type": "code",
        "colab": {}
      },
      "source": [
        "y_train = np.array(train_data['label'])\n",
        "y_test = np.array(test_data['label'])"
      ],
      "execution_count": 0,
      "outputs": []
    },
    {
      "cell_type": "code",
      "metadata": {
        "id": "NKu4Ilel31Hb",
        "colab_type": "code",
        "colab": {}
      },
      "source": [
        "drop_train = [index for index, sentence in enumerate(X_train) if len(sentence) < 1]\n",
        "drop_test = [index for index, sentence in enumerate(X_test) if len(sentence) < 1]"
      ],
      "execution_count": 0,
      "outputs": []
    },
    {
      "cell_type": "code",
      "metadata": {
        "id": "do7cHz094Uba",
        "colab_type": "code",
        "colab": {
          "base_uri": "https://localhost:8080/",
          "height": 51
        },
        "outputId": "3110cd27-e3f1-4191-9e50-31497a5fd92d"
      },
      "source": [
        "X_test = np.delete(X_test, drop_test, axis=0)\n",
        "y_test = np.delete(y_test, drop_test, axis=0)\n",
        "print(len(X_test))\n",
        "print(len(y_test))"
      ],
      "execution_count": 37,
      "outputs": [
        {
          "output_type": "stream",
          "text": [
            "48721\n",
            "48721\n"
          ],
          "name": "stdout"
        }
      ]
    },
    {
      "cell_type": "code",
      "metadata": {
        "id": "S5hUVpEH4qqp",
        "colab_type": "code",
        "colab": {
          "base_uri": "https://localhost:8080/",
          "height": 313
        },
        "outputId": "ee80f7ab-3f4c-403f-8327-b17eaab4061e"
      },
      "source": [
        "print('리뷰의 최대 길이 : ', max(len(l) for l in X_train))\n",
        "print('리뷰의 평균 길이 : ', sum(map(len, X_train))/len(X_train))\n",
        "plt.hist([len(s) for s in X_train], bins=50)\n",
        "plt.xlabel('length of samples')\n",
        "plt.ylabel('number of samples')\n",
        "plt.show()"
      ],
      "execution_count": 38,
      "outputs": [
        {
          "output_type": "stream",
          "text": [
            "리뷰의 최대 길이 :  68\n",
            "리뷰의 평균 길이 :  10.73779342884458\n"
          ],
          "name": "stdout"
        },
        {
          "output_type": "display_data",
          "data": {
            "image/png": "[encoded data removed]",
            "text/plain": [
              "<Figure size 432x288 with 1 Axes>"
            ]
          },
          "metadata": {
            "tags": [],
            "needs_background": "light"
          }
        }
      ]
    },
    {
      "cell_type": "code",
      "metadata": {
        "id": "0HGah3sQ6e-A",
        "colab_type": "code",
        "colab": {}
      },
      "source": [
        "def below_threshold_len(max_len, nested_list):\n",
        "  cnt = 0\n",
        "  for s in nested_list:\n",
        "    if(len(s) <= max_len):\n",
        "      cnt = cnt+1\n",
        "  print('전체 샘플 중 길이가 %s 이하인 샘플의 비율: %s'%(max_len, (cnt/ len(nested_list))*100))"
      ],
      "execution_count": 0,
      "outputs": []
    },
    {
      "cell_type": "code",
      "metadata": {
        "id": "TpZM_6K87y6E",
        "colab_type": "code",
        "colab": {
          "base_uri": "https://localhost:8080/",
          "height": 34
        },
        "outputId": "85993b3b-87ad-4e0a-9325-d78dc709c337"
      },
      "source": [
        "max_len = 30\n",
        "below_threshold_len(max_len, X_train)"
      ],
      "execution_count": 40,
      "outputs": [
        {
          "output_type": "stream",
          "text": [
            "전체 샘플 중 길이가 30 이하인 샘플의 비율: 94.41032236765182\n"
          ],
          "name": "stdout"
        }
      ]
    },
    {
      "cell_type": "code",
      "metadata": {
        "id": "HLVlQesI72hH",
        "colab_type": "code",
        "colab": {}
      },
      "source": [
        "X_train = pad_sequences(X_train, maxlen = max_len)\n",
        "X_test = pad_sequences(X_test, maxlen = max_len)"
      ],
      "execution_count": 0,
      "outputs": []
    },
    {
      "cell_type": "code",
      "metadata": {
        "id": "EhTfGqd99KVt",
        "colab_type": "code",
        "colab": {}
      },
      "source": [
        "from tensorflow.keras.layers import Embedding, Dense, LSTM\n",
        "from tensorflow.keras.models import Sequential\n",
        "from tensorflow.keras.models import load_model\n",
        "from tensorflow.keras.callbacks import EarlyStopping, ModelCheckpoint"
      ],
      "execution_count": 0,
      "outputs": []
    },
    {
      "cell_type": "code",
      "metadata": {
        "id": "It5AS1JC9LyU",
        "colab_type": "code",
        "colab": {}
      },
      "source": [
        "model = Sequential()\n",
        "model.add(Embedding(vocab_size, 100))\n",
        "model.add(LSTM(128))\n",
        "model.add(Dense(1, activation='sigmoid'))"
      ],
      "execution_count": 0,
      "outputs": []
    },
    {
      "cell_type": "code",
      "metadata": {
        "id": "OSc4R-yi9b3U",
        "colab_type": "code",
        "colab": {}
      },
      "source": [
        "es = EarlyStopping(monitor='val_loss', mode='min', verbose=1, patience=4)\n",
        "mc = ModelCheckpoint('best_model.h5', monitor='val_acc', mode='max', verbose=1, save_best_only=True)"
      ],
      "execution_count": 0,
      "outputs": []
    },
    {
      "cell_type": "code",
      "metadata": {
        "id": "1jpgo03S-DaX",
        "colab_type": "code",
        "colab": {
          "base_uri": "https://localhost:8080/",
          "height": 578
        },
        "outputId": "6920037e-d7e0-45d1-8af7-ecb7fd2f8cb0"
      },
      "source": [
        "model.compile(optimizer='rmsprop', loss='binary_crossentropy', metrics=['acc'])\n",
        "history = model.fit(X_train, y_train, epochs=15, callbacks=[es, mc], batch_size=60, validation_split=0.2)"
      ],
      "execution_count": 45,
      "outputs": [
        {
          "output_type": "stream",
          "text": [
            "Epoch 1/15\n",
            "1938/1939 [============================>.] - ETA: 0s - loss: 0.3940 - acc: 0.8195\n",
            "Epoch 00001: val_acc improved from -inf to 0.83686, saving model to best_model.h5\n",
            "1939/1939 [==============================] - 24s 12ms/step - loss: 0.3940 - acc: 0.8195 - val_loss: 0.3682 - val_acc: 0.8369\n",
            "Epoch 2/15\n",
            "1935/1939 [============================>.] - ETA: 0s - loss: 0.3316 - acc: 0.8555\n",
            "Epoch 00002: val_acc improved from 0.83686 to 0.85103, saving model to best_model.h5\n",
            "1939/1939 [==============================] - 23s 12ms/step - loss: 0.3316 - acc: 0.8555 - val_loss: 0.3386 - val_acc: 0.8510\n",
            "Epoch 3/15\n",
            "1939/1939 [==============================] - ETA: 0s - loss: 0.3053 - acc: 0.8696\n",
            "Epoch 00003: val_acc improved from 0.85103 to 0.85508, saving model to best_model.h5\n",
            "1939/1939 [==============================] - 23s 12ms/step - loss: 0.3053 - acc: 0.8696 - val_loss: 0.3373 - val_acc: 0.8551\n",
            "Epoch 4/15\n",
            "1936/1939 [============================>.] - ETA: 0s - loss: 0.2839 - acc: 0.8819\n",
            "Epoch 00004: val_acc improved from 0.85508 to 0.85656, saving model to best_model.h5\n",
            "1939/1939 [==============================] - 23s 12ms/step - loss: 0.2839 - acc: 0.8819 - val_loss: 0.3346 - val_acc: 0.8566\n",
            "Epoch 5/15\n",
            "1938/1939 [============================>.] - ETA: 0s - loss: 0.2673 - acc: 0.8906\n",
            "Epoch 00005: val_acc did not improve from 0.85656\n",
            "1939/1939 [==============================] - 23s 12ms/step - loss: 0.2673 - acc: 0.8906 - val_loss: 0.3346 - val_acc: 0.8546\n",
            "Epoch 6/15\n",
            "1936/1939 [============================>.] - ETA: 0s - loss: 0.2508 - acc: 0.8982\n",
            "Epoch 00006: val_acc did not improve from 0.85656\n",
            "1939/1939 [==============================] - 22s 11ms/step - loss: 0.2509 - acc: 0.8982 - val_loss: 0.3418 - val_acc: 0.8528\n",
            "Epoch 7/15\n",
            "1936/1939 [============================>.] - ETA: 0s - loss: 0.2348 - acc: 0.9056\n",
            "Epoch 00007: val_acc did not improve from 0.85656\n",
            "1939/1939 [==============================] - 21s 11ms/step - loss: 0.2349 - acc: 0.9056 - val_loss: 0.3495 - val_acc: 0.8508\n",
            "Epoch 8/15\n",
            "1936/1939 [============================>.] - ETA: 0s - loss: 0.2185 - acc: 0.9129\n",
            "Epoch 00008: val_acc did not improve from 0.85656\n",
            "1939/1939 [==============================] - 22s 11ms/step - loss: 0.2186 - acc: 0.9129 - val_loss: 0.3609 - val_acc: 0.8459\n",
            "Epoch 00008: early stopping\n"
          ],
          "name": "stdout"
        }
      ]
    },
    {
      "cell_type": "code",
      "metadata": {
        "id": "DT7YJ8ZG-apw",
        "colab_type": "code",
        "colab": {
          "base_uri": "https://localhost:8080/",
          "height": 34
        },
        "outputId": "1458ad9b-98ab-426d-f146-c45aa77b69e7"
      },
      "source": [
        "review = [\"짱 재밌어요!\"]\n",
        "#tokenizer.fit_on_texts(review)\n",
        "\n",
        "review_sequence = tokenizer.texts_to_sequences(review)\n",
        "review_sequence_pad = pad_sequences(review_sequence, maxlen = max_len)\n",
        "model.predict(review_sequence_pad)"
      ],
      "execution_count": 58,
      "outputs": [
        {
          "output_type": "execute_result",
          "data": {
            "text/plain": [
              "array([[0.9703428]], dtype=float32)"
            ]
          },
          "metadata": {
            "tags": []
          },
          "execution_count": 58
        }
      ]
    },
    {
      "cell_type": "code",
      "metadata": {
        "id": "wDKp6F60fifT",
        "colab_type": "code",
        "colab": {
          "base_uri": "https://localhost:8080/",
          "height": 34
        },
        "outputId": "aaae39d7-deb2-4785-ef14-efc74dc2e8f5"
      },
      "source": [
        "review_sequence"
      ],
      "execution_count": 53,
      "outputs": [
        {
          "output_type": "execute_result",
          "data": {
            "text/plain": [
              "[[17, 8]]"
            ]
          },
          "metadata": {
            "tags": []
          },
          "execution_count": 53
        }
      ]
    },
    {
      "cell_type": "code",
      "metadata": {
        "id": "oWu_X4Du1vDq",
        "colab_type": "code",
        "colab": {}
      },
      "source": [
        ""
      ],
      "execution_count": 0,
      "outputs": []
    }
  ]
}