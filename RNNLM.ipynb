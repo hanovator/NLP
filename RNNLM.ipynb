{
  "nbformat": 4,
  "nbformat_minor": 0,
  "metadata": {
    "colab": {
      "name": "RNNLM.ipynb",
      "provenance": [],
      "collapsed_sections": []
    },
    "kernelspec": {
      "name": "python3",
      "display_name": "Python 3"
    }
  },
  "cells": [
    {
      "cell_type": "code",
      "metadata": {
        "id": "YIFOtuLL_Qa0",
        "colab_type": "code",
        "colab": {}
      },
      "source": [
        "# RNN을 이용한 텍스트 생성 (Text Generation using RNN)"
      ],
      "execution_count": 0,
      "outputs": []
    },
    {
      "cell_type": "code",
      "metadata": {
        "id": "W_aU7PluxO0C",
        "colab_type": "code",
        "colab": {}
      },
      "source": [
        "from tensorflow.keras.preprocessing.text import Tokenizer\n",
        "from tensorflow.keras.preprocessing.sequence import pad_sequences\n",
        "import numpy as np\n",
        "from tensorflow.keras.utils import to_categorical"
      ],
      "execution_count": 0,
      "outputs": []
    },
    {
      "cell_type": "code",
      "metadata": {
        "id": "Tfym3vZ17qq6",
        "colab_type": "code",
        "colab": {}
      },
      "source": [
        "text=\"\"\"경마장에 있는 말이 뛰고 있다\\n\n",
        "그의 말이 법이다\\n\n",
        "가는 말이 고와야 오는 말이 곱다\\n\"\"\""
      ],
      "execution_count": 0,
      "outputs": []
    },
    {
      "cell_type": "code",
      "metadata": {
        "id": "X15srXBd7u34",
        "colab_type": "code",
        "outputId": "82a34b27-8500-4044-d65c-f6ab1e2078c7",
        "colab": {
          "base_uri": "https://localhost:8080/",
          "height": 34
        }
      },
      "source": [
        "t = Tokenizer()\n",
        "t.fit_on_texts([text])\n",
        "vocab_size = len(t.word_index) + 1\n",
        "\n",
        "print(vocab_size)"
      ],
      "execution_count": 0,
      "outputs": [
        {
          "output_type": "stream",
          "text": [
            "12\n"
          ],
          "name": "stdout"
        }
      ]
    },
    {
      "cell_type": "code",
      "metadata": {
        "id": "w2eYsqss8G2O",
        "colab_type": "code",
        "outputId": "e2c67bb5-f27f-471f-e304-c36107973291",
        "colab": {
          "base_uri": "https://localhost:8080/",
          "height": 204
        }
      },
      "source": [
        "t.word_index"
      ],
      "execution_count": 0,
      "outputs": [
        {
          "output_type": "execute_result",
          "data": {
            "text/plain": [
              "{'가는': 8,\n",
              " '경마장에': 2,\n",
              " '고와야': 9,\n",
              " '곱다': 11,\n",
              " '그의': 6,\n",
              " '뛰고': 4,\n",
              " '말이': 1,\n",
              " '법이다': 7,\n",
              " '오는': 10,\n",
              " '있는': 3,\n",
              " '있다': 5}"
            ]
          },
          "metadata": {
            "tags": []
          },
          "execution_count": 5
        }
      ]
    },
    {
      "cell_type": "code",
      "metadata": {
        "id": "x9cr9PGL8HdR",
        "colab_type": "code",
        "outputId": "32373a7f-745d-4d25-b9ae-7b70df96bc52",
        "colab": {
          "base_uri": "https://localhost:8080/",
          "height": 612
        }
      },
      "source": [
        "sequences = list()\n",
        "for line in text.split('\\n'):\n",
        "  print(line)\n",
        "  encoded = t.texts_to_sequences([line])[0]\n",
        "  print(encoded)\n",
        "  for i in range(1, len(encoded)):\n",
        "    print('i -- ', i)\n",
        "    sequence = encoded[:i+1]\n",
        "    print('sequence -- ', sequence)\n",
        "    sequences.append(sequence)\n",
        "\n",
        "print('학습에 사용할 샘플수: %d' % len(sequences))"
      ],
      "execution_count": 0,
      "outputs": [
        {
          "output_type": "stream",
          "text": [
            "경마장에 있는 말이 뛰고 있다\n",
            "[2, 3, 1, 4, 5]\n",
            "i --  1\n",
            "sequence --  [2, 3]\n",
            "i --  2\n",
            "sequence --  [2, 3, 1]\n",
            "i --  3\n",
            "sequence --  [2, 3, 1, 4]\n",
            "i --  4\n",
            "sequence --  [2, 3, 1, 4, 5]\n",
            "\n",
            "[]\n",
            "그의 말이 법이다\n",
            "[6, 1, 7]\n",
            "i --  1\n",
            "sequence --  [6, 1]\n",
            "i --  2\n",
            "sequence --  [6, 1, 7]\n",
            "\n",
            "[]\n",
            "가는 말이 고와야 오는 말이 곱다\n",
            "[8, 1, 9, 10, 1, 11]\n",
            "i --  1\n",
            "sequence --  [8, 1]\n",
            "i --  2\n",
            "sequence --  [8, 1, 9]\n",
            "i --  3\n",
            "sequence --  [8, 1, 9, 10]\n",
            "i --  4\n",
            "sequence --  [8, 1, 9, 10, 1]\n",
            "i --  5\n",
            "sequence --  [8, 1, 9, 10, 1, 11]\n",
            "\n",
            "[]\n",
            "학습에 사용할 샘플수: 11\n"
          ],
          "name": "stdout"
        }
      ]
    },
    {
      "cell_type": "code",
      "metadata": {
        "id": "4wMqVau68xMX",
        "colab_type": "code",
        "outputId": "54360dfa-6f16-4a51-ff78-4a9adad39e19",
        "colab": {
          "base_uri": "https://localhost:8080/",
          "height": 204
        }
      },
      "source": [
        "sequences"
      ],
      "execution_count": 0,
      "outputs": [
        {
          "output_type": "execute_result",
          "data": {
            "text/plain": [
              "[[2, 3],\n",
              " [2, 3, 1],\n",
              " [2, 3, 1, 4],\n",
              " [2, 3, 1, 4, 5],\n",
              " [6, 1],\n",
              " [6, 1, 7],\n",
              " [8, 1],\n",
              " [8, 1, 9],\n",
              " [8, 1, 9, 10],\n",
              " [8, 1, 9, 10, 1],\n",
              " [8, 1, 9, 10, 1, 11]]"
            ]
          },
          "metadata": {
            "tags": []
          },
          "execution_count": 20
        }
      ]
    },
    {
      "cell_type": "code",
      "metadata": {
        "id": "wmvU7OrJ-Bid",
        "colab_type": "code",
        "outputId": "2c9ece76-4e3b-4aa1-fe3a-0a852d7fb7f5",
        "colab": {
          "base_uri": "https://localhost:8080/",
          "height": 34
        }
      },
      "source": [
        "max_len = max(len(l) for l in sequences)\n",
        "max_len"
      ],
      "execution_count": 0,
      "outputs": [
        {
          "output_type": "execute_result",
          "data": {
            "text/plain": [
              "6"
            ]
          },
          "metadata": {
            "tags": []
          },
          "execution_count": 22
        }
      ]
    },
    {
      "cell_type": "code",
      "metadata": {
        "id": "czR043hf--KC",
        "colab_type": "code",
        "colab": {}
      },
      "source": [
        "sequences = pad_sequences(sequences, maxlen=max_len, padding='pre')"
      ],
      "execution_count": 0,
      "outputs": []
    },
    {
      "cell_type": "code",
      "metadata": {
        "id": "pnKw6ojA_KIZ",
        "colab_type": "code",
        "outputId": "92df902b-d075-441b-e69f-7a1bb94c36a5",
        "colab": {
          "base_uri": "https://localhost:8080/",
          "height": 204
        }
      },
      "source": [
        "sequences"
      ],
      "execution_count": 0,
      "outputs": [
        {
          "output_type": "execute_result",
          "data": {
            "text/plain": [
              "array([[ 0,  0,  0,  0,  2,  3],\n",
              "       [ 0,  0,  0,  2,  3,  1],\n",
              "       [ 0,  0,  2,  3,  1,  4],\n",
              "       [ 0,  2,  3,  1,  4,  5],\n",
              "       [ 0,  0,  0,  0,  6,  1],\n",
              "       [ 0,  0,  0,  6,  1,  7],\n",
              "       [ 0,  0,  0,  0,  8,  1],\n",
              "       [ 0,  0,  0,  8,  1,  9],\n",
              "       [ 0,  0,  8,  1,  9, 10],\n",
              "       [ 0,  8,  1,  9, 10,  1],\n",
              "       [ 8,  1,  9, 10,  1, 11]], dtype=int32)"
            ]
          },
          "metadata": {
            "tags": []
          },
          "execution_count": 25
        }
      ]
    },
    {
      "cell_type": "code",
      "metadata": {
        "id": "Obb4IVxeAn2L",
        "colab_type": "code",
        "colab": {}
      },
      "source": [
        "sequences = np.array(sequences)\n",
        "X = sequences[:,:-1]\n",
        "y = sequences[:,-1]"
      ],
      "execution_count": 0,
      "outputs": []
    },
    {
      "cell_type": "code",
      "metadata": {
        "id": "kuCpO6OqA-Sz",
        "colab_type": "code",
        "colab": {}
      },
      "source": [
        "y = to_categorical(y, num_classes=vocab_size)"
      ],
      "execution_count": 0,
      "outputs": []
    },
    {
      "cell_type": "code",
      "metadata": {
        "id": "g9-Lvhnn_L8g",
        "colab_type": "code",
        "colab": {}
      },
      "source": [
        "from tensorflow.keras.models import Sequential\n",
        "from tensorflow.keras.layers import Embedding, Dense, SimpleRNN"
      ],
      "execution_count": 0,
      "outputs": []
    },
    {
      "cell_type": "code",
      "metadata": {
        "id": "lwN4TRWq_a-m",
        "colab_type": "code",
        "outputId": "8f380df9-0224-4c07-9f5a-62aac212ebd3",
        "colab": {
          "base_uri": "https://localhost:8080/",
          "height": 1000
        }
      },
      "source": [
        "model = Sequential()\n",
        "model.add(Embedding(vocab_size, 10, input_length=max_len-1)) # 레이블을 분리하였으므로 이제 X의 길이는 5\n",
        "model.add(SimpleRNN(32))\n",
        "model.add(Dense(vocab_size, activation='softmax'))\n",
        "model.compile(loss='categorical_crossentropy', optimizer='adam', metrics=['accuracy'])\n",
        "model.fit(X, y, epochs=200, verbose=1)"
      ],
      "execution_count": 0,
      "outputs": [
        {
          "output_type": "stream",
          "text": [
            "Epoch 1/200\n",
            "1/1 [==============================] - 0s 1ms/step - loss: 2.4757 - accuracy: 0.0000e+00\n",
            "Epoch 2/200\n",
            "1/1 [==============================] - 0s 1ms/step - loss: 2.4649 - accuracy: 0.0000e+00\n",
            "Epoch 3/200\n",
            "1/1 [==============================] - 0s 889us/step - loss: 2.4538 - accuracy: 0.3636\n",
            "Epoch 4/200\n",
            "1/1 [==============================] - 0s 1ms/step - loss: 2.4424 - accuracy: 0.3636\n",
            "Epoch 5/200\n",
            "1/1 [==============================] - 0s 1ms/step - loss: 2.4306 - accuracy: 0.4545\n",
            "Epoch 6/200\n",
            "1/1 [==============================] - 0s 2ms/step - loss: 2.4184 - accuracy: 0.4545\n",
            "Epoch 7/200\n",
            "1/1 [==============================] - 0s 999us/step - loss: 2.4056 - accuracy: 0.4545\n",
            "Epoch 8/200\n",
            "1/1 [==============================] - 0s 1ms/step - loss: 2.3922 - accuracy: 0.4545\n",
            "Epoch 9/200\n",
            "1/1 [==============================] - 0s 1ms/step - loss: 2.3782 - accuracy: 0.4545\n",
            "Epoch 10/200\n",
            "1/1 [==============================] - 0s 2ms/step - loss: 2.3634 - accuracy: 0.4545\n",
            "Epoch 11/200\n",
            "1/1 [==============================] - 0s 1ms/step - loss: 2.3479 - accuracy: 0.4545\n",
            "Epoch 12/200\n",
            "1/1 [==============================] - 0s 1ms/step - loss: 2.3315 - accuracy: 0.4545\n",
            "Epoch 13/200\n",
            "1/1 [==============================] - 0s 904us/step - loss: 2.3143 - accuracy: 0.4545\n",
            "Epoch 14/200\n",
            "1/1 [==============================] - 0s 2ms/step - loss: 2.2960 - accuracy: 0.4545\n",
            "Epoch 15/200\n",
            "1/1 [==============================] - 0s 902us/step - loss: 2.2769 - accuracy: 0.4545\n",
            "Epoch 16/200\n",
            "1/1 [==============================] - 0s 2ms/step - loss: 2.2567 - accuracy: 0.4545\n",
            "Epoch 17/200\n",
            "1/1 [==============================] - 0s 2ms/step - loss: 2.2355 - accuracy: 0.4545\n",
            "Epoch 18/200\n",
            "1/1 [==============================] - 0s 1ms/step - loss: 2.2132 - accuracy: 0.4545\n",
            "Epoch 19/200\n",
            "1/1 [==============================] - 0s 856us/step - loss: 2.1900 - accuracy: 0.4545\n",
            "Epoch 20/200\n",
            "1/1 [==============================] - 0s 1ms/step - loss: 2.1659 - accuracy: 0.4545\n",
            "Epoch 21/200\n",
            "1/1 [==============================] - 0s 2ms/step - loss: 2.1410 - accuracy: 0.4545\n",
            "Epoch 22/200\n",
            "1/1 [==============================] - 0s 1ms/step - loss: 2.1153 - accuracy: 0.3636\n",
            "Epoch 23/200\n",
            "1/1 [==============================] - 0s 964us/step - loss: 2.0892 - accuracy: 0.3636\n",
            "Epoch 24/200\n",
            "1/1 [==============================] - 0s 1ms/step - loss: 2.0628 - accuracy: 0.3636\n",
            "Epoch 25/200\n",
            "1/1 [==============================] - 0s 1ms/step - loss: 2.0364 - accuracy: 0.3636\n",
            "Epoch 26/200\n",
            "1/1 [==============================] - 0s 3ms/step - loss: 2.0103 - accuracy: 0.3636\n",
            "Epoch 27/200\n",
            "1/1 [==============================] - 0s 1ms/step - loss: 1.9848 - accuracy: 0.3636\n",
            "Epoch 28/200\n",
            "1/1 [==============================] - 0s 2ms/step - loss: 1.9603 - accuracy: 0.3636\n",
            "Epoch 29/200\n",
            "1/1 [==============================] - 0s 1ms/step - loss: 1.9372 - accuracy: 0.3636\n",
            "Epoch 30/200\n",
            "1/1 [==============================] - 0s 2ms/step - loss: 1.9158 - accuracy: 0.3636\n",
            "Epoch 31/200\n",
            "1/1 [==============================] - 0s 2ms/step - loss: 1.8961 - accuracy: 0.3636\n",
            "Epoch 32/200\n",
            "1/1 [==============================] - 0s 2ms/step - loss: 1.8784 - accuracy: 0.3636\n",
            "Epoch 33/200\n",
            "1/1 [==============================] - 0s 2ms/step - loss: 1.8625 - accuracy: 0.3636\n",
            "Epoch 34/200\n",
            "1/1 [==============================] - 0s 2ms/step - loss: 1.8481 - accuracy: 0.3636\n",
            "Epoch 35/200\n",
            "1/1 [==============================] - 0s 2ms/step - loss: 1.8348 - accuracy: 0.3636\n",
            "Epoch 36/200\n",
            "1/1 [==============================] - 0s 2ms/step - loss: 1.8223 - accuracy: 0.3636\n",
            "Epoch 37/200\n",
            "1/1 [==============================] - 0s 2ms/step - loss: 1.8099 - accuracy: 0.3636\n",
            "Epoch 38/200\n",
            "1/1 [==============================] - 0s 1ms/step - loss: 1.7973 - accuracy: 0.3636\n",
            "Epoch 39/200\n",
            "1/1 [==============================] - 0s 2ms/step - loss: 1.7842 - accuracy: 0.3636\n",
            "Epoch 40/200\n",
            "1/1 [==============================] - 0s 1ms/step - loss: 1.7705 - accuracy: 0.3636\n",
            "Epoch 41/200\n",
            "1/1 [==============================] - 0s 2ms/step - loss: 1.7561 - accuracy: 0.3636\n",
            "Epoch 42/200\n",
            "1/1 [==============================] - 0s 2ms/step - loss: 1.7411 - accuracy: 0.3636\n",
            "Epoch 43/200\n",
            "1/1 [==============================] - 0s 2ms/step - loss: 1.7256 - accuracy: 0.4545\n",
            "Epoch 44/200\n",
            "1/1 [==============================] - 0s 2ms/step - loss: 1.7098 - accuracy: 0.4545\n",
            "Epoch 45/200\n",
            "1/1 [==============================] - 0s 2ms/step - loss: 1.6939 - accuracy: 0.4545\n",
            "Epoch 46/200\n",
            "1/1 [==============================] - 0s 2ms/step - loss: 1.6778 - accuracy: 0.4545\n",
            "Epoch 47/200\n",
            "1/1 [==============================] - 0s 2ms/step - loss: 1.6617 - accuracy: 0.4545\n",
            "Epoch 48/200\n",
            "1/1 [==============================] - 0s 3ms/step - loss: 1.6457 - accuracy: 0.4545\n",
            "Epoch 49/200\n",
            "1/1 [==============================] - 0s 1ms/step - loss: 1.6295 - accuracy: 0.4545\n",
            "Epoch 50/200\n",
            "1/1 [==============================] - 0s 1ms/step - loss: 1.6133 - accuracy: 0.4545\n",
            "Epoch 51/200\n",
            "1/1 [==============================] - 0s 2ms/step - loss: 1.5968 - accuracy: 0.4545\n",
            "Epoch 52/200\n",
            "1/1 [==============================] - 0s 2ms/step - loss: 1.5801 - accuracy: 0.4545\n",
            "Epoch 53/200\n",
            "1/1 [==============================] - 0s 1ms/step - loss: 1.5630 - accuracy: 0.4545\n",
            "Epoch 54/200\n",
            "1/1 [==============================] - 0s 1ms/step - loss: 1.5456 - accuracy: 0.4545\n",
            "Epoch 55/200\n",
            "1/1 [==============================] - 0s 3ms/step - loss: 1.5278 - accuracy: 0.4545\n",
            "Epoch 56/200\n",
            "1/1 [==============================] - 0s 2ms/step - loss: 1.5096 - accuracy: 0.4545\n",
            "Epoch 57/200\n",
            "1/1 [==============================] - 0s 2ms/step - loss: 1.4912 - accuracy: 0.4545\n",
            "Epoch 58/200\n",
            "1/1 [==============================] - 0s 2ms/step - loss: 1.4725 - accuracy: 0.4545\n",
            "Epoch 59/200\n",
            "1/1 [==============================] - 0s 2ms/step - loss: 1.4536 - accuracy: 0.4545\n",
            "Epoch 60/200\n",
            "1/1 [==============================] - 0s 2ms/step - loss: 1.4346 - accuracy: 0.4545\n",
            "Epoch 61/200\n",
            "1/1 [==============================] - 0s 2ms/step - loss: 1.4155 - accuracy: 0.4545\n",
            "Epoch 62/200\n",
            "1/1 [==============================] - 0s 2ms/step - loss: 1.3965 - accuracy: 0.4545\n",
            "Epoch 63/200\n",
            "1/1 [==============================] - 0s 2ms/step - loss: 1.3774 - accuracy: 0.4545\n",
            "Epoch 64/200\n",
            "1/1 [==============================] - 0s 2ms/step - loss: 1.3584 - accuracy: 0.4545\n",
            "Epoch 65/200\n",
            "1/1 [==============================] - 0s 1ms/step - loss: 1.3395 - accuracy: 0.4545\n",
            "Epoch 66/200\n",
            "1/1 [==============================] - 0s 2ms/step - loss: 1.3207 - accuracy: 0.4545\n",
            "Epoch 67/200\n",
            "1/1 [==============================] - 0s 2ms/step - loss: 1.3020 - accuracy: 0.4545\n",
            "Epoch 68/200\n",
            "1/1 [==============================] - 0s 2ms/step - loss: 1.2834 - accuracy: 0.4545\n",
            "Epoch 69/200\n",
            "1/1 [==============================] - 0s 2ms/step - loss: 1.2650 - accuracy: 0.5455\n",
            "Epoch 70/200\n",
            "1/1 [==============================] - 0s 2ms/step - loss: 1.2467 - accuracy: 0.5455\n",
            "Epoch 71/200\n",
            "1/1 [==============================] - 0s 2ms/step - loss: 1.2286 - accuracy: 0.6364\n",
            "Epoch 72/200\n",
            "1/1 [==============================] - 0s 2ms/step - loss: 1.2106 - accuracy: 0.6364\n",
            "Epoch 73/200\n",
            "1/1 [==============================] - 0s 2ms/step - loss: 1.1927 - accuracy: 0.6364\n",
            "Epoch 74/200\n",
            "1/1 [==============================] - 0s 2ms/step - loss: 1.1750 - accuracy: 0.6364\n",
            "Epoch 75/200\n",
            "1/1 [==============================] - 0s 2ms/step - loss: 1.1574 - accuracy: 0.6364\n",
            "Epoch 76/200\n",
            "1/1 [==============================] - 0s 2ms/step - loss: 1.1400 - accuracy: 0.6364\n",
            "Epoch 77/200\n",
            "1/1 [==============================] - 0s 2ms/step - loss: 1.1227 - accuracy: 0.6364\n",
            "Epoch 78/200\n",
            "1/1 [==============================] - 0s 2ms/step - loss: 1.1055 - accuracy: 0.6364\n",
            "Epoch 79/200\n",
            "1/1 [==============================] - 0s 2ms/step - loss: 1.0885 - accuracy: 0.7273\n",
            "Epoch 80/200\n",
            "1/1 [==============================] - 0s 2ms/step - loss: 1.0716 - accuracy: 0.7273\n",
            "Epoch 81/200\n",
            "1/1 [==============================] - 0s 2ms/step - loss: 1.0548 - accuracy: 0.7273\n",
            "Epoch 82/200\n",
            "1/1 [==============================] - 0s 2ms/step - loss: 1.0381 - accuracy: 0.7273\n",
            "Epoch 83/200\n",
            "1/1 [==============================] - 0s 2ms/step - loss: 1.0215 - accuracy: 0.7273\n",
            "Epoch 84/200\n",
            "1/1 [==============================] - 0s 2ms/step - loss: 1.0051 - accuracy: 0.7273\n",
            "Epoch 85/200\n",
            "1/1 [==============================] - 0s 2ms/step - loss: 0.9888 - accuracy: 0.7273\n",
            "Epoch 86/200\n",
            "1/1 [==============================] - 0s 2ms/step - loss: 0.9727 - accuracy: 0.7273\n",
            "Epoch 87/200\n",
            "1/1 [==============================] - 0s 2ms/step - loss: 0.9567 - accuracy: 0.7273\n",
            "Epoch 88/200\n",
            "1/1 [==============================] - 0s 2ms/step - loss: 0.9409 - accuracy: 0.7273\n",
            "Epoch 89/200\n",
            "1/1 [==============================] - 0s 2ms/step - loss: 0.9253 - accuracy: 0.7273\n",
            "Epoch 90/200\n",
            "1/1 [==============================] - 0s 2ms/step - loss: 0.9099 - accuracy: 0.7273\n",
            "Epoch 91/200\n",
            "1/1 [==============================] - 0s 2ms/step - loss: 0.8948 - accuracy: 0.8182\n",
            "Epoch 92/200\n",
            "1/1 [==============================] - 0s 2ms/step - loss: 0.8798 - accuracy: 0.8182\n",
            "Epoch 93/200\n",
            "1/1 [==============================] - 0s 2ms/step - loss: 0.8651 - accuracy: 0.8182\n",
            "Epoch 94/200\n",
            "1/1 [==============================] - 0s 2ms/step - loss: 0.8505 - accuracy: 0.8182\n",
            "Epoch 95/200\n",
            "1/1 [==============================] - 0s 2ms/step - loss: 0.8362 - accuracy: 0.8182\n",
            "Epoch 96/200\n",
            "1/1 [==============================] - 0s 1ms/step - loss: 0.8221 - accuracy: 0.8182\n",
            "Epoch 97/200\n",
            "1/1 [==============================] - 0s 2ms/step - loss: 0.8083 - accuracy: 0.8182\n",
            "Epoch 98/200\n",
            "1/1 [==============================] - 0s 2ms/step - loss: 0.7947 - accuracy: 0.8182\n",
            "Epoch 99/200\n",
            "1/1 [==============================] - 0s 2ms/step - loss: 0.7813 - accuracy: 0.8182\n",
            "Epoch 100/200\n",
            "1/1 [==============================] - 0s 2ms/step - loss: 0.7681 - accuracy: 0.8182\n",
            "Epoch 101/200\n",
            "1/1 [==============================] - 0s 2ms/step - loss: 0.7552 - accuracy: 0.8182\n",
            "Epoch 102/200\n",
            "1/1 [==============================] - 0s 2ms/step - loss: 0.7425 - accuracy: 0.8182\n",
            "Epoch 103/200\n",
            "1/1 [==============================] - 0s 2ms/step - loss: 0.7301 - accuracy: 0.8182\n",
            "Epoch 104/200\n",
            "1/1 [==============================] - 0s 2ms/step - loss: 0.7179 - accuracy: 0.8182\n",
            "Epoch 105/200\n",
            "1/1 [==============================] - 0s 2ms/step - loss: 0.7059 - accuracy: 0.8182\n",
            "Epoch 106/200\n",
            "1/1 [==============================] - 0s 2ms/step - loss: 0.6941 - accuracy: 0.8182\n",
            "Epoch 107/200\n",
            "1/1 [==============================] - 0s 2ms/step - loss: 0.6826 - accuracy: 0.8182\n",
            "Epoch 108/200\n",
            "1/1 [==============================] - 0s 2ms/step - loss: 0.6713 - accuracy: 0.8182\n",
            "Epoch 109/200\n",
            "1/1 [==============================] - 0s 2ms/step - loss: 0.6603 - accuracy: 0.8182\n",
            "Epoch 110/200\n",
            "1/1 [==============================] - 0s 2ms/step - loss: 0.6494 - accuracy: 0.9091\n",
            "Epoch 111/200\n",
            "1/1 [==============================] - 0s 2ms/step - loss: 0.6388 - accuracy: 0.9091\n",
            "Epoch 112/200\n",
            "1/1 [==============================] - 0s 2ms/step - loss: 0.6284 - accuracy: 0.9091\n",
            "Epoch 113/200\n",
            "1/1 [==============================] - 0s 2ms/step - loss: 0.6182 - accuracy: 0.9091\n",
            "Epoch 114/200\n",
            "1/1 [==============================] - 0s 2ms/step - loss: 0.6082 - accuracy: 0.9091\n",
            "Epoch 115/200\n",
            "1/1 [==============================] - 0s 2ms/step - loss: 0.5984 - accuracy: 0.9091\n",
            "Epoch 116/200\n",
            "1/1 [==============================] - 0s 2ms/step - loss: 0.5888 - accuracy: 0.9091\n",
            "Epoch 117/200\n",
            "1/1 [==============================] - 0s 1ms/step - loss: 0.5794 - accuracy: 0.9091\n",
            "Epoch 118/200\n",
            "1/1 [==============================] - 0s 2ms/step - loss: 0.5702 - accuracy: 0.9091\n",
            "Epoch 119/200\n",
            "1/1 [==============================] - 0s 2ms/step - loss: 0.5612 - accuracy: 0.9091\n",
            "Epoch 120/200\n",
            "1/1 [==============================] - 0s 2ms/step - loss: 0.5524 - accuracy: 0.9091\n",
            "Epoch 121/200\n",
            "1/1 [==============================] - 0s 2ms/step - loss: 0.5438 - accuracy: 0.9091\n",
            "Epoch 122/200\n",
            "1/1 [==============================] - 0s 2ms/step - loss: 0.5353 - accuracy: 0.9091\n",
            "Epoch 123/200\n",
            "1/1 [==============================] - 0s 2ms/step - loss: 0.5270 - accuracy: 0.9091\n",
            "Epoch 124/200\n",
            "1/1 [==============================] - 0s 2ms/step - loss: 0.5189 - accuracy: 0.9091\n",
            "Epoch 125/200\n",
            "1/1 [==============================] - 0s 2ms/step - loss: 0.5109 - accuracy: 0.9091\n",
            "Epoch 126/200\n",
            "1/1 [==============================] - 0s 2ms/step - loss: 0.5031 - accuracy: 0.9091\n",
            "Epoch 127/200\n",
            "1/1 [==============================] - 0s 2ms/step - loss: 0.4955 - accuracy: 0.9091\n",
            "Epoch 128/200\n",
            "1/1 [==============================] - 0s 2ms/step - loss: 0.4880 - accuracy: 0.9091\n",
            "Epoch 129/200\n",
            "1/1 [==============================] - 0s 2ms/step - loss: 0.4806 - accuracy: 0.9091\n",
            "Epoch 130/200\n",
            "1/1 [==============================] - 0s 2ms/step - loss: 0.4734 - accuracy: 0.9091\n",
            "Epoch 131/200\n",
            "1/1 [==============================] - 0s 2ms/step - loss: 0.4663 - accuracy: 0.9091\n",
            "Epoch 132/200\n",
            "1/1 [==============================] - 0s 2ms/step - loss: 0.4594 - accuracy: 0.9091\n",
            "Epoch 133/200\n",
            "1/1 [==============================] - 0s 2ms/step - loss: 0.4526 - accuracy: 0.9091\n",
            "Epoch 134/200\n",
            "1/1 [==============================] - 0s 2ms/step - loss: 0.4459 - accuracy: 0.9091\n",
            "Epoch 135/200\n",
            "1/1 [==============================] - 0s 2ms/step - loss: 0.4393 - accuracy: 0.9091\n",
            "Epoch 136/200\n",
            "1/1 [==============================] - 0s 2ms/step - loss: 0.4328 - accuracy: 0.9091\n",
            "Epoch 137/200\n",
            "1/1 [==============================] - 0s 2ms/step - loss: 0.4265 - accuracy: 0.9091\n",
            "Epoch 138/200\n",
            "1/1 [==============================] - 0s 2ms/step - loss: 0.4202 - accuracy: 0.9091\n",
            "Epoch 139/200\n",
            "1/1 [==============================] - 0s 2ms/step - loss: 0.4141 - accuracy: 0.9091\n",
            "Epoch 140/200\n",
            "1/1 [==============================] - 0s 2ms/step - loss: 0.4080 - accuracy: 0.9091\n",
            "Epoch 141/200\n",
            "1/1 [==============================] - 0s 2ms/step - loss: 0.4021 - accuracy: 0.9091\n",
            "Epoch 142/200\n",
            "1/1 [==============================] - 0s 2ms/step - loss: 0.3962 - accuracy: 0.9091\n",
            "Epoch 143/200\n",
            "1/1 [==============================] - 0s 2ms/step - loss: 0.3905 - accuracy: 0.9091\n",
            "Epoch 144/200\n",
            "1/1 [==============================] - 0s 2ms/step - loss: 0.3848 - accuracy: 0.9091\n",
            "Epoch 145/200\n",
            "1/1 [==============================] - 0s 2ms/step - loss: 0.3792 - accuracy: 0.9091\n",
            "Epoch 146/200\n",
            "1/1 [==============================] - 0s 2ms/step - loss: 0.3737 - accuracy: 0.9091\n",
            "Epoch 147/200\n",
            "1/1 [==============================] - 0s 2ms/step - loss: 0.3683 - accuracy: 0.9091\n",
            "Epoch 148/200\n",
            "1/1 [==============================] - 0s 2ms/step - loss: 0.3629 - accuracy: 0.9091\n",
            "Epoch 149/200\n",
            "1/1 [==============================] - 0s 2ms/step - loss: 0.3576 - accuracy: 0.9091\n",
            "Epoch 150/200\n",
            "1/1 [==============================] - 0s 2ms/step - loss: 0.3524 - accuracy: 0.9091\n",
            "Epoch 151/200\n",
            "1/1 [==============================] - 0s 2ms/step - loss: 0.3472 - accuracy: 0.9091\n",
            "Epoch 152/200\n",
            "1/1 [==============================] - 0s 2ms/step - loss: 0.3422 - accuracy: 0.9091\n",
            "Epoch 153/200\n",
            "1/1 [==============================] - 0s 2ms/step - loss: 0.3371 - accuracy: 0.9091\n",
            "Epoch 154/200\n",
            "1/1 [==============================] - 0s 2ms/step - loss: 0.3322 - accuracy: 0.9091\n",
            "Epoch 155/200\n",
            "1/1 [==============================] - 0s 2ms/step - loss: 0.3273 - accuracy: 0.9091\n",
            "Epoch 156/200\n",
            "1/1 [==============================] - 0s 2ms/step - loss: 0.3224 - accuracy: 0.9091\n",
            "Epoch 157/200\n",
            "1/1 [==============================] - 0s 2ms/step - loss: 0.3176 - accuracy: 0.9091\n",
            "Epoch 158/200\n",
            "1/1 [==============================] - 0s 2ms/step - loss: 0.3129 - accuracy: 0.9091\n",
            "Epoch 159/200\n",
            "1/1 [==============================] - 0s 3ms/step - loss: 0.3082 - accuracy: 0.9091\n",
            "Epoch 160/200\n",
            "1/1 [==============================] - 0s 3ms/step - loss: 0.3035 - accuracy: 0.9091\n",
            "Epoch 161/200\n",
            "1/1 [==============================] - 0s 2ms/step - loss: 0.2990 - accuracy: 0.9091\n",
            "Epoch 162/200\n",
            "1/1 [==============================] - 0s 2ms/step - loss: 0.2944 - accuracy: 0.9091\n",
            "Epoch 163/200\n",
            "1/1 [==============================] - 0s 2ms/step - loss: 0.2899 - accuracy: 0.9091\n",
            "Epoch 164/200\n",
            "1/1 [==============================] - 0s 2ms/step - loss: 0.2855 - accuracy: 0.9091\n",
            "Epoch 165/200\n",
            "1/1 [==============================] - 0s 2ms/step - loss: 0.2811 - accuracy: 1.0000\n",
            "Epoch 166/200\n",
            "1/1 [==============================] - 0s 4ms/step - loss: 0.2767 - accuracy: 1.0000\n",
            "Epoch 167/200\n",
            "1/1 [==============================] - 0s 2ms/step - loss: 0.2724 - accuracy: 1.0000\n",
            "Epoch 168/200\n",
            "1/1 [==============================] - 0s 2ms/step - loss: 0.2681 - accuracy: 1.0000\n",
            "Epoch 169/200\n",
            "1/1 [==============================] - 0s 3ms/step - loss: 0.2639 - accuracy: 1.0000\n",
            "Epoch 170/200\n",
            "1/1 [==============================] - 0s 2ms/step - loss: 0.2597 - accuracy: 1.0000\n",
            "Epoch 171/200\n",
            "1/1 [==============================] - 0s 2ms/step - loss: 0.2556 - accuracy: 1.0000\n",
            "Epoch 172/200\n",
            "1/1 [==============================] - 0s 2ms/step - loss: 0.2515 - accuracy: 1.0000\n",
            "Epoch 173/200\n",
            "1/1 [==============================] - 0s 2ms/step - loss: 0.2475 - accuracy: 1.0000\n",
            "Epoch 174/200\n",
            "1/1 [==============================] - 0s 2ms/step - loss: 0.2434 - accuracy: 1.0000\n",
            "Epoch 175/200\n",
            "1/1 [==============================] - 0s 2ms/step - loss: 0.2395 - accuracy: 1.0000\n",
            "Epoch 176/200\n",
            "1/1 [==============================] - 0s 2ms/step - loss: 0.2356 - accuracy: 1.0000\n",
            "Epoch 177/200\n",
            "1/1 [==============================] - 0s 2ms/step - loss: 0.2317 - accuracy: 1.0000\n",
            "Epoch 178/200\n",
            "1/1 [==============================] - 0s 2ms/step - loss: 0.2278 - accuracy: 1.0000\n",
            "Epoch 179/200\n",
            "1/1 [==============================] - 0s 2ms/step - loss: 0.2240 - accuracy: 1.0000\n",
            "Epoch 180/200\n",
            "1/1 [==============================] - 0s 2ms/step - loss: 0.2203 - accuracy: 1.0000\n",
            "Epoch 181/200\n",
            "1/1 [==============================] - 0s 2ms/step - loss: 0.2166 - accuracy: 1.0000\n",
            "Epoch 182/200\n",
            "1/1 [==============================] - 0s 2ms/step - loss: 0.2129 - accuracy: 1.0000\n",
            "Epoch 183/200\n",
            "1/1 [==============================] - 0s 3ms/step - loss: 0.2093 - accuracy: 1.0000\n",
            "Epoch 184/200\n",
            "1/1 [==============================] - 0s 3ms/step - loss: 0.2058 - accuracy: 1.0000\n",
            "Epoch 185/200\n",
            "1/1 [==============================] - 0s 2ms/step - loss: 0.2022 - accuracy: 1.0000\n",
            "Epoch 186/200\n",
            "1/1 [==============================] - 0s 2ms/step - loss: 0.1988 - accuracy: 1.0000\n",
            "Epoch 187/200\n",
            "1/1 [==============================] - 0s 2ms/step - loss: 0.1953 - accuracy: 1.0000\n",
            "Epoch 188/200\n",
            "1/1 [==============================] - 0s 2ms/step - loss: 0.1919 - accuracy: 1.0000\n",
            "Epoch 189/200\n",
            "1/1 [==============================] - 0s 2ms/step - loss: 0.1886 - accuracy: 1.0000\n",
            "Epoch 190/200\n",
            "1/1 [==============================] - 0s 2ms/step - loss: 0.1853 - accuracy: 1.0000\n",
            "Epoch 191/200\n",
            "1/1 [==============================] - 0s 2ms/step - loss: 0.1821 - accuracy: 1.0000\n",
            "Epoch 192/200\n",
            "1/1 [==============================] - 0s 2ms/step - loss: 0.1789 - accuracy: 1.0000\n",
            "Epoch 193/200\n",
            "1/1 [==============================] - 0s 2ms/step - loss: 0.1757 - accuracy: 1.0000\n",
            "Epoch 194/200\n",
            "1/1 [==============================] - 0s 2ms/step - loss: 0.1726 - accuracy: 1.0000\n",
            "Epoch 195/200\n",
            "1/1 [==============================] - 0s 1ms/step - loss: 0.1696 - accuracy: 1.0000\n",
            "Epoch 196/200\n",
            "1/1 [==============================] - 0s 2ms/step - loss: 0.1666 - accuracy: 1.0000\n",
            "Epoch 197/200\n",
            "1/1 [==============================] - 0s 5ms/step - loss: 0.1636 - accuracy: 1.0000\n",
            "Epoch 198/200\n",
            "1/1 [==============================] - 0s 2ms/step - loss: 0.1607 - accuracy: 1.0000\n",
            "Epoch 199/200\n",
            "1/1 [==============================] - 0s 2ms/step - loss: 0.1579 - accuracy: 1.0000\n",
            "Epoch 200/200\n",
            "1/1 [==============================] - 0s 2ms/step - loss: 0.1550 - accuracy: 1.0000\n"
          ],
          "name": "stdout"
        },
        {
          "output_type": "execute_result",
          "data": {
            "text/plain": [
              "<tensorflow.python.keras.callbacks.History at 0x7fe9ba9d3b70>"
            ]
          },
          "metadata": {
            "tags": []
          },
          "execution_count": 44
        }
      ]
    },
    {
      "cell_type": "code",
      "metadata": {
        "id": "Y_BcqGC_AJcX",
        "colab_type": "code",
        "colab": {}
      },
      "source": [
        "def sentence_generation(model, t, current_word, n): # 모델, 토크나이저, 현재 단어, 반복할 횟수\n",
        "    init_word = current_word # 처음 들어온 단어도 마지막에 같이 출력하기위해 저장\n",
        "    sentence = ''\n",
        "    for _ in range(n): # n번 반복\n",
        "        encoded = t.texts_to_sequences([current_word])[0] # 현재 단어에 대한 정수 인코딩\n",
        "        encoded = pad_sequences([encoded], maxlen=5, padding='pre') # 데이터에 대한 패딩\n",
        "        result = model.predict_classes(encoded, verbose=0)\n",
        "        print(result)\n",
        "    # 입력한 X(현재 단어)에 대해서 Y를 예측하고 Y(예측한 단어)를 result에 저장.\n",
        "        for word, index in t.word_index.items(): \n",
        "            if index == result: # 만약 예측한 단어와 인덱스와 동일한 단어가 있다면\n",
        "                break # 해당 단어가 예측 단어이므로 break\n",
        "        print(word)\n",
        "        print(index)\n",
        "        current_word = current_word + ' '  + word # 현재 단어 + ' ' + 예측 단어를 현재 단어로 변경\n",
        "        sentence = sentence + ' ' + word # 예측 단어를 문장에 저장\n",
        "    # for문이므로 이 행동을 다시 반복\n",
        "    sentence = init_word + sentence\n",
        "    return sentence"
      ],
      "execution_count": 0,
      "outputs": []
    },
    {
      "cell_type": "code",
      "metadata": {
        "id": "GpGCo_gzE9BZ",
        "colab_type": "code",
        "outputId": "52875454-a37e-4901-b283-250896a1a062",
        "colab": {
          "base_uri": "https://localhost:8080/",
          "height": 85
        }
      },
      "source": [
        "print(sentence_generation(model, t, '경마장에', 1))"
      ],
      "execution_count": 0,
      "outputs": [
        {
          "output_type": "stream",
          "text": [
            "[3]\n",
            "있는\n",
            "3\n",
            "경마장에 있는\n"
          ],
          "name": "stdout"
        }
      ]
    },
    {
      "cell_type": "code",
      "metadata": {
        "id": "HtSX5Xg4FDGA",
        "colab_type": "code",
        "outputId": "c862fe2d-d227-4531-d878-f6732cb4e156",
        "colab": {
          "base_uri": "https://localhost:8080/",
          "height": 34
        }
      },
      "source": [
        "print(sentence_generation(model, t, '가는 말이', 10)) # 2번 예측"
      ],
      "execution_count": 0,
      "outputs": [
        {
          "output_type": "stream",
          "text": [
            "가는 말이 고와야 오는 말이 곱다 오는 말이 곱다 오는 말이 곱다\n"
          ],
          "name": "stdout"
        }
      ]
    },
    {
      "cell_type": "code",
      "metadata": {
        "id": "ycwHe6XqFxQA",
        "colab_type": "code",
        "outputId": "773c17f7-6e1a-4587-8818-24bd553e8f7c",
        "colab": {
          "base_uri": "https://localhost:8080/",
          "height": 34
        }
      },
      "source": [
        "print(sentence_generation(model, t, '가는', 5)) # 5번 예측"
      ],
      "execution_count": 0,
      "outputs": [
        {
          "output_type": "stream",
          "text": [
            "가는 말이 고와야 오는 말이 곱다\n"
          ],
          "name": "stdout"
        }
      ]
    }
  ]
}