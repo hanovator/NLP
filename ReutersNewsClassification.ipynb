{
  "nbformat": 4,
  "nbformat_minor": 0,
  "metadata": {
    "colab": {
      "name": "ReutersNewsClassification.ipynb",
      "provenance": []
    },
    "kernelspec": {
      "name": "python3",
      "display_name": "Python 3"
    }
  },
  "cells": [
    {
      "cell_type": "code",
      "metadata": {
        "id": "gBrDWCfBUWH6",
        "colab_type": "code",
        "colab": {
          "base_uri": "https://localhost:8080/",
          "height": 71
        },
        "outputId": "2400574b-e3f9-4cdf-e587-10e439b6d2c1"
      },
      "source": [
        "from tensorflow.keras.datasets import reuters\n",
        "%matplotlib inline\n",
        "import matplotlib.pyplot as plt\n",
        "import numpy as np\n",
        "import seaborn as sns"
      ],
      "execution_count": 1,
      "outputs": [
        {
          "output_type": "stream",
          "text": [
            "/usr/local/lib/python3.6/dist-packages/statsmodels/tools/_testing.py:19: FutureWarning: pandas.util.testing is deprecated. Use the functions in the public API at pandas.testing instead.\n",
            "  import pandas.util.testing as tm\n"
          ],
          "name": "stderr"
        }
      ]
    },
    {
      "cell_type": "code",
      "metadata": {
        "id": "OcvugI_BUezZ",
        "colab_type": "code",
        "colab": {
          "base_uri": "https://localhost:8080/",
          "height": 51
        },
        "outputId": "61686549-6995-40ab-96a0-985b9cb8e844"
      },
      "source": [
        "(X_train, y_train), (X_test, y_test) = reuters.load_data(num_words=None, test_split=0.2)"
      ],
      "execution_count": 2,
      "outputs": [
        {
          "output_type": "stream",
          "text": [
            "Downloading data from https://storage.googleapis.com/tensorflow/tf-keras-datasets/reuters.npz\n",
            "2113536/2110848 [==============================] - 0s 0us/step\n"
          ],
          "name": "stdout"
        }
      ]
    },
    {
      "cell_type": "code",
      "metadata": {
        "id": "KR0phsARUxua",
        "colab_type": "code",
        "colab": {
          "base_uri": "https://localhost:8080/",
          "height": 173
        },
        "outputId": "900dbd0d-3e8a-4bc8-befb-fc3112eaed42"
      },
      "source": [
        "X_train"
      ],
      "execution_count": 3,
      "outputs": [
        {
          "output_type": "execute_result",
          "data": {
            "text/plain": [
              "array([list([1, 27595, 28842, 8, 43, 10, 447, 5, 25, 207, 270, 5, 3095, 111, 16, 369, 186, 90, 67, 7, 89, 5, 19, 102, 6, 19, 124, 15, 90, 67, 84, 22, 482, 26, 7, 48, 4, 49, 8, 864, 39, 209, 154, 6, 151, 6, 83, 11, 15, 22, 155, 11, 15, 7, 48, 9, 4579, 1005, 504, 6, 258, 6, 272, 11, 15, 22, 134, 44, 11, 15, 16, 8, 197, 1245, 90, 67, 52, 29, 209, 30, 32, 132, 6, 109, 15, 17, 12]),\n",
              "       list([1, 3267, 699, 3434, 2295, 56, 16784, 7511, 9, 56, 3906, 1073, 81, 5, 1198, 57, 366, 737, 132, 20, 4093, 7, 19261, 49, 2295, 13415, 1037, 3267, 699, 3434, 8, 7, 10, 241, 16, 855, 129, 231, 783, 5, 4, 587, 2295, 13415, 30625, 775, 7, 48, 34, 191, 44, 35, 1795, 505, 17, 12]),\n",
              "       list([1, 53, 12, 284, 15, 14, 272, 26, 53, 959, 32, 818, 15, 14, 272, 26, 39, 684, 70, 11, 14, 12, 3886, 18, 180, 183, 187, 70, 11, 14, 102, 32, 11, 29, 53, 44, 704, 15, 14, 19, 758, 15, 53, 959, 47, 1013, 15, 14, 19, 132, 15, 39, 965, 32, 11, 14, 147, 72, 11, 180, 183, 187, 44, 11, 14, 102, 19, 11, 123, 186, 90, 67, 960, 4, 78, 13, 68, 467, 511, 110, 59, 89, 90, 67, 1390, 55, 2678, 92, 617, 80, 1274, 46, 905, 220, 13, 4, 346, 48, 235, 629, 5, 211, 5, 1118, 7, 11733, 81, 5, 187, 11, 15, 9, 1709, 201, 5, 47, 3615, 18, 478, 4514, 5, 1118, 7, 232, 13051, 71, 5, 160, 63, 11, 9, 26503, 81, 5, 102, 59, 11, 17, 12]),\n",
              "       ...,\n",
              "       list([1, 141, 3890, 387, 81, 8, 16, 1629, 10, 340, 1241, 850, 31, 56, 3890, 691, 9, 1241, 71, 9, 5985, 16338, 19170, 699, 19886, 13441, 18064, 699, 244, 5945, 4, 49, 8, 4, 656, 850, 33, 2993, 9, 2139, 340, 3371, 1493, 9, 17870, 22, 16964, 1094, 687, 83, 35, 15, 257, 6, 57, 9190, 7, 4, 5956, 654, 5, 17822, 6191, 1371, 4, 49, 8, 16, 369, 646, 6, 1076, 7, 124, 407, 17, 12]),\n",
              "       list([1, 53, 46, 957, 26, 14, 74, 132, 26, 39, 46, 258, 3614, 18, 14, 74, 134, 5131, 18, 88, 2321, 72, 11, 14, 1842, 32, 11, 123, 383, 89, 39, 46, 235, 10, 864, 728, 5, 258, 44, 11, 15, 22, 753, 9, 42, 92, 131, 728, 5, 69, 312, 11, 15, 22, 222, 10964, 3237, 383, 48, 39, 74, 235, 10, 864, 276, 5, 61, 32, 11, 15, 21, 4, 211, 5, 126, 1072, 42, 92, 131, 46, 19, 352, 11, 15, 22, 710, 220, 9, 42, 92, 131, 276, 5, 59, 61, 11, 15, 22, 10, 455, 7, 1172, 137, 336, 1325, 6, 1532, 142, 971, 6463, 43, 359, 5, 4, 326, 753, 364, 17, 12]),\n",
              "       list([1, 227, 2406, 91, 21969, 125, 2855, 21, 4, 3976, 76, 7, 4, 757, 481, 3976, 790, 5259, 5654, 9, 111, 149, 8, 7, 10, 76, 223, 51, 4, 417, 8, 1047, 91, 6917, 1688, 340, 7, 194, 9411, 6, 1894, 21, 127, 2151, 2394, 1456, 6, 3034, 4, 329, 433, 7, 65, 87, 1127, 10, 8219, 1475, 290, 9, 21, 567, 16, 1926, 24, 4, 76, 209, 30, 4033, 6655, 5654, 8, 4, 60, 8, 4, 966, 308, 40, 2575, 129, 15562, 295, 277, 1071, 9, 24, 286, 2114, 234, 222, 9, 4, 906, 3994, 8519, 114, 5758, 1752, 7, 4, 113, 17, 12])],\n",
              "      dtype=object)"
            ]
          },
          "metadata": {
            "tags": []
          },
          "execution_count": 3
        }
      ]
    },
    {
      "cell_type": "code",
      "metadata": {
        "id": "5cJ_Ic18VlIt",
        "colab_type": "code",
        "colab": {
          "base_uri": "https://localhost:8080/",
          "height": 34
        },
        "outputId": "0ad27a89-1d97-4613-f6bb-f02c45012882"
      },
      "source": [
        "y_train"
      ],
      "execution_count": 4,
      "outputs": [
        {
          "output_type": "execute_result",
          "data": {
            "text/plain": [
              "array([ 3,  4,  3, ..., 25,  3, 25])"
            ]
          },
          "metadata": {
            "tags": []
          },
          "execution_count": 4
        }
      ]
    },
    {
      "cell_type": "code",
      "metadata": {
        "id": "JPIed65eVz-v",
        "colab_type": "code",
        "colab": {
          "base_uri": "https://localhost:8080/",
          "height": 34
        },
        "outputId": "7f48e3af-9c34-4f06-96e5-cc951cae4f6e"
      },
      "source": [
        "max(y_train)+1"
      ],
      "execution_count": 5,
      "outputs": [
        {
          "output_type": "execute_result",
          "data": {
            "text/plain": [
              "46"
            ]
          },
          "metadata": {
            "tags": []
          },
          "execution_count": 5
        }
      ]
    },
    {
      "cell_type": "code",
      "metadata": {
        "id": "-jx3pnpwV3pd",
        "colab_type": "code",
        "colab": {
          "base_uri": "https://localhost:8080/",
          "height": 51
        },
        "outputId": "2e553c01-b757-4347-cfa7-cb934a84d5d0"
      },
      "source": [
        "print('뉴스 기사의 최대 길이 : {}'.format(max(len(l) for l in X_train)))\n",
        "print('뉴스 기사의 평균 길이 : {}'.format(sum(map(len, X_train))/len(X_train)))"
      ],
      "execution_count": 6,
      "outputs": [
        {
          "output_type": "stream",
          "text": [
            "뉴스 기사의 최대 길이 : 2376\n",
            "뉴스 기사의 평균 길이 : 145.5398574927633\n"
          ],
          "name": "stdout"
        }
      ]
    },
    {
      "cell_type": "code",
      "metadata": {
        "id": "-DKfRHxIWlUA",
        "colab_type": "code",
        "colab": {
          "base_uri": "https://localhost:8080/",
          "height": 279
        },
        "outputId": "344aeac0-a925-4a18-92a6-5a5810e795b2"
      },
      "source": [
        "plt.hist([len(s) for s in X_train], bins=50)\n",
        "plt.xlabel('length of samples')\n",
        "plt.ylabel('number of samples')\n",
        "plt.show()"
      ],
      "execution_count": 7,
      "outputs": [
        {
          "output_type": "display_data",
          "data": {
            "image/png": "[encoded data removed]",
            "text/plain": [
              "<Figure size 432x288 with 1 Axes>"
            ]
          },
          "metadata": {
            "tags": [],
            "needs_background": "light"
          }
        }
      ]
    },
    {
      "cell_type": "code",
      "metadata": {
        "id": "UU59pjVBW3vJ",
        "colab_type": "code",
        "colab": {
          "base_uri": "https://localhost:8080/",
          "height": 337
        },
        "outputId": "a2de962c-2449-4c0c-fbfa-92b86641d9f2"
      },
      "source": [
        "fig, axe = plt.subplots(ncols=1)\n",
        "fig.set_size_inches(12,5)\n",
        "sns.countplot(y_train)"
      ],
      "execution_count": 8,
      "outputs": [
        {
          "output_type": "execute_result",
          "data": {
            "text/plain": [
              "<matplotlib.axes._subplots.AxesSubplot at 0x7f119e574588>"
            ]
          },
          "metadata": {
            "tags": []
          },
          "execution_count": 8
        },
        {
          "output_type": "display_data",
          "data": {
            "image/png": "[encoded data removed]",
            "text/plain": [
              "<Figure size 864x360 with 1 Axes>"
            ]
          },
          "metadata": {
            "tags": [],
            "needs_background": "light"
          }
        }
      ]
    },
    {
      "cell_type": "code",
      "metadata": {
        "id": "SnfysrQGXILX",
        "colab_type": "code",
        "colab": {
          "base_uri": "https://localhost:8080/",
          "height": 170
        },
        "outputId": "557f85c8-fb91-4f2f-bc86-cdf71979b748"
      },
      "source": [
        "unique_elements, counts_elements = np.unique(y_train, return_counts=True)\n",
        "print('각 레이블에 대한 빈도수: ')\n",
        "print(np.asarray((unique_elements, counts_elements)))"
      ],
      "execution_count": 15,
      "outputs": [
        {
          "output_type": "stream",
          "text": [
            "각 레이블에 대한 빈도수: \n",
            "[[   0    1    2    3    4    5    6    7    8    9   10   11   12   13\n",
            "    14   15   16   17   18   19   20   21   22   23   24   25   26   27\n",
            "    28   29   30   31   32   33   34   35   36   37   38   39   40   41\n",
            "    42   43   44   45]\n",
            " [  55  432   74 3159 1949   17   48   16  139  101  124  390   49  172\n",
            "    26   20  444   39   66  549  269  100   15   41   62   92   24   15\n",
            "    48   19   45   39   32   11   50   10   49   19   19   24   36   30\n",
            "    13   21   12   18]]\n"
          ],
          "name": "stdout"
        }
      ]
    },
    {
      "cell_type": "code",
      "metadata": {
        "id": "HgWF1Yn4XgR6",
        "colab_type": "code",
        "colab": {
          "base_uri": "https://localhost:8080/",
          "height": 34
        },
        "outputId": "9c8c8210-22d2-4750-f8e3-66e92da221b9"
      },
      "source": [
        "word_to_index = reuters.get_word_index()\n",
        "word_to_index\n",
        "len(word_to_index)"
      ],
      "execution_count": 26,
      "outputs": [
        {
          "output_type": "execute_result",
          "data": {
            "text/plain": [
              "30979"
            ]
          },
          "metadata": {
            "tags": []
          },
          "execution_count": 26
        }
      ]
    },
    {
      "cell_type": "code",
      "metadata": {
        "id": "g3Y4Ge4AYIQL",
        "colab_type": "code",
        "colab": {}
      },
      "source": [
        "index_to_word = {}\n",
        "for key, value in word_to_index.items():\n",
        "  index_to_word[value] = key"
      ],
      "execution_count": 0,
      "outputs": []
    },
    {
      "cell_type": "code",
      "metadata": {
        "id": "_6JB_RnCYWnm",
        "colab_type": "code",
        "colab": {
          "base_uri": "https://localhost:8080/",
          "height": 34
        },
        "outputId": "ca3aa413-d83f-47f5-cf80-286f138948fd"
      },
      "source": [
        "print('빈도수 상위 28842번 단어 : {}'.format(index_to_word[28842]))"
      ],
      "execution_count": 18,
      "outputs": [
        {
          "output_type": "stream",
          "text": [
            "빈도수 상위 28842번 단어 : nondiscriminatory\n"
          ],
          "name": "stdout"
        }
      ]
    },
    {
      "cell_type": "code",
      "metadata": {
        "id": "zZ7cjQH2Yh0V",
        "colab_type": "code",
        "colab": {
          "base_uri": "https://localhost:8080/",
          "height": 54
        },
        "outputId": "d422c4e8-997d-4b37-d6fd-ecf53376e9ff"
      },
      "source": [
        "print(' '.join([index_to_word[X] for X in X_train[0]]))"
      ],
      "execution_count": 19,
      "outputs": [
        {
          "output_type": "stream",
          "text": [
            "the wattie nondiscriminatory mln loss for plc said at only ended said commonwealth could 1 traders now april 0 a after said from 1985 and from foreign 000 april 0 prices its account year a but in this mln home an states earlier and rise and revs vs 000 its 16 vs 000 a but 3 psbr oils several and shareholders and dividend vs 000 its all 4 vs 000 1 mln agreed largely april 0 are 2 states will billion total and against 000 pct dlrs\n"
          ],
          "name": "stdout"
        }
      ]
    },
    {
      "cell_type": "code",
      "metadata": {
        "id": "C-4Ue4jBYy38",
        "colab_type": "code",
        "colab": {}
      },
      "source": [
        "from tensorflow.keras.datasets import reuters\n",
        "from tensorflow.keras.models import Sequential\n",
        "from tensorflow.keras.layers import Dense, LSTM, Embedding\n",
        "from tensorflow.keras.preprocessing.sequence import pad_sequences\n",
        "from tensorflow.keras.utils import to_categorical\n",
        "from tensorflow.keras.callbacks import EarlyStopping, ModelCheckpoint\n",
        "from tensorflow.keras.models import load_model"
      ],
      "execution_count": 0,
      "outputs": []
    },
    {
      "cell_type": "code",
      "metadata": {
        "id": "zHccTMNTY7Tv",
        "colab_type": "code",
        "colab": {}
      },
      "source": [
        "(X_train, y_train), (X_test, y_test) = reuters.load_data(num_words=1000, test_split=0.2)"
      ],
      "execution_count": 0,
      "outputs": []
    },
    {
      "cell_type": "code",
      "metadata": {
        "id": "1rpArbkDZ4bZ",
        "colab_type": "code",
        "colab": {}
      },
      "source": [
        "max_len = 100\n",
        "X_train = pad_sequences(X_train, maxlen=max_len)\n",
        "X_test = pad_sequences(X_test, maxlen=max_len)"
      ],
      "execution_count": 0,
      "outputs": []
    },
    {
      "cell_type": "code",
      "metadata": {
        "id": "nRkP78av1uc4",
        "colab_type": "code",
        "colab": {
          "base_uri": "https://localhost:8080/",
          "height": 153
        },
        "outputId": "88da3544-5fae-4644-c8d7-22102cf35db9"
      },
      "source": [
        "X_train[0]"
      ],
      "execution_count": 23,
      "outputs": [
        {
          "output_type": "execute_result",
          "data": {
            "text/plain": [
              "array([  0,   0,   0,   0,   0,   0,   0,   0,   0,   0,   0,   0,   0,\n",
              "         1,   2,   2,   8,  43,  10, 447,   5,  25, 207, 270,   5,   2,\n",
              "       111,  16, 369, 186,  90,  67,   7,  89,   5,  19, 102,   6,  19,\n",
              "       124,  15,  90,  67,  84,  22, 482,  26,   7,  48,   4,  49,   8,\n",
              "       864,  39, 209, 154,   6, 151,   6,  83,  11,  15,  22, 155,  11,\n",
              "        15,   7,  48,   9,   2,   2, 504,   6, 258,   6, 272,  11,  15,\n",
              "        22, 134,  44,  11,  15,  16,   8, 197,   2,  90,  67,  52,  29,\n",
              "       209,  30,  32, 132,   6, 109,  15,  17,  12], dtype=int32)"
            ]
          },
          "metadata": {
            "tags": []
          },
          "execution_count": 23
        }
      ]
    },
    {
      "cell_type": "code",
      "metadata": {
        "id": "Pq-Le_yZ1z3o",
        "colab_type": "code",
        "colab": {}
      },
      "source": [
        "y_train = to_categorical(y_train)\n",
        "y_test = to_categorical(y_test)"
      ],
      "execution_count": 0,
      "outputs": []
    },
    {
      "cell_type": "code",
      "metadata": {
        "id": "eiO-12wG2G6z",
        "colab_type": "code",
        "colab": {
          "base_uri": "https://localhost:8080/",
          "height": 34
        },
        "outputId": "5b777eb4-6490-43a4-e806-a6f862e4e635"
      },
      "source": [
        "X_train.shape"
      ],
      "execution_count": 25,
      "outputs": [
        {
          "output_type": "execute_result",
          "data": {
            "text/plain": [
              "(8982, 100)"
            ]
          },
          "metadata": {
            "tags": []
          },
          "execution_count": 25
        }
      ]
    },
    {
      "cell_type": "code",
      "metadata": {
        "id": "FvplFiGD2Q6L",
        "colab_type": "code",
        "colab": {}
      },
      "source": [
        "model = Sequential()\n",
        "model.add(Embedding(1000, 120))\n",
        "model.add(LSTM(120))\n",
        "model.add(Dense(46, activation='softmax'))"
      ],
      "execution_count": 0,
      "outputs": []
    },
    {
      "cell_type": "code",
      "metadata": {
        "id": "jxsu4vQb2xY0",
        "colab_type": "code",
        "colab": {}
      },
      "source": [
        "es = EarlyStopping(monitor='val_loss', mode='min', verbose=1, patience=4)\n",
        "mc = ModelCheckpoint('best_model.h5', monitor='val_acc', mode='max', verbose=1, save_best_only=True)"
      ],
      "execution_count": 0,
      "outputs": []
    },
    {
      "cell_type": "code",
      "metadata": {
        "id": "KhwaoyxK3aZM",
        "colab_type": "code",
        "colab": {}
      },
      "source": [
        "model.compile(loss='categorical_crossentropy', optimizer='adam', metrics=['acc'])"
      ],
      "execution_count": 0,
      "outputs": []
    },
    {
      "cell_type": "code",
      "metadata": {
        "id": "ChShIXIH3vFm",
        "colab_type": "code",
        "colab": {
          "base_uri": "https://localhost:8080/",
          "height": 1000
        },
        "outputId": "8f6041f6-fe71-4ebf-e46f-750daf9aef08"
      },
      "source": [
        "history = model.fit(X_train, y_train, batch_size=128, epochs=30, callbacks=[es,mc], validation_data=(X_test, y_test))\n"
      ],
      "execution_count": 30,
      "outputs": [
        {
          "output_type": "stream",
          "text": [
            "Epoch 1/30\n",
            "71/71 [==============================] - ETA: 0s - loss: 2.6142 - acc: 0.3417\n",
            "Epoch 00001: val_acc improved from -inf to 0.41897, saving model to best_model.h5\n",
            "71/71 [==============================] - 25s 347ms/step - loss: 2.6142 - acc: 0.3417 - val_loss: 2.2270 - val_acc: 0.4190\n",
            "Epoch 2/30\n",
            "71/71 [==============================] - ETA: 0s - loss: 2.0310 - acc: 0.4834\n",
            "Epoch 00002: val_acc improved from 0.41897 to 0.49911, saving model to best_model.h5\n",
            "71/71 [==============================] - 24s 341ms/step - loss: 2.0310 - acc: 0.4834 - val_loss: 2.0235 - val_acc: 0.4991\n",
            "Epoch 3/30\n",
            "71/71 [==============================] - ETA: 0s - loss: 1.8537 - acc: 0.5167\n",
            "Epoch 00003: val_acc improved from 0.49911 to 0.55165, saving model to best_model.h5\n",
            "71/71 [==============================] - 24s 345ms/step - loss: 1.8537 - acc: 0.5167 - val_loss: 1.7567 - val_acc: 0.5516\n",
            "Epoch 4/30\n",
            "71/71 [==============================] - ETA: 0s - loss: 1.7065 - acc: 0.5581\n",
            "Epoch 00004: val_acc did not improve from 0.55165\n",
            "71/71 [==============================] - 24s 343ms/step - loss: 1.7065 - acc: 0.5581 - val_loss: 1.7027 - val_acc: 0.5499\n",
            "Epoch 5/30\n",
            "71/71 [==============================] - ETA: 0s - loss: 1.6753 - acc: 0.5695\n",
            "Epoch 00005: val_acc improved from 0.55165 to 0.56768, saving model to best_model.h5\n",
            "71/71 [==============================] - 24s 343ms/step - loss: 1.6753 - acc: 0.5695 - val_loss: 1.6994 - val_acc: 0.5677\n",
            "Epoch 6/30\n",
            "71/71 [==============================] - ETA: 0s - loss: 1.6013 - acc: 0.5886\n",
            "Epoch 00006: val_acc improved from 0.56768 to 0.56946, saving model to best_model.h5\n",
            "71/71 [==============================] - 24s 342ms/step - loss: 1.6013 - acc: 0.5886 - val_loss: 1.6997 - val_acc: 0.5695\n",
            "Epoch 7/30\n",
            "71/71 [==============================] - ETA: 0s - loss: 1.5588 - acc: 0.6045\n",
            "Epoch 00007: val_acc improved from 0.56946 to 0.58905, saving model to best_model.h5\n",
            "71/71 [==============================] - 24s 343ms/step - loss: 1.5588 - acc: 0.6045 - val_loss: 1.5992 - val_acc: 0.5890\n",
            "Epoch 8/30\n",
            "71/71 [==============================] - ETA: 0s - loss: 1.4525 - acc: 0.6377\n",
            "Epoch 00008: val_acc improved from 0.58905 to 0.62422, saving model to best_model.h5\n",
            "71/71 [==============================] - 24s 344ms/step - loss: 1.4525 - acc: 0.6377 - val_loss: 1.5127 - val_acc: 0.6242\n",
            "Epoch 9/30\n",
            "71/71 [==============================] - ETA: 0s - loss: 1.3509 - acc: 0.6643\n",
            "Epoch 00009: val_acc improved from 0.62422 to 0.64782, saving model to best_model.h5\n",
            "71/71 [==============================] - 24s 343ms/step - loss: 1.3509 - acc: 0.6643 - val_loss: 1.4342 - val_acc: 0.6478\n",
            "Epoch 10/30\n",
            "71/71 [==============================] - ETA: 0s - loss: 1.2532 - acc: 0.6887\n",
            "Epoch 00010: val_acc improved from 0.64782 to 0.66652, saving model to best_model.h5\n",
            "71/71 [==============================] - 24s 344ms/step - loss: 1.2532 - acc: 0.6887 - val_loss: 1.3639 - val_acc: 0.6665\n",
            "Epoch 11/30\n",
            "71/71 [==============================] - ETA: 0s - loss: 1.1764 - acc: 0.7024\n",
            "Epoch 00011: val_acc improved from 0.66652 to 0.66830, saving model to best_model.h5\n",
            "71/71 [==============================] - 24s 344ms/step - loss: 1.1764 - acc: 0.7024 - val_loss: 1.3399 - val_acc: 0.6683\n",
            "Epoch 12/30\n",
            "71/71 [==============================] - ETA: 0s - loss: 1.1178 - acc: 0.7158\n",
            "Epoch 00012: val_acc improved from 0.66830 to 0.67231, saving model to best_model.h5\n",
            "71/71 [==============================] - 25s 348ms/step - loss: 1.1178 - acc: 0.7158 - val_loss: 1.2963 - val_acc: 0.6723\n",
            "Epoch 13/30\n",
            "71/71 [==============================] - ETA: 0s - loss: 1.0688 - acc: 0.7279\n",
            "Epoch 00013: val_acc improved from 0.67231 to 0.68299, saving model to best_model.h5\n",
            "71/71 [==============================] - 24s 344ms/step - loss: 1.0688 - acc: 0.7279 - val_loss: 1.2625 - val_acc: 0.6830\n",
            "Epoch 14/30\n",
            "71/71 [==============================] - ETA: 0s - loss: 1.0123 - acc: 0.7443\n",
            "Epoch 00014: val_acc improved from 0.68299 to 0.68878, saving model to best_model.h5\n",
            "71/71 [==============================] - 24s 344ms/step - loss: 1.0123 - acc: 0.7443 - val_loss: 1.2649 - val_acc: 0.6888\n",
            "Epoch 15/30\n",
            "71/71 [==============================] - ETA: 0s - loss: 0.9685 - acc: 0.7543\n",
            "Epoch 00015: val_acc improved from 0.68878 to 0.69279, saving model to best_model.h5\n",
            "71/71 [==============================] - 24s 343ms/step - loss: 0.9685 - acc: 0.7543 - val_loss: 1.2718 - val_acc: 0.6928\n",
            "Epoch 16/30\n",
            "71/71 [==============================] - ETA: 0s - loss: 0.9253 - acc: 0.7675\n",
            "Epoch 00016: val_acc improved from 0.69279 to 0.69902, saving model to best_model.h5\n",
            "71/71 [==============================] - 24s 342ms/step - loss: 0.9253 - acc: 0.7675 - val_loss: 1.2487 - val_acc: 0.6990\n",
            "Epoch 17/30\n",
            "71/71 [==============================] - ETA: 0s - loss: 0.8737 - acc: 0.7790\n",
            "Epoch 00017: val_acc did not improve from 0.69902\n",
            "71/71 [==============================] - 24s 344ms/step - loss: 0.8737 - acc: 0.7790 - val_loss: 1.2435 - val_acc: 0.6972\n",
            "Epoch 18/30\n",
            "71/71 [==============================] - ETA: 0s - loss: 0.8394 - acc: 0.7876\n",
            "Epoch 00018: val_acc improved from 0.69902 to 0.70570, saving model to best_model.h5\n",
            "71/71 [==============================] - 24s 340ms/step - loss: 0.8394 - acc: 0.7876 - val_loss: 1.2059 - val_acc: 0.7057\n",
            "Epoch 19/30\n",
            "71/71 [==============================] - ETA: 0s - loss: 0.7996 - acc: 0.8012\n",
            "Epoch 00019: val_acc improved from 0.70570 to 0.71327, saving model to best_model.h5\n",
            "71/71 [==============================] - 24s 343ms/step - loss: 0.7996 - acc: 0.8012 - val_loss: 1.2154 - val_acc: 0.7133\n",
            "Epoch 20/30\n",
            "71/71 [==============================] - ETA: 0s - loss: 0.7692 - acc: 0.8067\n",
            "Epoch 00020: val_acc improved from 0.71327 to 0.71594, saving model to best_model.h5\n",
            "71/71 [==============================] - 24s 342ms/step - loss: 0.7692 - acc: 0.8067 - val_loss: 1.2325 - val_acc: 0.7159\n",
            "Epoch 21/30\n",
            "71/71 [==============================] - ETA: 0s - loss: 0.7404 - acc: 0.8144\n",
            "Epoch 00021: val_acc did not improve from 0.71594\n",
            "71/71 [==============================] - 24s 342ms/step - loss: 0.7404 - acc: 0.8144 - val_loss: 1.2416 - val_acc: 0.7102\n",
            "Epoch 22/30\n",
            "71/71 [==============================] - ETA: 0s - loss: 0.7196 - acc: 0.8179\n",
            "Epoch 00022: val_acc did not improve from 0.71594\n",
            "71/71 [==============================] - 24s 344ms/step - loss: 0.7196 - acc: 0.8179 - val_loss: 1.2554 - val_acc: 0.7142\n",
            "Epoch 00022: early stopping\n"
          ],
          "name": "stdout"
        },
        {
          "output_type": "error",
          "ename": "NameError",
          "evalue": "ignored",
          "traceback": [
            "\u001b[0;31m---------------------------------------------------------------------------\u001b[0m",
            "\u001b[0;31mNameError\u001b[0m                                 Traceback (most recent call last)",
            "\u001b[0;32m<ipython-input-30-d5f73afa3b83>\u001b[0m in \u001b[0;36m<module>\u001b[0;34m()\u001b[0m\n\u001b[1;32m      1\u001b[0m \u001b[0mhistory\u001b[0m \u001b[0;34m=\u001b[0m \u001b[0mmodel\u001b[0m\u001b[0;34m.\u001b[0m\u001b[0mfit\u001b[0m\u001b[0;34m(\u001b[0m\u001b[0mX_train\u001b[0m\u001b[0;34m,\u001b[0m \u001b[0my_train\u001b[0m\u001b[0;34m,\u001b[0m \u001b[0mbatch_size\u001b[0m\u001b[0;34m=\u001b[0m\u001b[0;36m128\u001b[0m\u001b[0;34m,\u001b[0m \u001b[0mepochs\u001b[0m\u001b[0;34m=\u001b[0m\u001b[0;36m30\u001b[0m\u001b[0;34m,\u001b[0m \u001b[0mcallbacks\u001b[0m\u001b[0;34m=\u001b[0m\u001b[0;34m[\u001b[0m\u001b[0mes\u001b[0m\u001b[0;34m,\u001b[0m\u001b[0mmc\u001b[0m\u001b[0;34m]\u001b[0m\u001b[0;34m,\u001b[0m \u001b[0mvalidation_data\u001b[0m\u001b[0;34m=\u001b[0m\u001b[0;34m(\u001b[0m\u001b[0mX_test\u001b[0m\u001b[0;34m,\u001b[0m \u001b[0my_test\u001b[0m\u001b[0;34m)\u001b[0m\u001b[0;34m)\u001b[0m\u001b[0;34m\u001b[0m\u001b[0;34m\u001b[0m\u001b[0m\n\u001b[0;32m----> 2\u001b[0;31m \u001b[0mdata\u001b[0m\u001b[0;34m=\u001b[0m\u001b[0;34m(\u001b[0m\u001b[0mX_teste\u001b[0m\u001b[0;34m,\u001b[0m \u001b[0my_test\u001b[0m\u001b[0;34m)\u001b[0m\u001b[0;34m\u001b[0m\u001b[0;34m\u001b[0m\u001b[0m\n\u001b[0m",
            "\u001b[0;31mNameError\u001b[0m: name 'X_teste' is not defined"
          ]
        }
      ]
    },
    {
      "cell_type": "code",
      "metadata": {
        "id": "9NdyTv6d4AQ-",
        "colab_type": "code",
        "colab": {}
      },
      "source": [
        "data=(X_test, y_test)"
      ],
      "execution_count": 0,
      "outputs": []
    },
    {
      "cell_type": "code",
      "metadata": {
        "id": "HGqLK6UT7KIn",
        "colab_type": "code",
        "colab": {
          "base_uri": "https://localhost:8080/",
          "height": 68
        },
        "outputId": "4eae3a59-e7cd-490f-e3e7-8d7de1975133"
      },
      "source": [
        "loaded_model =load_model('best_model.h5')\n",
        "print('\\n 테스트 정확도: %.4f' %(loaded_model.evaluate(X_test, y_test)[1]))"
      ],
      "execution_count": 32,
      "outputs": [
        {
          "output_type": "stream",
          "text": [
            "71/71 [==============================] - 2s 29ms/step - loss: 1.2325 - acc: 0.7159\n",
            "\n",
            " 테스트 정확도: 0.7159\n"
          ],
          "name": "stdout"
        }
      ]
    },
    {
      "cell_type": "code",
      "metadata": {
        "id": "lJe-jG2Z7eqA",
        "colab_type": "code",
        "colab": {
          "base_uri": "https://localhost:8080/",
          "height": 295
        },
        "outputId": "244b7957-54e0-4df7-b873-1694430e42dc"
      },
      "source": [
        "epochs = range(1, len(history.history['acc']) + 1)\n",
        "plt.plot(epochs, history.history['loss'])\n",
        "plt.plot(epochs, history.history['val_loss'])\n",
        "plt.title('model loss')\n",
        "plt.ylabel('loss')\n",
        "plt.xlabel('epoch')\n",
        "plt.legend(['train', 'test'], loc='upper left')\n",
        "plt.show()"
      ],
      "execution_count": 33,
      "outputs": [
        {
          "output_type": "display_data",
          "data": {
            "image/png": "[encoded data removed]",
            "text/plain": [
              "<Figure size 432x288 with 1 Axes>"
            ]
          },
          "metadata": {
            "tags": [],
            "needs_background": "light"
          }
        }
      ]
    },
    {
      "cell_type": "code",
      "metadata": {
        "id": "H-xlQyyW7j9Z",
        "colab_type": "code",
        "colab": {}
      },
      "source": [
        ""
      ],
      "execution_count": 0,
      "outputs": []
    }
  ]
}