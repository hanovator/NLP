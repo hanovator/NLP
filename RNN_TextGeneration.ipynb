{
  "nbformat": 4,
  "nbformat_minor": 0,
  "metadata": {
    "colab": {
      "name": "RNN_TextGeneration.ipynb",
      "provenance": []
    },
    "kernelspec": {
      "name": "python3",
      "display_name": "Python 3"
    }
  },
  "cells": [
    {
      "cell_type": "code",
      "metadata": {
        "id": "TlWUaEuuHtEi",
        "colab_type": "code",
        "colab": {}
      },
      "source": [
        "# RNN_TextGeneration (https://www.kaggle.com/aashita/nyt-comments)"
      ],
      "execution_count": 0,
      "outputs": []
    },
    {
      "cell_type": "code",
      "metadata": {
        "id": "9XARMI_VHyso",
        "colab_type": "code",
        "colab": {}
      },
      "source": [
        "import pandas as pd\n",
        "from string import punctuation\n",
        "from tensorflow.keras.preprocessing.text import Tokenizer\n",
        "from tensorflow.keras.preprocessing.sequence import pad_sequences\n",
        "import numpy as np\n",
        "from tensorflow.keras.utils import to_categorical"
      ],
      "execution_count": 0,
      "outputs": []
    },
    {
      "cell_type": "code",
      "metadata": {
        "id": "nUGk7AYUH0MR",
        "colab_type": "code",
        "outputId": "73987cc1-c58f-4c17-bfb8-ccaa9d5cf706",
        "colab": {
          "base_uri": "https://localhost:8080/",
          "height": 632
        }
      },
      "source": [
        "df=pd.read_csv('ArticlesApril2018.csv')\n",
        "df.head()"
      ],
      "execution_count": 0,
      "outputs": [
        {
          "output_type": "execute_result",
          "data": {
            "text/html": [
              "<div>\n",
              "<style scoped>\n",
              "    .dataframe tbody tr th:only-of-type {\n",
              "        vertical-align: middle;\n",
              "    }\n",
              "\n",
              "    .dataframe tbody tr th {\n",
              "        vertical-align: top;\n",
              "    }\n",
              "\n",
              "    .dataframe thead th {\n",
              "        text-align: right;\n",
              "    }\n",
              "</style>\n",
              "<table border=\"1\" class=\"dataframe\">\n",
              "  <thead>\n",
              "    <tr style=\"text-align: right;\">\n",
              "      <th></th>\n",
              "      <th>articleID</th>\n",
              "      <th>articleWordCount</th>\n",
              "      <th>byline</th>\n",
              "      <th>documentType</th>\n",
              "      <th>headline</th>\n",
              "      <th>keywords</th>\n",
              "      <th>multimedia</th>\n",
              "      <th>newDesk</th>\n",
              "      <th>printPage</th>\n",
              "      <th>pubDate</th>\n",
              "      <th>sectionName</th>\n",
              "      <th>snippet</th>\n",
              "      <th>source</th>\n",
              "      <th>typeOfMaterial</th>\n",
              "      <th>webURL</th>\n",
              "    </tr>\n",
              "  </thead>\n",
              "  <tbody>\n",
              "    <tr>\n",
              "      <th>0</th>\n",
              "      <td>5adf6684068401528a2aa69b</td>\n",
              "      <td>781</td>\n",
              "      <td>By JOHN BRANCH</td>\n",
              "      <td>article</td>\n",
              "      <td>Former N.F.L. Cheerleaders’ Settlement Offer: ...</td>\n",
              "      <td>['Workplace Hazards and Violations', 'Football...</td>\n",
              "      <td>68</td>\n",
              "      <td>Sports</td>\n",
              "      <td>0</td>\n",
              "      <td>2018-04-24 17:16:49</td>\n",
              "      <td>Pro Football</td>\n",
              "      <td>“I understand that they could meet with us, pa...</td>\n",
              "      <td>The New York Times</td>\n",
              "      <td>News</td>\n",
              "      <td>https://www.nytimes.com/2018/04/24/sports/foot...</td>\n",
              "    </tr>\n",
              "    <tr>\n",
              "      <th>1</th>\n",
              "      <td>5adf653f068401528a2aa697</td>\n",
              "      <td>656</td>\n",
              "      <td>By LISA FRIEDMAN</td>\n",
              "      <td>article</td>\n",
              "      <td>E.P.A. to Unveil a New Rule. Its Effect: Less ...</td>\n",
              "      <td>['Environmental Protection Agency', 'Pruitt, S...</td>\n",
              "      <td>68</td>\n",
              "      <td>Climate</td>\n",
              "      <td>0</td>\n",
              "      <td>2018-04-24 17:11:21</td>\n",
              "      <td>Unknown</td>\n",
              "      <td>The agency plans to publish a new regulation T...</td>\n",
              "      <td>The New York Times</td>\n",
              "      <td>News</td>\n",
              "      <td>https://www.nytimes.com/2018/04/24/climate/epa...</td>\n",
              "    </tr>\n",
              "    <tr>\n",
              "      <th>2</th>\n",
              "      <td>5adf4626068401528a2aa628</td>\n",
              "      <td>2427</td>\n",
              "      <td>By PETE WELLS</td>\n",
              "      <td>article</td>\n",
              "      <td>The New Noma, Explained</td>\n",
              "      <td>['Restaurants', 'Noma (Copenhagen, Restaurant)...</td>\n",
              "      <td>66</td>\n",
              "      <td>Dining</td>\n",
              "      <td>0</td>\n",
              "      <td>2018-04-24 14:58:44</td>\n",
              "      <td>Unknown</td>\n",
              "      <td>What’s it like to eat at the second incarnatio...</td>\n",
              "      <td>The New York Times</td>\n",
              "      <td>News</td>\n",
              "      <td>https://www.nytimes.com/2018/04/24/dining/noma...</td>\n",
              "    </tr>\n",
              "    <tr>\n",
              "      <th>3</th>\n",
              "      <td>5adf40d2068401528a2aa619</td>\n",
              "      <td>626</td>\n",
              "      <td>By JULIE HIRSCHFELD DAVIS and PETER BAKER</td>\n",
              "      <td>article</td>\n",
              "      <td>Unknown</td>\n",
              "      <td>['Macron, Emmanuel (1977- )', 'Trump, Donald J...</td>\n",
              "      <td>68</td>\n",
              "      <td>Washington</td>\n",
              "      <td>0</td>\n",
              "      <td>2018-04-24 14:35:57</td>\n",
              "      <td>Europe</td>\n",
              "      <td>President Trump welcomed President Emmanuel Ma...</td>\n",
              "      <td>The New York Times</td>\n",
              "      <td>News</td>\n",
              "      <td>https://www.nytimes.com/2018/04/24/world/europ...</td>\n",
              "    </tr>\n",
              "    <tr>\n",
              "      <th>4</th>\n",
              "      <td>5adf3d64068401528a2aa60f</td>\n",
              "      <td>815</td>\n",
              "      <td>By IAN AUSTEN and DAN BILEFSKY</td>\n",
              "      <td>article</td>\n",
              "      <td>Unknown</td>\n",
              "      <td>['Toronto, Ontario, Attack (April, 2018)', 'Mu...</td>\n",
              "      <td>68</td>\n",
              "      <td>Foreign</td>\n",
              "      <td>0</td>\n",
              "      <td>2018-04-24 14:21:21</td>\n",
              "      <td>Canada</td>\n",
              "      <td>Alek Minassian, 25, a resident of Toronto’s Ri...</td>\n",
              "      <td>The New York Times</td>\n",
              "      <td>News</td>\n",
              "      <td>https://www.nytimes.com/2018/04/24/world/canad...</td>\n",
              "    </tr>\n",
              "  </tbody>\n",
              "</table>\n",
              "</div>"
            ],
            "text/plain": [
              "                  articleID  ...                                             webURL\n",
              "0  5adf6684068401528a2aa69b  ...  https://www.nytimes.com/2018/04/24/sports/foot...\n",
              "1  5adf653f068401528a2aa697  ...  https://www.nytimes.com/2018/04/24/climate/epa...\n",
              "2  5adf4626068401528a2aa628  ...  https://www.nytimes.com/2018/04/24/dining/noma...\n",
              "3  5adf40d2068401528a2aa619  ...  https://www.nytimes.com/2018/04/24/world/europ...\n",
              "4  5adf3d64068401528a2aa60f  ...  https://www.nytimes.com/2018/04/24/world/canad...\n",
              "\n",
              "[5 rows x 15 columns]"
            ]
          },
          "metadata": {
            "tags": []
          },
          "execution_count": 4
        }
      ]
    },
    {
      "cell_type": "code",
      "metadata": {
        "id": "Pz3sSVQUIIZi",
        "colab_type": "code",
        "outputId": "f4efbd35-3c02-4d10-efa0-12355035eda4",
        "colab": {
          "base_uri": "https://localhost:8080/",
          "height": 34
        }
      },
      "source": [
        "len(df.columns)"
      ],
      "execution_count": 0,
      "outputs": [
        {
          "output_type": "execute_result",
          "data": {
            "text/plain": [
              "15"
            ]
          },
          "metadata": {
            "tags": []
          },
          "execution_count": 5
        }
      ]
    },
    {
      "cell_type": "code",
      "metadata": {
        "id": "iTcE15JbIXLa",
        "colab_type": "code",
        "outputId": "33d166b9-5725-4b34-926c-51c7972c992c",
        "colab": {
          "base_uri": "https://localhost:8080/",
          "height": 85
        }
      },
      "source": [
        "df.columns"
      ],
      "execution_count": 0,
      "outputs": [
        {
          "output_type": "execute_result",
          "data": {
            "text/plain": [
              "Index(['articleID', 'articleWordCount', 'byline', 'documentType', 'headline',\n",
              "       'keywords', 'multimedia', 'newDesk', 'printPage', 'pubDate',\n",
              "       'sectionName', 'snippet', 'source', 'typeOfMaterial', 'webURL'],\n",
              "      dtype='object')"
            ]
          },
          "metadata": {
            "tags": []
          },
          "execution_count": 6
        }
      ]
    },
    {
      "cell_type": "code",
      "metadata": {
        "id": "zV2A83MOIZMK",
        "colab_type": "code",
        "outputId": "9c7b4167-6ab1-461e-adb9-d3e0a2187edb",
        "colab": {
          "base_uri": "https://localhost:8080/",
          "height": 34
        }
      },
      "source": [
        "df['headline'].isnull().values.any()"
      ],
      "execution_count": 0,
      "outputs": [
        {
          "output_type": "execute_result",
          "data": {
            "text/plain": [
              "False"
            ]
          },
          "metadata": {
            "tags": []
          },
          "execution_count": 8
        }
      ]
    },
    {
      "cell_type": "code",
      "metadata": {
        "id": "tgZ9Y6dyIfLS",
        "colab_type": "code",
        "outputId": "00bdfe4c-22ba-4f43-ca96-2fb9fadd71e3",
        "colab": {
          "base_uri": "https://localhost:8080/",
          "height": 102
        }
      },
      "source": [
        "headline = []\n",
        "headline.extend(list(df.headline.values))\n",
        "headline[:5]"
      ],
      "execution_count": 0,
      "outputs": [
        {
          "output_type": "execute_result",
          "data": {
            "text/plain": [
              "['Former N.F.L. Cheerleaders’ Settlement Offer: $1 and a Meeting With Goodell',\n",
              " 'E.P.A. to Unveil a New Rule. Its Effect: Less Science in Policymaking.',\n",
              " 'The New Noma, Explained',\n",
              " 'Unknown',\n",
              " 'Unknown']"
            ]
          },
          "metadata": {
            "tags": []
          },
          "execution_count": 9
        }
      ]
    },
    {
      "cell_type": "code",
      "metadata": {
        "id": "ck7d_MQuI8p7",
        "colab_type": "code",
        "outputId": "66e5bab3-822b-4d9e-8ef1-340395256955",
        "colab": {
          "base_uri": "https://localhost:8080/",
          "height": 34
        }
      },
      "source": [
        "len(headline)"
      ],
      "execution_count": 0,
      "outputs": [
        {
          "output_type": "execute_result",
          "data": {
            "text/plain": [
              "1324"
            ]
          },
          "metadata": {
            "tags": []
          },
          "execution_count": 11
        }
      ]
    },
    {
      "cell_type": "code",
      "metadata": {
        "id": "WqNqIKDDKQSB",
        "colab_type": "code",
        "outputId": "2ea43915-66a1-4977-d488-f6562a83f36f",
        "colab": {
          "base_uri": "https://localhost:8080/",
          "height": 34
        }
      },
      "source": [
        "headline = [n for n in headline if n != 'Unknown']\n",
        "len(headline)"
      ],
      "execution_count": 0,
      "outputs": [
        {
          "output_type": "execute_result",
          "data": {
            "text/plain": [
              "1214"
            ]
          },
          "metadata": {
            "tags": []
          },
          "execution_count": 12
        }
      ]
    },
    {
      "cell_type": "code",
      "metadata": {
        "id": "r2Zy0JO-KZAd",
        "colab_type": "code",
        "outputId": "09dcd8f4-85a0-4afc-a22a-8241e03e42e2",
        "colab": {
          "base_uri": "https://localhost:8080/",
          "height": 102
        }
      },
      "source": [
        "headline[:5]"
      ],
      "execution_count": 0,
      "outputs": [
        {
          "output_type": "execute_result",
          "data": {
            "text/plain": [
              "['Former N.F.L. Cheerleaders’ Settlement Offer: $1 and a Meeting With Goodell',\n",
              " 'E.P.A. to Unveil a New Rule. Its Effect: Less Science in Policymaking.',\n",
              " 'The New Noma, Explained',\n",
              " 'How a Bag of Texas Dirt  Became a Times Tradition',\n",
              " 'Is School a Place for Self-Expression?']"
            ]
          },
          "metadata": {
            "tags": []
          },
          "execution_count": 14
        }
      ]
    },
    {
      "cell_type": "code",
      "metadata": {
        "id": "3wtj5GjbK3lr",
        "colab_type": "code",
        "outputId": "79861d7d-0f9a-4fef-cda5-208f57f81aae",
        "colab": {
          "base_uri": "https://localhost:8080/",
          "height": 34
        }
      },
      "source": [
        "punctuation"
      ],
      "execution_count": 0,
      "outputs": [
        {
          "output_type": "execute_result",
          "data": {
            "text/plain": [
              "'!\"#$%&\\'()*+,-./:;<=>?@[\\\\]^_`{|}~'"
            ]
          },
          "metadata": {
            "tags": []
          },
          "execution_count": 15
        }
      ]
    },
    {
      "cell_type": "code",
      "metadata": {
        "id": "gLmD1uSNKd3E",
        "colab_type": "code",
        "outputId": "b1bc1436-2e9a-4852-bd7d-dfbedb8dc932",
        "colab": {
          "base_uri": "https://localhost:8080/",
          "height": 102
        }
      },
      "source": [
        "def repreprocessing(s):\n",
        "  s = s.encode(\"utf8\").decode(\"ascii\", \"ignore\")\n",
        "  return ''.join(c for c in s if c not in punctuation).lower()\n",
        "\n",
        "text = [repreprocessing(x) for x in headline]\n",
        "text[:5]"
      ],
      "execution_count": 0,
      "outputs": [
        {
          "output_type": "execute_result",
          "data": {
            "text/plain": [
              "['former nfl cheerleaders settlement offer 1 and a meeting with goodell',\n",
              " 'epa to unveil a new rule its effect less science in policymaking',\n",
              " 'the new noma explained',\n",
              " 'how a bag of texas dirt  became a times tradition',\n",
              " 'is school a place for selfexpression']"
            ]
          },
          "metadata": {
            "tags": []
          },
          "execution_count": 18
        }
      ]
    },
    {
      "cell_type": "code",
      "metadata": {
        "id": "OUnQRV6DLZ8F",
        "colab_type": "code",
        "outputId": "32ae740a-b00c-4ae7-8cc6-1cec9d72898a",
        "colab": {
          "base_uri": "https://localhost:8080/",
          "height": 1000
        }
      },
      "source": [
        "for i in 'former nfl cheerleaders settlement offer 1 and a meeting with goodell':\n",
        "  print(i)"
      ],
      "execution_count": 0,
      "outputs": [
        {
          "output_type": "stream",
          "text": [
            "f\n",
            "o\n",
            "r\n",
            "m\n",
            "e\n",
            "r\n",
            " \n",
            "n\n",
            "f\n",
            "l\n",
            " \n",
            "c\n",
            "h\n",
            "e\n",
            "e\n",
            "r\n",
            "l\n",
            "e\n",
            "a\n",
            "d\n",
            "e\n",
            "r\n",
            "s\n",
            " \n",
            "s\n",
            "e\n",
            "t\n",
            "t\n",
            "l\n",
            "e\n",
            "m\n",
            "e\n",
            "n\n",
            "t\n",
            " \n",
            "o\n",
            "f\n",
            "f\n",
            "e\n",
            "r\n",
            " \n",
            "1\n",
            " \n",
            "a\n",
            "n\n",
            "d\n",
            " \n",
            "a\n",
            " \n",
            "m\n",
            "e\n",
            "e\n",
            "t\n",
            "i\n",
            "n\n",
            "g\n",
            " \n",
            "w\n",
            "i\n",
            "t\n",
            "h\n",
            " \n",
            "g\n",
            "o\n",
            "o\n",
            "d\n",
            "e\n",
            "l\n",
            "l\n"
          ],
          "name": "stdout"
        }
      ]
    },
    {
      "cell_type": "code",
      "metadata": {
        "id": "hFkeZ84qLkOE",
        "colab_type": "code",
        "outputId": "de4158cc-c32d-4d2e-942e-d47fc3138e4a",
        "colab": {
          "base_uri": "https://localhost:8080/",
          "height": 34
        }
      },
      "source": [
        "t = Tokenizer()\n",
        "t.fit_on_texts(text)\n",
        "vocab_size = len(t.word_index) + 1\n",
        "print('단어 집합의 크기 : %d' % vocab_size)"
      ],
      "execution_count": 0,
      "outputs": [
        {
          "output_type": "stream",
          "text": [
            "단어 집합의 크기 : 3494\n"
          ],
          "name": "stdout"
        }
      ]
    },
    {
      "cell_type": "code",
      "metadata": {
        "id": "RQxgY8TTMRpK",
        "colab_type": "code",
        "outputId": "95c594b8-3786-4d14-e7c2-8ca2af3ae4be",
        "colab": {
          "base_uri": "https://localhost:8080/",
          "height": 102
        }
      },
      "source": [
        "text[:5]"
      ],
      "execution_count": 0,
      "outputs": [
        {
          "output_type": "execute_result",
          "data": {
            "text/plain": [
              "['former nfl cheerleaders settlement offer 1 and a meeting with goodell',\n",
              " 'epa to unveil a new rule its effect less science in policymaking',\n",
              " 'the new noma explained',\n",
              " 'how a bag of texas dirt  became a times tradition',\n",
              " 'is school a place for selfexpression']"
            ]
          },
          "metadata": {
            "tags": []
          },
          "execution_count": 24
        }
      ]
    },
    {
      "cell_type": "code",
      "metadata": {
        "id": "M9O_yBjuMUXD",
        "colab_type": "code",
        "outputId": "deb8114f-f648-4d72-a105-666ec274e03b",
        "colab": {
          "base_uri": "https://localhost:8080/",
          "height": 204
        }
      },
      "source": [
        "sequences = list()\n",
        "\n",
        "for line in text:\n",
        "\n",
        "  encoded = t.texts_to_sequences([line])[0]\n",
        "  for i in range(1, len(encoded)):\n",
        "    sequence = encoded[:i+1]\n",
        "    sequences.append(sequence)\n",
        "\n",
        "sequences[:11]"
      ],
      "execution_count": 0,
      "outputs": [
        {
          "output_type": "execute_result",
          "data": {
            "text/plain": [
              "[[99, 269],\n",
              " [99, 269, 371],\n",
              " [99, 269, 371, 1115],\n",
              " [99, 269, 371, 1115, 582],\n",
              " [99, 269, 371, 1115, 582, 52],\n",
              " [99, 269, 371, 1115, 582, 52, 7],\n",
              " [99, 269, 371, 1115, 582, 52, 7, 2],\n",
              " [99, 269, 371, 1115, 582, 52, 7, 2, 372],\n",
              " [99, 269, 371, 1115, 582, 52, 7, 2, 372, 10],\n",
              " [99, 269, 371, 1115, 582, 52, 7, 2, 372, 10, 1116],\n",
              " [100, 3]]"
            ]
          },
          "metadata": {
            "tags": []
          },
          "execution_count": 33
        }
      ]
    },
    {
      "cell_type": "code",
      "metadata": {
        "id": "jIP1hxwdNKQt",
        "colab_type": "code",
        "colab": {}
      },
      "source": [
        "index_to_word = {}\n",
        "for key, value in t.word_index.items():\n",
        "  index_to_word[value] = key"
      ],
      "execution_count": 0,
      "outputs": []
    },
    {
      "cell_type": "code",
      "metadata": {
        "id": "s2-8-Ur4OUUc",
        "colab_type": "code",
        "outputId": "dce1e3ad-f9fe-4f5c-ccf3-bbe778c17492",
        "colab": {
          "base_uri": "https://localhost:8080/",
          "height": 34
        }
      },
      "source": [
        "index_to_word[1]"
      ],
      "execution_count": 0,
      "outputs": [
        {
          "output_type": "execute_result",
          "data": {
            "text/plain": [
              "'the'"
            ]
          },
          "metadata": {
            "tags": []
          },
          "execution_count": 39
        }
      ]
    },
    {
      "cell_type": "code",
      "metadata": {
        "id": "PvfPAz-_OtUl",
        "colab_type": "code",
        "outputId": "efb61962-d707-4d9c-bda8-1c25f54d9689",
        "colab": {
          "base_uri": "https://localhost:8080/",
          "height": 34
        }
      },
      "source": [
        "max_len = max(len(l) for l in sequences)\n",
        "max_len"
      ],
      "execution_count": 0,
      "outputs": [
        {
          "output_type": "execute_result",
          "data": {
            "text/plain": [
              "24"
            ]
          },
          "metadata": {
            "tags": []
          },
          "execution_count": 40
        }
      ]
    },
    {
      "cell_type": "code",
      "metadata": {
        "id": "hqHpNCLSO3XD",
        "colab_type": "code",
        "outputId": "fd62773a-738e-4839-9581-4dc272666077",
        "colab": {
          "base_uri": "https://localhost:8080/",
          "height": 170
        }
      },
      "source": [
        "sequences = pad_sequences(sequences, maxlen=max_len, padding='pre')\n",
        "sequences[:3]"
      ],
      "execution_count": 0,
      "outputs": [
        {
          "output_type": "execute_result",
          "data": {
            "text/plain": [
              "array([[   0,    0,    0,    0,    0,    0,    0,    0,    0,    0,    0,\n",
              "           0,    0,    0,    0,    0,    0,    0,    0,    0,    0,    0,\n",
              "          99,  269],\n",
              "       [   0,    0,    0,    0,    0,    0,    0,    0,    0,    0,    0,\n",
              "           0,    0,    0,    0,    0,    0,    0,    0,    0,    0,   99,\n",
              "         269,  371],\n",
              "       [   0,    0,    0,    0,    0,    0,    0,    0,    0,    0,    0,\n",
              "           0,    0,    0,    0,    0,    0,    0,    0,    0,   99,  269,\n",
              "         371, 1115]], dtype=int32)"
            ]
          },
          "metadata": {
            "tags": []
          },
          "execution_count": 41
        }
      ]
    },
    {
      "cell_type": "code",
      "metadata": {
        "id": "DO5d43JpPB1t",
        "colab_type": "code",
        "colab": {}
      },
      "source": [
        "sequences = np.array(sequences)\n",
        "X = sequences[:,:-1]\n",
        "y = sequences[:,-1]"
      ],
      "execution_count": 0,
      "outputs": []
    },
    {
      "cell_type": "code",
      "metadata": {
        "id": "KR1nZ5_gPNoC",
        "colab_type": "code",
        "outputId": "bf0b433f-e00c-4225-a098-83d1c1e8e989",
        "colab": {
          "base_uri": "https://localhost:8080/",
          "height": 119
        }
      },
      "source": [
        "X[:3]"
      ],
      "execution_count": 0,
      "outputs": [
        {
          "output_type": "execute_result",
          "data": {
            "text/plain": [
              "array([[  0,   0,   0,   0,   0,   0,   0,   0,   0,   0,   0,   0,   0,\n",
              "          0,   0,   0,   0,   0,   0,   0,   0,   0,  99],\n",
              "       [  0,   0,   0,   0,   0,   0,   0,   0,   0,   0,   0,   0,   0,\n",
              "          0,   0,   0,   0,   0,   0,   0,   0,  99, 269],\n",
              "       [  0,   0,   0,   0,   0,   0,   0,   0,   0,   0,   0,   0,   0,\n",
              "          0,   0,   0,   0,   0,   0,   0,  99, 269, 371]], dtype=int32)"
            ]
          },
          "metadata": {
            "tags": []
          },
          "execution_count": 43
        }
      ]
    },
    {
      "cell_type": "code",
      "metadata": {
        "id": "IosTjjcFPO2j",
        "colab_type": "code",
        "colab": {}
      },
      "source": [
        "y = to_categorical(y, num_classes=vocab_size)"
      ],
      "execution_count": 0,
      "outputs": []
    },
    {
      "cell_type": "code",
      "metadata": {
        "id": "SNj_-PokPf_e",
        "colab_type": "code",
        "colab": {}
      },
      "source": [
        "from tensorflow.keras.models import Sequential\n",
        "from tensorflow.keras.layers import Embedding, Dense, LSTM"
      ],
      "execution_count": 0,
      "outputs": []
    },
    {
      "cell_type": "code",
      "metadata": {
        "id": "6OLc54hNPhoZ",
        "colab_type": "code",
        "outputId": "7dbce7b9-99ab-4ae2-a416-1f926200be7b",
        "colab": {
          "base_uri": "https://localhost:8080/",
          "height": 1000
        }
      },
      "source": [
        "model = Sequential()\n",
        "model.add(Embedding(vocab_size, 10 , input_length=max_len-1))\n",
        "\n",
        "model.add(LSTM(128))\n",
        "model.add(Dense(vocab_size, activation='softmax'))\n",
        "model.compile(loss='categorical_crossentropy', optimizer='adam', metrics=['accuracy'])\n",
        "model.fit(X, y, epochs=200, verbose=2)"
      ],
      "execution_count": 0,
      "outputs": [
        {
          "output_type": "stream",
          "text": [
            "Epoch 1/200\n",
            "244/244 - 8s - loss: 7.6366 - accuracy: 0.0299\n",
            "Epoch 2/200\n",
            "244/244 - 8s - loss: 7.1155 - accuracy: 0.0310\n",
            "Epoch 3/200\n",
            "244/244 - 8s - loss: 6.9827 - accuracy: 0.0304\n",
            "Epoch 4/200\n",
            "244/244 - 8s - loss: 6.8578 - accuracy: 0.0408\n",
            "Epoch 5/200\n",
            "244/244 - 8s - loss: 6.7118 - accuracy: 0.0474\n",
            "Epoch 6/200\n",
            "244/244 - 8s - loss: 6.5602 - accuracy: 0.0465\n",
            "Epoch 7/200\n",
            "244/244 - 8s - loss: 6.4997 - accuracy: 0.0472\n",
            "Epoch 8/200\n",
            "244/244 - 8s - loss: 6.2444 - accuracy: 0.0510\n",
            "Epoch 9/200\n",
            "244/244 - 8s - loss: 6.0695 - accuracy: 0.0568\n",
            "Epoch 10/200\n",
            "244/244 - 9s - loss: 5.8948 - accuracy: 0.0620\n",
            "Epoch 11/200\n",
            "244/244 - 8s - loss: 5.7218 - accuracy: 0.0661\n",
            "Epoch 12/200\n",
            "244/244 - 8s - loss: 5.5539 - accuracy: 0.0706\n",
            "Epoch 13/200\n",
            "244/244 - 8s - loss: 5.3897 - accuracy: 0.0768\n",
            "Epoch 14/200\n",
            "244/244 - 8s - loss: 5.2331 - accuracy: 0.0848\n",
            "Epoch 15/200\n",
            "244/244 - 8s - loss: 5.0830 - accuracy: 0.0886\n",
            "Epoch 16/200\n",
            "244/244 - 8s - loss: 4.9412 - accuracy: 0.0982\n",
            "Epoch 17/200\n",
            "244/244 - 8s - loss: 4.8042 - accuracy: 0.1080\n",
            "Epoch 18/200\n",
            "244/244 - 8s - loss: 4.6718 - accuracy: 0.1184\n",
            "Epoch 19/200\n",
            "244/244 - 8s - loss: 4.5459 - accuracy: 0.1333\n",
            "Epoch 20/200\n",
            "244/244 - 8s - loss: 4.4212 - accuracy: 0.1457\n",
            "Epoch 21/200\n",
            "244/244 - 8s - loss: 4.3031 - accuracy: 0.1658\n",
            "Epoch 22/200\n",
            "244/244 - 8s - loss: 4.1872 - accuracy: 0.1813\n",
            "Epoch 23/200\n",
            "244/244 - 8s - loss: 4.0769 - accuracy: 0.1956\n",
            "Epoch 24/200\n",
            "244/244 - 8s - loss: 3.9671 - accuracy: 0.2175\n",
            "Epoch 25/200\n",
            "244/244 - 8s - loss: 3.8616 - accuracy: 0.2330\n",
            "Epoch 26/200\n",
            "244/244 - 8s - loss: 3.7582 - accuracy: 0.2499\n",
            "Epoch 27/200\n",
            "244/244 - 8s - loss: 3.6586 - accuracy: 0.2661\n",
            "Epoch 28/200\n",
            "244/244 - 8s - loss: 3.5629 - accuracy: 0.2844\n",
            "Epoch 29/200\n",
            "244/244 - 8s - loss: 3.4703 - accuracy: 0.2987\n",
            "Epoch 30/200\n",
            "244/244 - 8s - loss: 3.3801 - accuracy: 0.3162\n",
            "Epoch 31/200\n",
            "244/244 - 8s - loss: 3.2940 - accuracy: 0.3319\n",
            "Epoch 32/200\n",
            "244/244 - 8s - loss: 3.2101 - accuracy: 0.3488\n",
            "Epoch 33/200\n",
            "244/244 - 8s - loss: 3.1276 - accuracy: 0.3646\n",
            "Epoch 34/200\n",
            "244/244 - 8s - loss: 3.0479 - accuracy: 0.3806\n",
            "Epoch 35/200\n",
            "244/244 - 8s - loss: 2.9707 - accuracy: 0.3934\n",
            "Epoch 36/200\n",
            "244/244 - 8s - loss: 2.8961 - accuracy: 0.4095\n",
            "Epoch 37/200\n",
            "244/244 - 8s - loss: 2.8231 - accuracy: 0.4234\n",
            "Epoch 38/200\n",
            "244/244 - 8s - loss: 2.7494 - accuracy: 0.4361\n",
            "Epoch 39/200\n",
            "244/244 - 8s - loss: 2.6854 - accuracy: 0.4500\n",
            "Epoch 40/200\n",
            "244/244 - 8s - loss: 2.6155 - accuracy: 0.4661\n",
            "Epoch 41/200\n",
            "244/244 - 8s - loss: 2.5511 - accuracy: 0.4761\n",
            "Epoch 42/200\n",
            "244/244 - 8s - loss: 2.4868 - accuracy: 0.4935\n",
            "Epoch 43/200\n",
            "244/244 - 8s - loss: 2.4261 - accuracy: 0.5001\n",
            "Epoch 44/200\n",
            "244/244 - 8s - loss: 2.3654 - accuracy: 0.5198\n",
            "Epoch 45/200\n",
            "244/244 - 8s - loss: 2.3054 - accuracy: 0.5324\n",
            "Epoch 46/200\n",
            "244/244 - 8s - loss: 2.2487 - accuracy: 0.5374\n",
            "Epoch 47/200\n",
            "244/244 - 8s - loss: 2.1938 - accuracy: 0.5520\n",
            "Epoch 48/200\n",
            "244/244 - 8s - loss: 2.1378 - accuracy: 0.5672\n",
            "Epoch 49/200\n",
            "244/244 - 8s - loss: 2.0839 - accuracy: 0.5759\n",
            "Epoch 50/200\n",
            "244/244 - 8s - loss: 2.0334 - accuracy: 0.5859\n",
            "Epoch 51/200\n",
            "244/244 - 8s - loss: 1.9820 - accuracy: 0.5989\n",
            "Epoch 52/200\n",
            "244/244 - 8s - loss: 1.9301 - accuracy: 0.6126\n",
            "Epoch 53/200\n",
            "244/244 - 8s - loss: 1.8855 - accuracy: 0.6216\n",
            "Epoch 54/200\n",
            "244/244 - 8s - loss: 1.8316 - accuracy: 0.6305\n",
            "Epoch 55/200\n",
            "244/244 - 8s - loss: 1.7844 - accuracy: 0.6432\n",
            "Epoch 56/200\n",
            "244/244 - 8s - loss: 1.7403 - accuracy: 0.6508\n",
            "Epoch 57/200\n",
            "244/244 - 8s - loss: 1.6932 - accuracy: 0.6651\n",
            "Epoch 58/200\n",
            "244/244 - 8s - loss: 1.6502 - accuracy: 0.6732\n",
            "Epoch 59/200\n",
            "244/244 - 8s - loss: 1.6080 - accuracy: 0.6808\n",
            "Epoch 60/200\n",
            "244/244 - 8s - loss: 1.5663 - accuracy: 0.6887\n",
            "Epoch 61/200\n",
            "244/244 - 8s - loss: 1.5255 - accuracy: 0.6951\n",
            "Epoch 62/200\n",
            "244/244 - 8s - loss: 1.4850 - accuracy: 0.7091\n",
            "Epoch 63/200\n",
            "244/244 - 8s - loss: 1.4483 - accuracy: 0.7120\n",
            "Epoch 64/200\n",
            "244/244 - 8s - loss: 1.4102 - accuracy: 0.7238\n",
            "Epoch 65/200\n",
            "244/244 - 8s - loss: 1.3779 - accuracy: 0.7272\n",
            "Epoch 66/200\n",
            "244/244 - 8s - loss: 1.3366 - accuracy: 0.7357\n",
            "Epoch 67/200\n",
            "244/244 - 8s - loss: 1.3048 - accuracy: 0.7441\n",
            "Epoch 68/200\n",
            "244/244 - 8s - loss: 1.2683 - accuracy: 0.7523\n",
            "Epoch 69/200\n",
            "244/244 - 8s - loss: 1.2339 - accuracy: 0.7596\n",
            "Epoch 70/200\n",
            "244/244 - 8s - loss: 1.2039 - accuracy: 0.7630\n",
            "Epoch 71/200\n",
            "244/244 - 8s - loss: 1.1728 - accuracy: 0.7737\n",
            "Epoch 72/200\n",
            "244/244 - 8s - loss: 1.1419 - accuracy: 0.7780\n",
            "Epoch 73/200\n",
            "244/244 - 8s - loss: 1.1120 - accuracy: 0.7871\n",
            "Epoch 74/200\n",
            "244/244 - 8s - loss: 1.0840 - accuracy: 0.7921\n",
            "Epoch 75/200\n",
            "244/244 - 8s - loss: 1.0558 - accuracy: 0.7948\n",
            "Epoch 76/200\n",
            "244/244 - 8s - loss: 1.0306 - accuracy: 0.8006\n",
            "Epoch 77/200\n",
            "244/244 - 8s - loss: 1.0029 - accuracy: 0.8062\n",
            "Epoch 78/200\n",
            "244/244 - 8s - loss: 0.9755 - accuracy: 0.8144\n",
            "Epoch 79/200\n",
            "244/244 - 8s - loss: 0.9505 - accuracy: 0.8194\n",
            "Epoch 80/200\n",
            "244/244 - 8s - loss: 0.9310 - accuracy: 0.8207\n",
            "Epoch 81/200\n",
            "244/244 - 8s - loss: 0.9042 - accuracy: 0.8302\n",
            "Epoch 82/200\n",
            "244/244 - 8s - loss: 0.8787 - accuracy: 0.8343\n",
            "Epoch 83/200\n",
            "244/244 - 8s - loss: 0.8575 - accuracy: 0.8347\n",
            "Epoch 84/200\n",
            "244/244 - 8s - loss: 0.8345 - accuracy: 0.8443\n",
            "Epoch 85/200\n",
            "244/244 - 8s - loss: 0.8147 - accuracy: 0.8442\n",
            "Epoch 86/200\n",
            "244/244 - 8s - loss: 0.7940 - accuracy: 0.8484\n",
            "Epoch 87/200\n",
            "244/244 - 8s - loss: 0.7760 - accuracy: 0.8533\n",
            "Epoch 88/200\n",
            "244/244 - 8s - loss: 0.7580 - accuracy: 0.8572\n",
            "Epoch 89/200\n",
            "244/244 - 8s - loss: 0.7387 - accuracy: 0.8601\n",
            "Epoch 90/200\n",
            "244/244 - 8s - loss: 0.7195 - accuracy: 0.8644\n",
            "Epoch 91/200\n",
            "244/244 - 8s - loss: 0.7002 - accuracy: 0.8667\n",
            "Epoch 92/200\n",
            "244/244 - 8s - loss: 0.6852 - accuracy: 0.8715\n",
            "Epoch 93/200\n",
            "244/244 - 8s - loss: 0.6678 - accuracy: 0.8703\n",
            "Epoch 94/200\n",
            "244/244 - 8s - loss: 0.6531 - accuracy: 0.8749\n",
            "Epoch 95/200\n",
            "244/244 - 8s - loss: 0.6348 - accuracy: 0.8776\n",
            "Epoch 96/200\n",
            "244/244 - 8s - loss: 0.6237 - accuracy: 0.8788\n",
            "Epoch 97/200\n",
            "244/244 - 8s - loss: 0.6086 - accuracy: 0.8824\n",
            "Epoch 98/200\n",
            "244/244 - 8s - loss: 0.5997 - accuracy: 0.8825\n",
            "Epoch 99/200\n",
            "244/244 - 8s - loss: 0.5852 - accuracy: 0.8868\n",
            "Epoch 100/200\n",
            "244/244 - 8s - loss: 0.5699 - accuracy: 0.8893\n",
            "Epoch 101/200\n",
            "244/244 - 8s - loss: 0.5553 - accuracy: 0.8906\n",
            "Epoch 102/200\n",
            "244/244 - 8s - loss: 0.5424 - accuracy: 0.8943\n",
            "Epoch 103/200\n",
            "244/244 - 8s - loss: 0.5318 - accuracy: 0.8917\n",
            "Epoch 104/200\n",
            "244/244 - 8s - loss: 0.5208 - accuracy: 0.8968\n",
            "Epoch 105/200\n",
            "244/244 - 8s - loss: 0.5099 - accuracy: 0.8980\n",
            "Epoch 106/200\n",
            "244/244 - 8s - loss: 0.5007 - accuracy: 0.8990\n",
            "Epoch 107/200\n",
            "244/244 - 8s - loss: 0.4933 - accuracy: 0.9018\n",
            "Epoch 108/200\n",
            "244/244 - 8s - loss: 0.4880 - accuracy: 0.9016\n",
            "Epoch 109/200\n",
            "244/244 - 8s - loss: 0.4725 - accuracy: 0.9039\n",
            "Epoch 110/200\n",
            "244/244 - 8s - loss: 0.4631 - accuracy: 0.9040\n",
            "Epoch 111/200\n",
            "244/244 - 8s - loss: 0.4521 - accuracy: 0.9040\n",
            "Epoch 112/200\n",
            "244/244 - 8s - loss: 0.4461 - accuracy: 0.9053\n",
            "Epoch 113/200\n",
            "244/244 - 8s - loss: 0.4350 - accuracy: 0.9072\n",
            "Epoch 114/200\n",
            "244/244 - 8s - loss: 0.4291 - accuracy: 0.9073\n",
            "Epoch 115/200\n",
            "244/244 - 8s - loss: 0.4245 - accuracy: 0.9095\n",
            "Epoch 116/200\n",
            "244/244 - 8s - loss: 0.4167 - accuracy: 0.9085\n",
            "Epoch 117/200\n",
            "244/244 - 8s - loss: 0.4162 - accuracy: 0.9072\n",
            "Epoch 118/200\n",
            "244/244 - 8s - loss: 0.4094 - accuracy: 0.9103\n",
            "Epoch 119/200\n",
            "244/244 - 8s - loss: 0.3963 - accuracy: 0.9122\n",
            "Epoch 120/200\n",
            "244/244 - 8s - loss: 0.3899 - accuracy: 0.9114\n",
            "Epoch 121/200\n",
            "244/244 - 8s - loss: 0.3839 - accuracy: 0.9114\n",
            "Epoch 122/200\n",
            "244/244 - 8s - loss: 0.3773 - accuracy: 0.9114\n",
            "Epoch 123/200\n",
            "244/244 - 8s - loss: 0.3740 - accuracy: 0.9127\n",
            "Epoch 124/200\n",
            "244/244 - 8s - loss: 0.3695 - accuracy: 0.9144\n",
            "Epoch 125/200\n",
            "244/244 - 8s - loss: 0.3638 - accuracy: 0.9140\n",
            "Epoch 126/200\n",
            "244/244 - 8s - loss: 0.3572 - accuracy: 0.9155\n",
            "Epoch 127/200\n",
            "244/244 - 8s - loss: 0.3540 - accuracy: 0.9144\n",
            "Epoch 128/200\n",
            "244/244 - 8s - loss: 0.3484 - accuracy: 0.9162\n",
            "Epoch 129/200\n",
            "244/244 - 8s - loss: 0.3452 - accuracy: 0.9140\n",
            "Epoch 130/200\n",
            "244/244 - 8s - loss: 0.3429 - accuracy: 0.9166\n",
            "Epoch 131/200\n",
            "244/244 - 8s - loss: 0.3387 - accuracy: 0.9155\n",
            "Epoch 132/200\n",
            "244/244 - 8s - loss: 0.3333 - accuracy: 0.9159\n",
            "Epoch 133/200\n",
            "244/244 - 8s - loss: 0.3308 - accuracy: 0.9158\n",
            "Epoch 134/200\n",
            "244/244 - 8s - loss: 0.3335 - accuracy: 0.9152\n",
            "Epoch 135/200\n",
            "244/244 - 8s - loss: 0.3440 - accuracy: 0.9123\n",
            "Epoch 136/200\n",
            "244/244 - 8s - loss: 0.3587 - accuracy: 0.9088\n",
            "Epoch 137/200\n",
            "244/244 - 8s - loss: 0.3243 - accuracy: 0.9159\n",
            "Epoch 138/200\n",
            "244/244 - 8s - loss: 0.3151 - accuracy: 0.9154\n",
            "Epoch 139/200\n",
            "244/244 - 8s - loss: 0.3122 - accuracy: 0.9158\n",
            "Epoch 140/200\n",
            "244/244 - 8s - loss: 0.3093 - accuracy: 0.9175\n",
            "Epoch 141/200\n",
            "244/244 - 8s - loss: 0.3080 - accuracy: 0.9140\n",
            "Epoch 142/200\n",
            "244/244 - 8s - loss: 0.3051 - accuracy: 0.9158\n",
            "Epoch 143/200\n",
            "244/244 - 8s - loss: 0.3043 - accuracy: 0.9168\n",
            "Epoch 144/200\n",
            "244/244 - 8s - loss: 0.3014 - accuracy: 0.9162\n",
            "Epoch 145/200\n",
            "244/244 - 8s - loss: 0.3010 - accuracy: 0.9162\n",
            "Epoch 146/200\n",
            "244/244 - 8s - loss: 0.2999 - accuracy: 0.9170\n",
            "Epoch 147/200\n",
            "244/244 - 8s - loss: 0.2981 - accuracy: 0.9170\n",
            "Epoch 148/200\n",
            "244/244 - 8s - loss: 0.2950 - accuracy: 0.9164\n",
            "Epoch 149/200\n",
            "244/244 - 8s - loss: 0.2948 - accuracy: 0.9159\n",
            "Epoch 150/200\n",
            "244/244 - 8s - loss: 0.2920 - accuracy: 0.9154\n",
            "Epoch 151/200\n",
            "244/244 - 8s - loss: 0.2914 - accuracy: 0.9159\n",
            "Epoch 152/200\n",
            "244/244 - 8s - loss: 0.2950 - accuracy: 0.9149\n",
            "Epoch 153/200\n",
            "244/244 - 8s - loss: 0.3843 - accuracy: 0.8965\n",
            "Epoch 154/200\n",
            "244/244 - 8s - loss: 0.3069 - accuracy: 0.9154\n",
            "Epoch 155/200\n",
            "244/244 - 8s - loss: 0.2883 - accuracy: 0.9176\n",
            "Epoch 156/200\n",
            "244/244 - 8s - loss: 0.2836 - accuracy: 0.9173\n",
            "Epoch 157/200\n",
            "244/244 - 8s - loss: 0.2821 - accuracy: 0.9166\n",
            "Epoch 158/200\n",
            "244/244 - 8s - loss: 0.2812 - accuracy: 0.9168\n",
            "Epoch 159/200\n",
            "244/244 - 8s - loss: 0.2814 - accuracy: 0.9176\n",
            "Epoch 160/200\n",
            "244/244 - 8s - loss: 0.2791 - accuracy: 0.9173\n",
            "Epoch 161/200\n",
            "244/244 - 8s - loss: 0.2785 - accuracy: 0.9164\n",
            "Epoch 162/200\n",
            "244/244 - 8s - loss: 0.2783 - accuracy: 0.9182\n",
            "Epoch 163/200\n",
            "244/244 - 8s - loss: 0.2771 - accuracy: 0.9172\n",
            "Epoch 164/200\n",
            "244/244 - 8s - loss: 0.2767 - accuracy: 0.9173\n",
            "Epoch 165/200\n",
            "244/244 - 8s - loss: 0.2752 - accuracy: 0.9170\n",
            "Epoch 166/200\n",
            "244/244 - 8s - loss: 0.2780 - accuracy: 0.9161\n",
            "Epoch 167/200\n",
            "244/244 - 8s - loss: 0.2750 - accuracy: 0.9166\n",
            "Epoch 168/200\n",
            "244/244 - 8s - loss: 0.2752 - accuracy: 0.9155\n",
            "Epoch 169/200\n",
            "244/244 - 8s - loss: 0.2735 - accuracy: 0.9166\n",
            "Epoch 170/200\n",
            "244/244 - 8s - loss: 0.2730 - accuracy: 0.9164\n",
            "Epoch 171/200\n",
            "244/244 - 8s - loss: 0.2731 - accuracy: 0.9170\n",
            "Epoch 172/200\n",
            "244/244 - 8s - loss: 0.2774 - accuracy: 0.9158\n",
            "Epoch 173/200\n",
            "244/244 - 8s - loss: 0.2779 - accuracy: 0.9161\n",
            "Epoch 174/200\n",
            "244/244 - 8s - loss: 0.2804 - accuracy: 0.9164\n",
            "Epoch 175/200\n",
            "244/244 - 8s - loss: 0.2763 - accuracy: 0.9173\n",
            "Epoch 176/200\n",
            "244/244 - 8s - loss: 0.2751 - accuracy: 0.9159\n",
            "Epoch 177/200\n",
            "244/244 - 8s - loss: 0.2728 - accuracy: 0.9179\n",
            "Epoch 178/200\n",
            "244/244 - 8s - loss: 0.2696 - accuracy: 0.9167\n",
            "Epoch 179/200\n",
            "244/244 - 8s - loss: 0.2677 - accuracy: 0.9170\n",
            "Epoch 180/200\n",
            "244/244 - 8s - loss: 0.2681 - accuracy: 0.9166\n",
            "Epoch 181/200\n",
            "244/244 - 8s - loss: 0.2668 - accuracy: 0.9170\n",
            "Epoch 182/200\n",
            "244/244 - 8s - loss: 0.2665 - accuracy: 0.9166\n",
            "Epoch 183/200\n",
            "244/244 - 8s - loss: 0.2671 - accuracy: 0.9159\n",
            "Epoch 184/200\n",
            "244/244 - 8s - loss: 0.2673 - accuracy: 0.9167\n",
            "Epoch 185/200\n",
            "244/244 - 8s - loss: 0.2651 - accuracy: 0.9162\n",
            "Epoch 186/200\n",
            "244/244 - 8s - loss: 0.2654 - accuracy: 0.9171\n",
            "Epoch 187/200\n",
            "244/244 - 8s - loss: 0.2655 - accuracy: 0.9166\n",
            "Epoch 188/200\n",
            "244/244 - 8s - loss: 0.2675 - accuracy: 0.9170\n",
            "Epoch 189/200\n",
            "244/244 - 8s - loss: 0.2647 - accuracy: 0.9161\n",
            "Epoch 190/200\n",
            "244/244 - 8s - loss: 0.2645 - accuracy: 0.9163\n",
            "Epoch 191/200\n",
            "244/244 - 8s - loss: 0.2643 - accuracy: 0.9161\n",
            "Epoch 192/200\n",
            "244/244 - 8s - loss: 0.2638 - accuracy: 0.9166\n",
            "Epoch 193/200\n",
            "244/244 - 7s - loss: 0.2662 - accuracy: 0.9157\n",
            "Epoch 194/200\n",
            "244/244 - 8s - loss: 0.3023 - accuracy: 0.9076\n",
            "Epoch 195/200\n",
            "244/244 - 8s - loss: 0.3059 - accuracy: 0.9072\n",
            "Epoch 196/200\n",
            "244/244 - 8s - loss: 0.2676 - accuracy: 0.9164\n",
            "Epoch 197/200\n",
            "244/244 - 8s - loss: 0.2626 - accuracy: 0.9166\n",
            "Epoch 198/200\n",
            "244/244 - 8s - loss: 0.2604 - accuracy: 0.9170\n",
            "Epoch 199/200\n",
            "244/244 - 8s - loss: 0.2601 - accuracy: 0.9173\n",
            "Epoch 200/200\n",
            "244/244 - 8s - loss: 0.2596 - accuracy: 0.9171\n"
          ],
          "name": "stdout"
        },
        {
          "output_type": "execute_result",
          "data": {
            "text/plain": [
              "<tensorflow.python.keras.callbacks.History at 0x7f71a976b780>"
            ]
          },
          "metadata": {
            "tags": []
          },
          "execution_count": 47
        }
      ]
    },
    {
      "cell_type": "code",
      "metadata": {
        "id": "zQwiZ6_ZQL09",
        "colab_type": "code",
        "colab": {}
      },
      "source": [
        "def sentence_generation(model, t, current_word, n): # 모델, 토크나이저, 현재 단어, 반복할 횟수\n",
        "    init_word = current_word # 처음 들어온 단어도 마지막에 같이 출력하기위해 저장\n",
        "    sentence = ''\n",
        "    for _ in range(n): # n번 반복\n",
        "        encoded = t.texts_to_sequences([current_word])[0] # 현재 단어에 대한 정수 인코딩\n",
        "        encoded = pad_sequences([encoded], maxlen=23, padding='pre') # 데이터에 대한 패딩\n",
        "        result = model.predict_classes(encoded, verbose=0)\n",
        "    # 입력한 X(현재 단어)에 대해서 y를 예측하고 y(예측한 단어)를 result에 저장.\n",
        "        for word, index in t.word_index.items(): \n",
        "            if index == result: # 만약 예측한 단어와 인덱스와 동일한 단어가 있다면\n",
        "                break # 해당 단어가 예측 단어이므로 break\n",
        "        current_word = current_word + ' '  + word # 현재 단어 + ' ' + 예측 단어를 현재 단어로 변경\n",
        "        sentence = sentence + ' ' + word # 예측 단어를 문장에 저장\n",
        "    # for문이므로 이 행동을 다시 반복\n",
        "    sentence = init_word + sentence\n",
        "    return sentence"
      ],
      "execution_count": 0,
      "outputs": []
    },
    {
      "cell_type": "code",
      "metadata": {
        "id": "zS7WHqwVRPpw",
        "colab_type": "code",
        "outputId": "5ed34098-a5e7-4848-a5ca-99c44dd570e6",
        "colab": {
          "base_uri": "https://localhost:8080/",
          "height": 34
        }
      },
      "source": [
        "print(sentence_generation(model, t, 'what the', 10))"
      ],
      "execution_count": 0,
      "outputs": [
        {
          "output_type": "stream",
          "text": [
            "what the heck is that babas provoked art fires mueller is you\n"
          ],
          "name": "stdout"
        }
      ]
    },
    {
      "cell_type": "code",
      "metadata": {
        "id": "_hA1a4q8YgC1",
        "colab_type": "code",
        "outputId": "cd769153-cd4d-4f1f-f4a9-29f60fc4d1d1",
        "colab": {
          "base_uri": "https://localhost:8080/",
          "height": 34
        }
      },
      "source": [
        "print(sentence_generation(model, t, 'how old', 10))"
      ],
      "execution_count": 0,
      "outputs": [
        {
          "output_type": "stream",
          "text": [
            "how old are home buyers can worries dont music on the exits\n"
          ],
          "name": "stdout"
        }
      ]
    },
    {
      "cell_type": "code",
      "metadata": {
        "id": "rHVR6gHHYqrH",
        "colab_type": "code",
        "colab": {}
      },
      "source": [
        ""
      ],
      "execution_count": 0,
      "outputs": []
    }
  ]
}